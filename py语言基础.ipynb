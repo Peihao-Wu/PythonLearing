{
 "cells": [
  {
   "attachments": {},
   "cell_type": "markdown",
   "metadata": {},
   "source": [
    "# Python语言基础\n",
    "选择内核base(Python 3.9.13)"
   ]
  },
  {
   "cell_type": "code",
   "execution_count": 6,
   "metadata": {},
   "outputs": [],
   "source": [
    "import pipe"
   ]
  },
  {
   "attachments": {},
   "cell_type": "markdown",
   "metadata": {},
   "source": [
    "## 1. Python基础语法"
   ]
  },
  {
   "cell_type": "code",
   "execution_count": 7,
   "metadata": {},
   "outputs": [
    {
     "name": "stdout",
     "output_type": "stream",
     "text": [
      "Hello World!\n",
      "Hello World!\n"
     ]
    }
   ],
   "source": [
    "# 这是输出函数（单行注释）\n",
    "print (\"Hello World!\");  # 这是输出函数（单行注释）\n",
    "\n",
    "'''\n",
    "这是使用3个单引号的多行注释\n",
    "这是使用3个单引号的多行注释\n",
    "'''\n",
    "print (\"Hello World!\")"
   ]
  },
  {
   "cell_type": "code",
   "execution_count": 8,
   "metadata": {},
   "outputs": [
    {
     "name": "stdout",
     "output_type": "stream",
     "text": [
      "正确缩进...\n",
      "Hello World!\n"
     ]
    }
   ],
   "source": [
    "# 缩进\n",
    "if True :\n",
    "    print(\"正确缩进...\")\n",
    "    print (\"Hello World!\")\n",
    "else :\n",
    "    print (\"你好！欢迎到Java社区来！\")"
   ]
  },
  {
   "cell_type": "code",
   "execution_count": 9,
   "metadata": {},
   "outputs": [
    {
     "name": "stdout",
     "output_type": "stream",
     "text": [
      "6\n",
      "['Monday', 'Tuesday', 'Wednesday', 'Thursday', 'Friday']\n"
     ]
    }
   ],
   "source": [
    "# 多行语句\n",
    "item_one = 1\n",
    "item_two = 2\n",
    "item_three = 3\n",
    "total = item_one + \\\n",
    "    item_two + \\\n",
    "    item_three\n",
    "print (total)   #注意Python 3版本的print的输出内容要放在圆括号中\n",
    "\n",
    "# 但是在Python中，如果[]，{}或(）里面有多行语句，\n",
    "# 在换行时不需要使用反斜杠（“\\”），\n",
    "# 而是使用逗号换行即可\n",
    "days = ['Monday', 'Tuesday', 'Wednesday',\n",
    "    'Thursday', 'Friday']\n",
    "print (days)\n",
    "del item_one, item_two, item_three, total, days"
   ]
  },
  {
   "cell_type": "code",
   "execution_count": 10,
   "metadata": {},
   "outputs": [
    {
     "name": "stdout",
     "output_type": "stream",
     "text": [
      "1\n"
     ]
    }
   ],
   "source": [
    "# 输入函数\n",
    "a = input(\"\\n\\n按下 enter 键后退出。\")\n",
    "print (a)\n",
    "del a"
   ]
  },
  {
   "cell_type": "code",
   "execution_count": 11,
   "metadata": {},
   "outputs": [
    {
     "name": "stdout",
     "output_type": "stream",
     "text": [
      "2\n",
      "3\n",
      "2,3"
     ]
    }
   ],
   "source": [
    "# print函数默认输出是换行的，\n",
    "# 如果要实现不换行输出就需要在变量末尾加上end=\"\"，\n",
    "# 便可实现不换行输出\n",
    "\n",
    "a = 2; b = 3;\n",
    "print (a)\n",
    "print (b)\n",
    "print (a, end=\",\")\n",
    "print (b, end=\"\")\n",
    "del a, b"
   ]
  },
  {
   "cell_type": "code",
   "execution_count": 12,
   "metadata": {},
   "outputs": [
    {
     "name": "stdout",
     "output_type": "stream",
     "text": [
      "================Python import mode==========================\n",
      "命令行参数为:\n",
      "c:\\ProgramData\\Anaconda3\\envs\\tf_env\\lib\\site-packages\\ipykernel_launcher.py\n",
      "--ip=127.0.0.1\n",
      "--stdin=9003\n",
      "--control=9001\n",
      "--hb=9000\n",
      "--Session.signature_scheme=\"hmac-sha256\"\n",
      "--Session.key=b\"0d3c05ae-13d5-4e95-9528-169012f93b03\"\n",
      "--shell=9002\n",
      "--transport=\"tcp\"\n",
      "--iopub=9004\n",
      "--f=c:\\Users\\15151\\AppData\\Roaming\\jupyter\\runtime\\kernel-v2-17188S6VlbdZie4KV.json\n",
      "\n",
      " python 路径为 ['c:\\\\Users\\\\15151\\\\Desktop\\\\PythonLearing', 'c:\\\\ProgramData\\\\Anaconda3\\\\envs\\\\tf_env\\\\python39.zip', 'c:\\\\ProgramData\\\\Anaconda3\\\\envs\\\\tf_env\\\\DLLs', 'c:\\\\ProgramData\\\\Anaconda3\\\\envs\\\\tf_env\\\\lib', 'c:\\\\ProgramData\\\\Anaconda3\\\\envs\\\\tf_env', '', 'C:\\\\Users\\\\15151\\\\AppData\\\\Roaming\\\\Python\\\\Python39\\\\site-packages', 'c:\\\\ProgramData\\\\Anaconda3\\\\envs\\\\tf_env\\\\lib\\\\site-packages', 'c:\\\\ProgramData\\\\Anaconda3\\\\envs\\\\tf_env\\\\lib\\\\site-packages\\\\win32', 'c:\\\\ProgramData\\\\Anaconda3\\\\envs\\\\tf_env\\\\lib\\\\site-packages\\\\win32\\\\lib', 'c:\\\\ProgramData\\\\Anaconda3\\\\envs\\\\tf_env\\\\lib\\\\site-packages\\\\Pythonwin']\n"
     ]
    }
   ],
   "source": [
    "# import 与 from...import\n",
    "# 在 python 用 import 或者 from...import 来导入相应的模块。\n",
    "# 将整个模块(somemodule)导入，格式为： import somemodule\n",
    "# 从某个模块中导入某个函数,格式为： from somemodule import somefunction\n",
    "# 从某个模块中导入多个函数,格式为： from somemodule import firstfunc, secondfunc, thirdfunc\n",
    "# 将某个模块中的全部函数导入，格式为： from somemodule import *\n",
    "# 导入sys模块\n",
    "import sys\n",
    "print ('================Python import mode==========================');\n",
    "print ('命令行参数为:')\n",
    "for i in sys.argv:\n",
    "    print (i)\n",
    "print ('\\n python 路径为', sys.path)\n",
    "del sys, i"
   ]
  },
  {
   "cell_type": "code",
   "execution_count": 13,
   "metadata": {},
   "outputs": [
    {
     "name": "stdout",
     "output_type": "stream",
     "text": [
      "1 2 john\n"
     ]
    }
   ],
   "source": [
    "#Python可以为多个对象指定多个变量\n",
    "a, b, c = 1, 2, \"john\"\n",
    "print(a, b, c)\n",
    "del a, b, c"
   ]
  },
  {
   "attachments": {},
   "cell_type": "markdown",
   "metadata": {},
   "source": [
    "## 2. Python数据类型"
   ]
  },
  {
   "attachments": {},
   "cell_type": "markdown",
   "metadata": {},
   "source": [
    "### 2.1 数字"
   ]
  },
  {
   "cell_type": "code",
   "execution_count": 14,
   "metadata": {},
   "outputs": [
    {
     "name": "stdout",
     "output_type": "stream",
     "text": [
      "<class 'int'> <class 'float'> <class 'bool'> <class 'complex'>\n"
     ]
    }
   ],
   "source": [
    "# 数字\n",
    "# Python支持四种不同的数字类型：\n",
    "# int（有符号整型）\n",
    "# bool（布尔型）\n",
    "# float（浮点型）\n",
    "# complex（复数）\n",
    "# Python还支持复数，复数由实数部分和虚数部分构成，\n",
    "# 可以用a + bj,或者complex(a,b)表示， 复数的实部a和虚部b都是浮点型\n",
    "a, b, c, d = 20, 5.5, True, 4+3j\n",
    "print(type(a), type(b), type(c), type(d))\n",
    "del a, b, c, d"
   ]
  },
  {
   "cell_type": "code",
   "execution_count": 15,
   "metadata": {},
   "outputs": [
    {
     "name": "stdout",
     "output_type": "stream",
     "text": [
      "<class 'float'> <class 'int'> <class 'int'> <class 'complex'>\n",
      "1 2 3\n",
      "1.0 2.0 3.0\n",
      "(1+0j) (2+0j) (3+0j) (4+3j)\n",
      "(1+2j) (2+3j) 4j (4+4j)\n"
     ]
    }
   ],
   "source": [
    "# 数字类型转换\n",
    "# int(x) 将x转换为一个整数。\n",
    "# float(x) 将x转换到一个浮点数。\n",
    "# complex(x) 将x转换到一个复数，实数部分为 x，虚数部分为 0。\n",
    "# complex(x, y) 将 x 和 y 转换到一个复数，实数部分为 x，虚数部分为 y。\n",
    "a, b, c, d = 1.0, 2, 3, 4+3j\n",
    "print(type(a), type(b), type(c), type(d))\n",
    "print(int(a), int(b), int(c))\n",
    "print(float(a), float(b), float(c))\n",
    "print(complex(a), complex(b), complex(c), complex(d))\n",
    "print(complex(a, b), complex(b, c), complex(c, d), complex(d, a))\n",
    "del a, b, c, d"
   ]
  },
  {
   "cell_type": "code",
   "execution_count": 16,
   "metadata": {},
   "outputs": [
    {
     "name": "stdout",
     "output_type": "stream",
     "text": [
      "20\n",
      "14\n",
      "51\n",
      "5.666666666666667\n",
      "5\n",
      "2\n",
      "4913\n",
      "8.5\n",
      "8.0\n",
      "1.0\n",
      "289.0\n",
      "(2.72-2.04j)\n",
      "(-50256.62645322809+66708.53722381187j)\n"
     ]
    }
   ],
   "source": [
    "# 数字运算\n",
    "# Python可以同时为多个变量赋值，如a, b = 1, 2。\n",
    "# 一个变量可以通过赋值指向不同类型的对象。\n",
    "# 数字的除法（/）总是返回一个浮点数，要获取整数使用//操作符。\n",
    "# 在混合计算时，Python会把整型转换成为浮点数。\n",
    "# 在交互模式中，最后被输出的表达式结果被赋值给变量\n",
    "a, b, c, d = 17, 3, 2.0, 4+3j\n",
    "print(a + b)\n",
    "print(a - b)\n",
    "print(a * b)\n",
    "print(a / b)\n",
    "print(a // b)\n",
    "print(a % b)\n",
    "print(a ** b)\n",
    "print(a / c)\n",
    "print(a // c)\n",
    "print(a % c)\n",
    "print(a ** c)\n",
    "print(a / d)\n",
    "print(a ** d)\n",
    "del a, b, c, d"
   ]
  },
  {
   "attachments": {},
   "cell_type": "markdown",
   "metadata": {},
   "source": [
    "### 2.2 字符串"
   ]
  },
  {
   "cell_type": "code",
   "execution_count": 17,
   "metadata": {},
   "outputs": [
    {
     "name": "stdout",
     "output_type": "stream",
     "text": [
      "学生\n",
      "教师\n",
      "这是一个工作简历\n",
      "        包含了多个工作经历\n"
     ]
    }
   ],
   "source": [
    "student = '学生'       #用单引号(')标识字符串\n",
    "teacher = \"教师\"       #用双引号(\")标识字符串\n",
    "#用三引号(\"\"\")标识多行字符串\n",
    "work = \"\"\"这是一个工作简历\n",
    "        包含了多个工作经历\"\"\"\n",
    "#输出字符串\n",
    "print(student)\n",
    "print(teacher)\n",
    "print(work)\n",
    "del student, teacher, work"
   ]
  },
  {
   "cell_type": "code",
   "execution_count": 18,
   "metadata": {},
   "outputs": [
    {
     "name": "stdout",
     "output_type": "stream",
     "text": [
      "\n",
      "<HTML>\n",
      "<HEAD><TITLE>\n",
      "Python Demo</TITLE></HEAD>\n",
      "<BODY>\n",
      "<H3>输出语句</H3>\n",
      "<p>print(\"Hello Python!\")\n",
      "</BODY>\n",
      "</HTML>\n",
      "\n"
     ]
    }
   ],
   "source": [
    "#用三引号表示的注释\n",
    "'''\n",
    "用三引号标识的\n",
    "html文档字符串\n",
    "'''\n",
    "#用三引号表示多行字符串,其中\\n表示换行符\n",
    "html_str = '''\n",
    "<HTML>\\n<HEAD><TITLE>\n",
    "Python Demo</TITLE></HEAD>\n",
    "<BODY>\\n<H3>输出语句</H3>\n",
    "<p>print(\"Hello Python!\")\n",
    "</BODY>\\n</HTML>\n",
    "'''\n",
    "print(html_str)\n",
    "del html_str"
   ]
  },
  {
   "cell_type": "code",
   "execution_count": 19,
   "metadata": {},
   "outputs": [
    {
     "name": "stdout",
     "output_type": "stream",
     "text": [
      "Hello\n",
      "Python!\n",
      "Hello\tPython!\n",
      "Python!\n",
      "Hello\fPython!\n",
      "Hello\u0007Python!\n",
      "HellPython!\n",
      "Hello\\Python!\n",
      "Hello'Python!\n",
      "Hello\"Python!\n",
      "Hello\u0000Python!\n",
      "Hello\u000bPython!\n"
     ]
    }
   ],
   "source": [
    "# Python转义字符\n",
    "# \\(在行尾时) 续行符\n",
    "# \\\\ 反斜杠符号\n",
    "# \\' 单引号\n",
    "# \\\" 双引号\n",
    "# \\a 响铃\n",
    "# \\b 退格(Backspace)\n",
    "# \\e 转义\n",
    "# \\000 空\n",
    "# \\n 换行\n",
    "# \\v 纵向制表符\n",
    "# \\t 横向制表符\n",
    "# \\r 回车\n",
    "# \\f 换页\n",
    "print(\"Hello\\nPython!\")\n",
    "print(\"Hello\\tPython!\")\n",
    "print(\"Hello\\rPython!\")\n",
    "print(\"Hello\\fPython!\")\n",
    "print(\"Hello\\aPython!\")\n",
    "print(\"Hello\\bPython!\")\n",
    "print(\"Hello\\\\Python!\")\n",
    "print(\"Hello\\'Python!\")\n",
    "print(\"Hello\\\"Python!\")\n",
    "print(\"Hello\\000Python!\")\n",
    "print(\"Hello\\vPython!\")"
   ]
  },
  {
   "attachments": {},
   "cell_type": "markdown",
   "metadata": {},
   "source": [
    "字符串索引\n",
    "Python中的字符串有两种索引方式，从左往右以0开始，从右往左以-1开始。"
   ]
  },
  {
   "attachments": {},
   "cell_type": "markdown",
   "metadata": {},
   "source": [
    "**字符串的操作**"
   ]
  },
  {
   "cell_type": "code",
   "execution_count": 20,
   "metadata": {},
   "outputs": [
    {
     "name": "stdout",
     "output_type": "stream",
     "text": [
      "el\n"
     ]
    }
   ],
   "source": [
    "# 字符串提取\n",
    "# Python 列表截取可以接收第三个参数，参数作用是截取的步长，\n",
    "# 以下实例在索引 1 到索引 4 的位置并设置为步长为 2（间隔一个位置）来截取字符串\n",
    "str = 'Hello World!'\n",
    "print(str[1:4:2])\n",
    "del str"
   ]
  },
  {
   "cell_type": "code",
   "execution_count": 21,
   "metadata": {},
   "outputs": [
    {
     "name": "stdout",
     "output_type": "stream",
     "text": [
      "Hello World!\n",
      "H\n",
      "llo\n",
      "llo World!\n",
      "Hello World!Hello World!\n",
      "Hello World!TEST\n"
     ]
    }
   ],
   "source": [
    "# 字符串切片\n",
    "# 变量[头下标:尾下标]\n",
    "# 索引值以 0 为开始值，-1 为从末尾的开始位置。\n",
    "# 加号（+）是字符串连接运算符，星号（*）是重复操作。\n",
    "str = 'Hello World!'\n",
    "print(str)           # 输出完整字符串\n",
    "print(str[0])        # 输出字符串中的第一个字符\n",
    "print(str[2:5])      # 输出字符串中第三个至第五个之间的字符串\n",
    "print(str[2:])       # 输出从第三个字符开始的字符串\n",
    "print(str * 2)       # 输出字符串两次\n",
    "print(str + \"TEST\")  # 输出连接的字符串\n",
    "del str"
   ]
  },
  {
   "cell_type": "code",
   "execution_count": 22,
   "metadata": {},
   "outputs": [
    {
     "name": "stdout",
     "output_type": "stream",
     "text": [
      "HelloPython\n"
     ]
    }
   ],
   "source": [
    "# 字符串拼接\n",
    "# Python使用+操作符来拼接字符串\n",
    "str1 = 'Hello'\n",
    "str2 = 'Python'\n",
    "print(str1 + str2)\n",
    "del str1, str2"
   ]
  },
  {
   "cell_type": "code",
   "execution_count": 23,
   "metadata": {},
   "outputs": [
    {
     "name": "stdout",
     "output_type": "stream",
     "text": [
      "False\n",
      "True\n"
     ]
    }
   ],
   "source": [
    "# 判断字符串是否包含指定字符串\n",
    "# in/not in 用于判断指定字符串是否包含在字符串中，如果包含返回True，否则返回False\n",
    "str1 = 'Hello'\n",
    "str2 = 'Python'\n",
    "print(str1 in str2)\n",
    "print(str2 not in str1)\n",
    "del str1, str2"
   ]
  },
  {
   "cell_type": "code",
   "execution_count": 24,
   "metadata": {},
   "outputs": [
    {
     "name": "stdout",
     "output_type": "stream",
     "text": [
      "str1: Hello, str2: Python\n",
      "str1: Python, str2: Hello\n",
      "str1: Hello, str2: Python\n",
      "str1: Python, str2: Hello\n"
     ]
    }
   ],
   "source": [
    "# 字符串格式化\n",
    "# Python支持格式化字符串的输出，使用字符串的format()方法来格式化字符串\n",
    "# 在括号中使用变量名\n",
    "str1 = 'Hello'\n",
    "str2 = 'Python'\n",
    "print(\"str1: {0}, str2: {1}\".format(str1, str2))\n",
    "print(\"str1: {0}, str2: {1}\".format(str2, str1))\n",
    "del str1, str2\n",
    "# 格式化操作符\n",
    "# %c 格式化字符及其ASCII码\n",
    "# %s 格式化字符串\n",
    "# %d 格式化整数\n",
    "# %u 格式化无符号整型\n",
    "# %o 格式化无符号八进制数\n",
    "# %x 格式化无符号十六进制数\n",
    "# %X 格式化无符号十六进制数（大写）\n",
    "# %f 格式化浮点数字，可指定小数点后的精度\n",
    "# %e 用科学计数法格式化浮点数\n",
    "# %E 作用同%e，用科学计数法格式化浮点数\n",
    "# %g %f和%e的简写\n",
    "# %G %f和%E的简写\n",
    "# %p 用十六进制数格式化变量的地址\n",
    "str1 = 'Hello'\n",
    "str2 = 'Python'\n",
    "print(\"str1: %s, str2: %s\" % (str1, str2))\n",
    "print(\"str1: %s, str2: %s\" % (str2, str1))\n",
    "del str1, str2"
   ]
  },
  {
   "attachments": {},
   "cell_type": "markdown",
   "metadata": {},
   "source": [
    "### 2.3 Python的数据结构构成"
   ]
  },
  {
   "attachments": {},
   "cell_type": "markdown",
   "metadata": {},
   "source": [
    "**数据结构类型**  \n",
    "Python有6个标准的数据类型：  \n",
    "Numbers（数字）  \n",
    "String（字符串）  \n",
    "List（列表）  \n",
    "Tuple（元组）  \n",
    "Dictionary（字典）  \n",
    "Set（集合）  \n",
    "\n",
    "*Python的6个标准数据类型中：*  \n",
    "有不可变数据（3 个）：Number（数字）、String（字符串）、Tuple（元组）；  \n",
    "有可变数据（3 个）：List（列表）、Dictionary（字典）、Set（集合）。  \n",
    "\n",
    "*Number（数字）*  \n",
    "Python3 支持 int、float、bool、complex（复数）。  \n",
    "在Python 3里，只有一种整数类型 int，表示为长整型，没有 python2 中的 Long。  \n",
    "像大多数语言一样，数值类型的赋值和计算都是很直观的。  \n",
    "内置的 type() 函数可以用来查询变量所指的对象类型。  \n",
    "可以使用del语句删除一些对象引用。  \n",
    "可以使用isinstance来判断一个对象是否是一个已知的类型。  \n",
    "isinstance 和 type 的区别在于：  \n",
    "type() 不会认为子类是一种父类类型。  \n",
    "isinstance() 会认为子类是一种父类类型。  \n",
    "\n",
    "**序列类型**  \n",
    "Python的序列类型包括字符串、列表、元组  \n",
    "序列类型的共同点是：都可以通过索引得到每一个元素，可以进行截取、组合等  \n",
    "序列类型的不同点是：字符串是不可变的，而列表和元组是可变的  \n",
    "序列类型的通用操作符  \n",
    "x in s 如果x是s的元素，返回True，否则返回False   \n",
    "x not in s 如果x不是s的元素，返回True，否则返回False  \n",
    "s + t 连接两个序列s和t  \n",
    "s * n 或 n * s 将序列s复制n次   \n",
    "s[i] 索引，返回s中的第i个元素，i是序列的下标  \n",
    "s[i:j] 切片，返回序列s中第i到j之间的元素，不包含j  \n",
    "s[i:j:k] 步长为k，返回序列s中第i到j之间以k为步长的元素，不包含j  \n",
    "len(s) 返回序列s的长度  \n",
    "min(s) 返回序列s的最小元素，s中元素需要可比较  \n",
    "max(s) 返回序列s的最大元素，s中元素需要可比较  \n",
    "s.index(x) 返回序列s中第一次出现元素x的位置  \n",
    "s.count(x) 返回序列s中出现x的总次数  \n",
    "\n",
    "*序列类型的通用函数*  \n",
    "len(seq) 返回序列seq的长度  \n",
    "max(args) 返回序列或一组参数中的最大值  \n",
    "min(args) 返回序列或一组参数中的最小值  \n",
    "reversed(seq) 将序列seq反向，返回一个迭代器  \n",
    "enumerate(seq) 返回一个可枚举的对象，该对象的next()方法将返回一个元组  \n",
    "sorted(seq) 返回一个排序后的列表  \n",
    "reversed(seq) 返回一个反向的迭代器  \n",
    "zip(seq1, seq2,...) 将序列seq1, seq2,...中对应的元素打包成一个个元组，返回由这些元组组成的列表  \n"
   ]
  },
  {
   "cell_type": "code",
   "execution_count": 25,
   "metadata": {},
   "outputs": [
    {
     "name": "stdout",
     "output_type": "stream",
     "text": [
      "<zip object at 0x000002E761CA7580>\n",
      "[('Hello', 'Hello'), ('Python', 'World')]\n"
     ]
    }
   ],
   "source": [
    "seq1 = ['Hello', 'Python']\n",
    "seq2 = ['Hello', 'World']\n",
    "print(zip(seq1, seq2))\n",
    "print(list(zip(seq1, seq2)))\n",
    "del seq1, seq2"
   ]
  },
  {
   "attachments": {},
   "cell_type": "markdown",
   "metadata": {},
   "source": [
    "*序列类型的通用内建方法*  \n",
    "seq.count(obj) 返回序列seq中出现obj的总次数  \n",
    "seq.index(obj) 返回序列seq中第一次出现obj的位置  \n",
    "list.append(obj) 在列表末尾添加新的对象  \n",
    "list.count(obj) 统计某个元素在列表中出现的次数  \n",
    "list.extend(seq) 在列表末尾一次性追加另一个序列中的多个值  \n",
    "list.index(obj) 从列表中找出某个值第一个匹配项的索引位置  \n",
    "list.insert(index, obj) 将对象插入列表  \n",
    "list.pop([index=-1]) 移除列表中的一个元素（默认最后一个元素），并且返回该元素的值  \n",
    "list.remove(obj) 移除列表中某个值的第一个匹配项  \n",
    "list.reverse() 反向列表中元素  \n",
    "list.sort([func]) 对原列表进行排序  \n",
    "list.clear() 清空列表  \n",
    "list.copy() 复制列表  "
   ]
  },
  {
   "cell_type": "code",
   "execution_count": 26,
   "metadata": {},
   "outputs": [
    {
     "name": "stdout",
     "output_type": "stream",
     "text": [
      "['Hello', 'Python', 'Hello', 'World']\n",
      "['Hello', 'Python', 'Hello', 'Python']\n",
      "Hello\n",
      "['Python']\n",
      "['Hello', 'Python']\n",
      "['Hello', 'Python']\n",
      "Python\n",
      "['Hello', 'Python']\n",
      "['Hello']\n",
      "['Hello']\n",
      "2\n",
      "Hello\n",
      "Python\n",
      "0\n",
      "1\n"
     ]
    }
   ],
   "source": [
    "list1 = ['Hello', 'Python']\n",
    "list2 = ['Hello', 'World']\n",
    "print(list1 + list2)\n",
    "print(list1 * 2)\n",
    "print(list1[0])\n",
    "print(list1[1:])\n",
    "print(list1[:2])\n",
    "print(list1[0:2])\n",
    "print(list1[-1])\n",
    "print(list1[-2:])\n",
    "print(list1[:-1])\n",
    "print(list1[-2:-1])\n",
    "print(len(list1))\n",
    "print(min(list1))\n",
    "print(max(list1))\n",
    "print(list1.index('Hello'))\n",
    "print(list1.count('Hello'))\n",
    "del list1, list2\n"
   ]
  },
  {
   "attachments": {},
   "cell_type": "markdown",
   "metadata": {},
   "source": [
    "**映射类型**  \n",
    "Python中的映射类型包括字典（dict）和集合（set）  \n",
    "字典是一种映射类型，它的元素是键值对  \n",
    "字典的关键字必须为不可变类型，且不能重复  \n",
    "创建空字典使用{}  \n",
    "创建非空字典使用{key1:value1, key2:value2}  "
   ]
  },
  {
   "cell_type": "code",
   "execution_count": 27,
   "metadata": {},
   "outputs": [
    {
     "name": "stdout",
     "output_type": "stream",
     "text": [
      "{}\n",
      "{'name': 'Wu', 'Value': 55}\n"
     ]
    }
   ],
   "source": [
    "dict1 = {}\n",
    "dict2 = {'name':'Wu', 'Value':55}\n",
    "print(dict1)\n",
    "print(dict2)\n",
    "del dict1, dict2"
   ]
  },
  {
   "attachments": {},
   "cell_type": "markdown",
   "metadata": {},
   "source": [
    "**集合类型**  \n",
    "集合（set）是一个无序的不重复元素序列。  \n",
    "可以使用大括号 { } 或者 set() 函数创建集合  "
   ]
  },
  {
   "cell_type": "code",
   "execution_count": 28,
   "metadata": {},
   "outputs": [
    {
     "name": "stdout",
     "output_type": "stream",
     "text": [
      "{1, 2, 3, 4, 5}\n",
      "{'l', 'e', 'H', 'o'}\n"
     ]
    }
   ],
   "source": [
    "set1 = {1, 2, 3, 4, 5}\n",
    "set2 = set('Hello')\n",
    "print(set1)\n",
    "print(set2)\n",
    "del set1, set2"
   ]
  },
  {
   "attachments": {},
   "cell_type": "markdown",
   "metadata": {},
   "source": [
    "### 2.4 列表"
   ]
  },
  {
   "cell_type": "code",
   "execution_count": 29,
   "metadata": {},
   "outputs": [
    {
     "name": "stdout",
     "output_type": "stream",
     "text": [
      "['Hello', 'Python', 2019, 2020]\n",
      "[1, 2, 3, 4, 5]\n",
      "['a', 'b', 'c', 'd']\n",
      "['H', 'e', 'l', 'l', 'o']\n",
      "[0, 1, 2, 3, 4]\n"
     ]
    }
   ],
   "source": [
    "# 创建列表\n",
    "# 列表可以完成大多数集合类的数据结构实现。它支持字符，数字，字符串甚至可以包含列表（即嵌套）\n",
    "list1 = ['Hello', 'Python', 2019, 2020]\n",
    "list2 = [1, 2, 3, 4, 5]\n",
    "list3 = ['a', 'b', 'c', 'd']\n",
    "print(list1)\n",
    "print(list2)\n",
    "print(list3)\n",
    "del list1, list2, list3\n",
    "# 使用list()函数创建列表\n",
    "list1 = list('Hello')\n",
    "list2 = list(range(5))\n",
    "print(list1)\n",
    "print(list2)\n",
    "del list1, list2"
   ]
  },
  {
   "cell_type": "code",
   "execution_count": 30,
   "metadata": {},
   "outputs": [
    {
     "name": "stdout",
     "output_type": "stream",
     "text": [
      "['Hello', 'Python', 2019, 2020, 'World']\n",
      "['Hello', 'Python', 'World', 2019, 2020]\n",
      "['Hello', 'Python', 2019, 2020, 'World', 'Python']\n"
     ]
    }
   ],
   "source": [
    "# 列表元素的添加\n",
    "# 使用append()方法添加元素\n",
    "list1 = ['Hello', 'Python', 2019, 2020]\n",
    "list1.append('World')\n",
    "print(list1)\n",
    "del list1\n",
    "# 使用insert()方法添加元素\n",
    "list1 = ['Hello', 'Python', 2019, 2020]\n",
    "list1.insert(2, 'World')\n",
    "print(list1)\n",
    "del list1\n",
    "# 使用extend()方法添加元素\n",
    "## extend()函数能够将一个列表添加到另一个列表的末尾\n",
    "list1 = ['Hello', 'Python', 2019, 2020]\n",
    "list1.extend(['World', 'Python'])\n",
    "print(list1)\n",
    "del list1"
   ]
  },
  {
   "cell_type": "code",
   "execution_count": 31,
   "metadata": {},
   "outputs": [
    {
     "name": "stdout",
     "output_type": "stream",
     "text": [
      "['Hello', 'Python', 2020]\n",
      "['Hello', 2019, 2020]\n",
      "['Hello', 'Python', 2020]\n"
     ]
    }
   ],
   "source": [
    "# 列表元素的删除\n",
    "# 使用del语句删除元素\n",
    "list1 = ['Hello', 'Python', 2019, 2020]\n",
    "del list1[2]\n",
    "print(list1)\n",
    "del list1\n",
    "# 使用remove()方法删除元素\n",
    "list1 = ['Hello', 'Python', 2019, 2020]\n",
    "list1.remove('Python')\n",
    "print(list1)\n",
    "del list1\n",
    "# 使用pop()方法删除元素\n",
    "list1 = ['Hello', 'Python', 2019, 2020]\n",
    "list1.pop(2)\n",
    "print(list1)\n",
    "del list1"
   ]
  },
  {
   "cell_type": "code",
   "execution_count": 32,
   "metadata": {},
   "outputs": [
    {
     "name": "stdout",
     "output_type": "stream",
     "text": [
      "['Hello', 'Python', 2021, 2020]\n",
      "['Hello', 'Python', 2019, 2020]\n",
      "['Hello', 'Python', 2021, 2020]\n"
     ]
    }
   ],
   "source": [
    "# 列表元素的修改\n",
    "# 直接赋值\n",
    "# copy()方法保留原列表\n",
    "list1 = ['Hello', 'Python', 2019, 2020]\n",
    "list2 = list1.copy()\n",
    "list3 = list1 # list3 = list1, 直接赋值，实质上指向的是同一个内存值。\n",
    "#任意一个变量(list1 or list3)发生改变，都会影响另外一个。\n",
    "list1[2] = 2021\n",
    "print(list1)\n",
    "print(list2)\n",
    "print(list3)\n",
    "del list1, list2, list3"
   ]
  },
  {
   "cell_type": "code",
   "execution_count": 33,
   "metadata": {},
   "outputs": [
    {
     "name": "stdout",
     "output_type": "stream",
     "text": [
      "1\n"
     ]
    }
   ],
   "source": [
    "# 列表元素位置查询\n",
    "# 使用index()方法查询元素位置\n",
    "list1 = ['Hello', 'Python', 2019, 2020]\n",
    "print(list1.index('Python'))\n",
    "del list1"
   ]
  },
  {
   "cell_type": "code",
   "execution_count": 34,
   "metadata": {},
   "outputs": [
    {
     "name": "stdout",
     "output_type": "stream",
     "text": [
      "1\n",
      "[2019, 2020, 2821, 20122]\n",
      "[2020, 2019, 2821, 20122]\n",
      "[]\n"
     ]
    }
   ],
   "source": [
    "# 列表其他常用操作\n",
    "# 使用count()方法统计元素出现次数\n",
    "list1 = [20122, 2821, 2019, 2020]\n",
    "print(list1.count(2019))\n",
    "del list1\n",
    "# 使用sort()方法对列表进行排序\n",
    "list1 = [20122, 2821, 2019, 2020]\n",
    "list1.sort()\n",
    "print(list1)\n",
    "del list1\n",
    "# 使用reverse()方法对列表进行反转\n",
    "list1 = [20122, 2821, 2019, 2020]\n",
    "list1.reverse()\n",
    "print(list1)\n",
    "del list1\n",
    "# 使用clear()方法清空列表\n",
    "list1 = [20122, 2821, 2019, 2020]\n",
    "list1.clear()\n",
    "print(list1)\n",
    "del list1"
   ]
  },
  {
   "attachments": {},
   "cell_type": "markdown",
   "metadata": {},
   "source": [
    "### 2.5 元组"
   ]
  },
  {
   "cell_type": "code",
   "execution_count": 35,
   "metadata": {},
   "outputs": [
    {
     "name": "stdout",
     "output_type": "stream",
     "text": [
      "('Hello', 'Python', 2019, 2020)\n",
      "('H', 'e', 'l', 'l', 'o')\n",
      "(0, 1, 2, 3, 4)\n"
     ]
    }
   ],
   "source": [
    "# 创建元组\n",
    "# 元组与列表类似，不同之处在于元组的元素不能修改\n",
    "tuple1 = ('Hello', 'Python', 2019, 2020)\n",
    "# 使用tuple()函数创建元组\n",
    "tuple2 = tuple('Hello')\n",
    "tuple3 = tuple(range(5))\n",
    "print(tuple1)\n",
    "print(tuple2)\n",
    "print(tuple3)\n",
    "del tuple1, tuple2, tuple3\n"
   ]
  },
  {
   "cell_type": "code",
   "execution_count": 36,
   "metadata": {},
   "outputs": [
    {
     "name": "stdout",
     "output_type": "stream",
     "text": [
      "Hello\n",
      "Python\n",
      "2019\n",
      "2020\n"
     ]
    }
   ],
   "source": [
    "# 元组解包\n",
    "# 元组解包就是将元组中的元素分别赋值给多个变量\n",
    "tuple1 = ('Hello', 'Python', 2019, 2020)\n",
    "a, b, c, d = tuple1\n",
    "print(a)\n",
    "print(b)\n",
    "print(c)\n",
    "print(d)\n",
    "del tuple1, a, b, c, d"
   ]
  },
  {
   "attachments": {},
   "cell_type": "markdown",
   "metadata": {},
   "source": [
    "### 2.6 字典"
   ]
  },
  {
   "cell_type": "code",
   "execution_count": 37,
   "metadata": {},
   "outputs": [
    {
     "name": "stdout",
     "output_type": "stream",
     "text": [
      "{'name': 'Wu', 'Value': 55}\n",
      "{'name': 'Wu', 'Value': 55}\n"
     ]
    }
   ],
   "source": [
    "# 创建字典\n",
    "# 字典是一种映射类型，字典用{}标识，它是一个无序的键值对集合\n",
    "dict1 = {'name':'Wu', 'Value':55}\n",
    "# 使用dict()函数创建字典\n",
    "dict2 = dict(name='Wu', Value=55)\n",
    "print(dict1)\n",
    "print(dict2)\n",
    "del dict1, dict2"
   ]
  },
  {
   "cell_type": "code",
   "execution_count": 38,
   "metadata": {},
   "outputs": [
    {
     "name": "stdout",
     "output_type": "stream",
     "text": [
      "{'name': 'Wu', 'Value': 55}\n",
      "{'name': 'Wu', 'Value': 55}\n"
     ]
    }
   ],
   "source": [
    "# 使用dict()函数将其他类型转换为字典\n",
    "# 使用dict()函数将元组转换为字典\n",
    "dict1 = dict((['name', 'Wu'], ['Value', 55]))\n",
    "print(dict1)\n",
    "del dict1\n",
    "# 使用dict()函数将列表转换为字典\n",
    "dict1 = dict([['name', 'Wu'], ['Value', 55]])\n",
    "print(dict1)\n",
    "del dict1"
   ]
  },
  {
   "cell_type": "code",
   "execution_count": 39,
   "metadata": {},
   "outputs": [
    {
     "name": "stdout",
     "output_type": "stream",
     "text": [
      "{'Name': '张艳', 'Age': 20, 'x': 'y', 'd': {1: 2}}\n",
      "{('tel', 'email'): [13873321234, 'zhangyan@163.com']}\n",
      "{'Name': '杨丽', 'Age': 18, 'a': (1, 2)} {}\n"
     ]
    }
   ],
   "source": [
    "student = dict((['Name','张艳'],('Age',20),'xy',('d',{1:2})))\n",
    "contacts = dict([(('tel','email'),[13873321234,'zhangyan@163.com'])])\n",
    "dict1 = dict(Name='杨丽',Age=18,a=(1,2))\n",
    "dict2 = dict()\n",
    "print(student)\n",
    "print(contacts)\n",
    "print(dict1,dict2)\n",
    "del student, contacts, dict1, dict2"
   ]
  },
  {
   "cell_type": "code",
   "execution_count": 40,
   "metadata": {},
   "outputs": [
    {
     "name": "stdout",
     "output_type": "stream",
     "text": [
      "Wu\n",
      "Wu\n"
     ]
    }
   ],
   "source": [
    "# 获取字典元素\n",
    "# 使用[]获取字典元素\n",
    "dict1 = {'name':'Wu', 'Value':55}\n",
    "print(dict1['name'])\n",
    "del dict1\n",
    "# 使用get()方法获取字典元素\n",
    "dict1 = {'name':'Wu', 'Value':55}\n",
    "print(dict1.get('name'))\n",
    "del dict1"
   ]
  },
  {
   "cell_type": "code",
   "execution_count": 41,
   "metadata": {},
   "outputs": [
    {
     "name": "stdout",
     "output_type": "stream",
     "text": [
      "{'name': 'Wu', 'Value': 55, 'age': 20}\n",
      "{'name': 'Wu', 'Value': 55, 'age': 20}\n"
     ]
    }
   ],
   "source": [
    "# 添加字典元素\n",
    "# 使用[]添加字典元素\n",
    "dict1 = {'name':'Wu', 'Value':55}\n",
    "dict1['age'] = 20\n",
    "print(dict1)\n",
    "del dict1\n",
    "# 使用update()方法添加字典元素\n",
    "dict1 = {'name':'Wu', 'Value':55}\n",
    "dict1.update({'age':20})\n",
    "print(dict1)\n",
    "del dict1"
   ]
  },
  {
   "cell_type": "code",
   "execution_count": 42,
   "metadata": {},
   "outputs": [
    {
     "name": "stdout",
     "output_type": "stream",
     "text": [
      "{'Value': 55}\n",
      "{'Value': 55}\n",
      "{'name': 'Wu'}\n",
      "{}\n"
     ]
    }
   ],
   "source": [
    "# 删除字典元素\n",
    "# 使用del语句删除字典元素\n",
    "dict1 = {'name':'Wu', 'Value':55}\n",
    "del dict1['name']\n",
    "print(dict1)\n",
    "del dict1\n",
    "# 使用pop()方法删除字典中的元素\n",
    "dict1 = {'name':'Wu', 'Value':55}\n",
    "dict1.pop('name')\n",
    "print(dict1)\n",
    "del dict1\n",
    "# 使用popitem()方法删除字典中的元素\n",
    "dict1 = {'name':'Wu', 'Value':55}\n",
    "dict1.popitem()\n",
    "print(dict1)\n",
    "del dict1\n",
    "# 使用clear()方法清空字典\n",
    "dict1 = {'name':'Wu', 'Value':55}\n",
    "dict1.clear()\n",
    "print(dict1)\n",
    "del dict1"
   ]
  },
  {
   "cell_type": "code",
   "execution_count": 43,
   "metadata": {},
   "outputs": [
    {
     "name": "stdout",
     "output_type": "stream",
     "text": [
      "{'name': 'Wu', 'Value': 55}\n",
      "{'name': 'Wu', 'Value': 55}\n",
      "{'name': 'Wu', 'Value': 55}\n"
     ]
    }
   ],
   "source": [
    "# 字典元素的修改\n",
    "# 直接赋值\n",
    "# copy()方法保留原字典\n",
    "dict1 = {'name':'Wu', 'Value':55}\n",
    "dict2 = dict1.copy()\n",
    "dict3 = dict1 # dict3 = dict1, 直接赋值，实质上指向的是同一个内存值。\n",
    "#任意一个变量(dict1 or dict3)发生改变，都会影响另外一个。\n",
    "dict1['name'] = 'Wu'\n",
    "print(dict1)\n",
    "print(dict2)\n",
    "print(dict3)\n",
    "del dict1, dict2, dict3"
   ]
  },
  {
   "cell_type": "code",
   "execution_count": 44,
   "metadata": {},
   "outputs": [
    {
     "name": "stdout",
     "output_type": "stream",
     "text": [
      "dict_keys(['name', 'Value'])\n",
      "dict_values(['Wu', 55])\n",
      "dict_items([('name', 'Wu'), ('Value', 55)])\n"
     ]
    }
   ],
   "source": [
    "# 查询和获取字典元素\n",
    "# 使用keys()方法获取字典中所有的键\n",
    "dict1 = {'name':'Wu', 'Value':55}\n",
    "print(dict1.keys())\n",
    "del dict1\n",
    "# 使用values()方法获取字典中所有的值\n",
    "dict1 = {'name':'Wu', 'Value':55}\n",
    "print(dict1.values())\n",
    "del dict1\n",
    "# 使用items()方法获取字典中所有的键值对\n",
    "dict1 = {'name':'Wu', 'Value':55}\n",
    "print(dict1.items())\n",
    "del dict1"
   ]
  },
  {
   "attachments": {},
   "cell_type": "markdown",
   "metadata": {},
   "source": [
    "### 2.7 集合"
   ]
  },
  {
   "cell_type": "code",
   "execution_count": 45,
   "metadata": {},
   "outputs": [
    {
     "name": "stdout",
     "output_type": "stream",
     "text": [
      "{'l', 'e', 'H', 'o'}\n",
      "{0, 1, 2, 3, 4}\n",
      "<class 'dict'>\n",
      "<class 'set'>\n",
      "frozenset({'l', 'e', 'H', 'o'})\n"
     ]
    }
   ],
   "source": [
    "# 创建集合\n",
    "# 集合是一个无序的不重复元素序列\n",
    "# 使用{}创建集合\n",
    "# 使用set()函数创建集合\n",
    "set1 = set('Hello')\n",
    "set2 = set(range(5))\n",
    "print(set1)\n",
    "print(set2)\n",
    "del set1, set2\n",
    "# 使用{}创建空集合\n",
    "set1 = {}\n",
    "print(type(set1))\n",
    "del set1\n",
    "# 使用set()函数创建空集合\n",
    "set1 = set()\n",
    "print(type(set1))\n",
    "del set1\n",
    "# 创建不可变集合\n",
    "# 使用frozenset()函数创建不可变集合\n",
    "set1 = frozenset('Hello')\n",
    "print(set1)\n",
    "del set1\n"
   ]
  },
  {
   "cell_type": "code",
   "execution_count": 46,
   "metadata": {},
   "outputs": [
    {
     "name": "stdout",
     "output_type": "stream",
     "text": [
      "{'l', 'e', 'H'}\n",
      "{'t', 'P', 'y', 'n', 'h'}\n",
      "{'l', 'e', 'H'}\n",
      "{'o'}\n",
      "{'o'}\n",
      "{'o'}\n",
      "False\n",
      "False\n",
      "False\n",
      "False\n",
      "False\n",
      "{'l', 'P', 'H', 't', 'e', 'y', 'n', 'h'}\n",
      "{'l', 't', 'e', 'P', 'y', 'n', 'h', 'H'}\n",
      "{'l', 't', 'e', 'P', 'y', 'n', 'h', 'H'}\n",
      "{'l', 't', 'e', 'P', 'y', 'n', 'h', 'H', 'o'}\n",
      "{'t', 'l', 'e', 'P', 'y', 'n', 'h', 'H', 'o'}\n",
      "{'l', 't', 'e', 'P', 'y', 'n', 'h', 'H', 'o'}\n"
     ]
    }
   ],
   "source": [
    "# 集合的运算\n",
    "# difference()方法返回两个集合的差集\n",
    "set1 = set('Hello')\n",
    "set2 = set('Python')\n",
    "print(set1.difference(set2))\n",
    "print(set2.difference(set1))\n",
    "del set1, set2\n",
    "# difference_update()方法用于移除两个集合中都存在的元素\n",
    "set1 = set('Hello')\n",
    "set2 = set('Python')\n",
    "set1.difference_update(set2)\n",
    "print(set1)\n",
    "del set1, set2\n",
    "# intersection()方法返回两个集合的交集\n",
    "set1 = set('Hello')\n",
    "set2 = set('Python')\n",
    "print(set1.intersection(set2))\n",
    "print(set2.intersection(set1))\n",
    "del set1, set2\n",
    "# intersection_update()方法用于获取两个集合中都存在的元素\n",
    "set1 = set('Hello')\n",
    "set2 = set('Python')\n",
    "set1.intersection_update(set2)\n",
    "print(set1)\n",
    "del set1, set2\n",
    "# isdisjoint()方法用于判断两个集合是否包含相同的元素，\n",
    "# 如果没有返回True，否则返回False\n",
    "set1 = set('Hello')\n",
    "set2 = set('Python')\n",
    "print(set1.isdisjoint(set2))\n",
    "del set1, set2\n",
    "# issubset()方法用于判断指定集合是否为该方法参数集合的子集\n",
    "set1 = set('Hello')\n",
    "set2 = set('Python')\n",
    "print(set1.issubset(set2))\n",
    "print(set2.issubset(set1))\n",
    "del set1, set2\n",
    "# issuperset()方法用于判断该方法的参数集合是否为指定集合的子集\n",
    "set1 = set('Hello')\n",
    "set2 = set('Python')\n",
    "print(set1.issuperset(set2))\n",
    "print(set2.issuperset(set1))\n",
    "del set1, set2\n",
    "# symmetric_difference()方法返回两个集合中不重复的元素集合\n",
    "set1 = set('Hello')\n",
    "set2 = set('Python')\n",
    "print(set1.symmetric_difference(set2))\n",
    "print(set2.symmetric_difference(set1))\n",
    "del set1, set2\n",
    "# symmetric_difference_update()方法移除当前集合中在另外一个指定集合相同的元素，\n",
    "# 并将另外一个指定集合中不同的元素插入到当前集合中\n",
    "set1 = set('Hello')\n",
    "set2 = set('Python')\n",
    "set1.symmetric_difference_update(set2)\n",
    "print(set1)\n",
    "del set1, set2\n",
    "# union()方法返回两个集合的并集\n",
    "set1 = set('Hello')\n",
    "set2 = set('Python')\n",
    "print(set1.union(set2))\n",
    "print(set2.union(set1))\n",
    "del set1, set2\n",
    "# update()方法用于修改当前集合，可以添加新的元素或集合到当前集合中\n",
    "set1 = set('Hello')\n",
    "set2 = set('Python')\n",
    "set1.update(set2)\n",
    "print(set1)\n",
    "del set1, set2"
   ]
  },
  {
   "cell_type": "code",
   "execution_count": 47,
   "metadata": {},
   "outputs": [
    {
     "name": "stdout",
     "output_type": "stream",
     "text": [
      "{'l', 't', 'e', 'P', 'y', 'n', 'h', 'H', 'o'}\n",
      "{'t', 'l', 'e', 'P', 'y', 'n', 'h', 'H', 'o'}\n",
      "{'o'}\n",
      "{'o'}\n",
      "{'l', 'e', 'H'}\n",
      "{'t', 'P', 'y', 'n', 'h'}\n",
      "{'l', 'P', 'H', 't', 'e', 'y', 'n', 'h'}\n",
      "{'l', 't', 'e', 'P', 'y', 'n', 'h', 'H'}\n",
      "False\n",
      "False\n",
      "False\n",
      "False\n"
     ]
    }
   ],
   "source": [
    "# 集合运算符\n",
    "# 使用|操作符获取两个集合的并集\n",
    "set1 = set('Hello')\n",
    "set2 = set('Python')\n",
    "print(set1 | set2)\n",
    "print(set2 | set1)\n",
    "# 使用&操作符获取两个集合的交集\n",
    "print(set1 & set2)\n",
    "print(set2 & set1)\n",
    "# 使用-操作符获取两个集合的差集\n",
    "print(set1 - set2)\n",
    "print(set2 - set1)\n",
    "# 使用^操作符获取两个集合的对称差集\n",
    "print(set1 ^ set2)\n",
    "print(set2 ^ set1)\n",
    "# 使用<=操作符判断一个集合是否是另一个集合的子集\n",
    "print(set1 <= set2)\n",
    "print(set2 <= set1)\n",
    "# 使用>=操作符判断一个集合是否是另一个集合的超集\n",
    "print(set1 >= set2)\n",
    "print(set2 >= set1)\n",
    "del set1, set2"
   ]
  },
  {
   "cell_type": "code",
   "execution_count": 48,
   "metadata": {},
   "outputs": [
    {
     "name": "stdout",
     "output_type": "stream",
     "text": [
      "{'l', 'e', 'Python', 'H', 'o'}\n",
      "set()\n",
      "{'l', 'e', 'H', 'o'}\n",
      "{'e', 'H', 'o'}\n",
      "{'l', 'e', 'o'}\n",
      "{'l', 'e', 'o'}\n",
      "0 l\n",
      "1 e\n",
      "2 H\n",
      "3 o\n",
      "True\n",
      "False\n",
      "False\n",
      "True\n"
     ]
    }
   ],
   "source": [
    "# 集合常用函数和方法\n",
    "# 使用add()方法向集合中添加元素\n",
    "set1 = set('Hello')\n",
    "set1.add('Python')\n",
    "print(set1)\n",
    "# 使用clear()方法移除集合中的所有元素\n",
    "set1.clear()\n",
    "print(set1)\n",
    "# 使用copy()方法拷贝一个集合\n",
    "set1 = set('Hello')\n",
    "set2 = set1.copy()\n",
    "print(set2)\n",
    "# 使用pop()方法随机移除一个元素\n",
    "set1 = set('Hello')\n",
    "set1.pop()\n",
    "print(set1)\n",
    "# 使用remove()方法移除指定元素\n",
    "set1 = set('Hello')\n",
    "set1.remove('H')\n",
    "print(set1)\n",
    "# 使用discard()方法移除指定元素\n",
    "set1 = set('Hello')\n",
    "set1.discard('H')\n",
    "print(set1)\n",
    "# 使用enumerate()方法获取集合中元素的索引和值\n",
    "set1 = set('Hello')\n",
    "for i, v in enumerate(set1):\n",
    "    print(i, v)\n",
    "del i, v\n",
    "# 使用in和not in判断指定元素是否存在于集合中\n",
    "print('H' in set1)\n",
    "print('H' not in set1)\n",
    "# 使用is和is not判断两个集合是否相等\n",
    "print(set1 is set2)\n",
    "print(set1 is not set2)\n",
    "del set1, set2"
   ]
  },
  {
   "attachments": {},
   "cell_type": "markdown",
   "metadata": {},
   "source": [
    "## 3. Python流程控制语句"
   ]
  },
  {
   "attachments": {},
   "cell_type": "markdown",
   "metadata": {},
   "source": [
    "### 3.1 if 条件句\n"
   ]
  },
  {
   "cell_type": "code",
   "execution_count": 49,
   "metadata": {},
   "outputs": [
    {
     "name": "stdout",
     "output_type": "stream",
     "text": [
      "合格学生！\n"
     ]
    }
   ],
   "source": [
    "#input从标准输入中得到的值是一个字符串\n",
    "grade = input(\"\\n请输入学生成绩:\")\n",
    "if int(grade)>=85 :              #用int(grade)强制转换为整型\n",
    "    print(\"优秀学生！\")\n",
    "elif int(grade)<60 :\n",
    "    print(\"不合格学生！\")\n",
    "else :\n",
    "    print(\"合格学生！\")\n",
    "del grade"
   ]
  },
  {
   "attachments": {},
   "cell_type": "markdown",
   "metadata": {},
   "source": [
    "### 3.2 while循环控制语句"
   ]
  },
  {
   "cell_type": "code",
   "execution_count": 50,
   "metadata": {},
   "outputs": [
    {
     "name": "stdout",
     "output_type": "stream",
     "text": [
      "1至 100 之和为: 5050\n"
     ]
    }
   ],
   "source": [
    "s,i = 0,1\n",
    "while (i<=100):                              #求1至100的累加和\n",
    "    s = s + i\n",
    "    i += 1\n",
    "else:\n",
    "    print('1至 %d 之和为: %d' % (i-1,s))     #输出1至100累加和\n",
    "del s,i"
   ]
  },
  {
   "attachments": {},
   "cell_type": "markdown",
   "metadata": {},
   "source": [
    "### 3.3 for循环控制语句"
   ]
  },
  {
   "cell_type": "code",
   "execution_count": 51,
   "metadata": {},
   "outputs": [
    {
     "name": "stdout",
     "output_type": "stream",
     "text": [
      "P\n",
      "y\n",
      "t\n",
      "h\n",
      "o\n",
      "n\n"
     ]
    }
   ],
   "source": [
    "str = 'Python'\n",
    "for i in str:\n",
    "    print(i)\n",
    "del i,str"
   ]
  },
  {
   "cell_type": "code",
   "execution_count": 52,
   "metadata": {},
   "outputs": [
    {
     "name": "stdout",
     "output_type": "stream",
     "text": [
      "循环数据 c\n",
      "循环数据 java\n",
      "循环数据 Python\n",
      "循环数据 php\n",
      "循环完成！\n"
     ]
    }
   ],
   "source": [
    "for i in ('c', 'java', 'Python', 'php'):\n",
    "    print(\"循环数据 \" + i)\n",
    "else:\n",
    "    print('循环完成！')"
   ]
  },
  {
   "attachments": {},
   "cell_type": "markdown",
   "metadata": {},
   "source": [
    "### 3.4 range()函数的作用"
   ]
  },
  {
   "cell_type": "code",
   "execution_count": 53,
   "metadata": {},
   "outputs": [
    {
     "name": "stdout",
     "output_type": "stream",
     "text": [
      "0\n",
      "1\n",
      "2\n",
      "-1\n",
      "-3\n",
      "-5\n",
      "-7\n",
      "0 Python\n",
      "1 Python\n",
      "2 Python\n",
      "0 C\n",
      "1 Java\n",
      "2 Python\n",
      "3 PHP\n",
      "[0, 1, 2, 3, 4, 5, 6, 7]\n"
     ]
    }
   ],
   "source": [
    "for i in range(3):                    #生成数列\n",
    "    print(i)\n",
    "for i in range(-1,-8,-2):               #创建指定区间的值\n",
    "    print(i)\n",
    "for i in range(3):                     #作为索引\n",
    "    print(i, 'Python')\n",
    "str = ['C','Java','Python','PHP']\n",
    "for i in range(len(str)):               #遍历序列的索引\n",
    "    print(i, str[i])\n",
    "a = list(range(8))                     #创建列表\n",
    "print(a)\n",
    "del a, str, i"
   ]
  },
  {
   "attachments": {},
   "cell_type": "markdown",
   "metadata": {},
   "source": [
    "### 3.5 break、continue、pass语句"
   ]
  },
  {
   "attachments": {},
   "cell_type": "markdown",
   "metadata": {},
   "source": [
    "在while和for循环中，break语句的作用是终止循环语句，即循环条件没有False条件或者序列还没被完全递归完，就停止执行循环语句，跳出循环。在嵌套循环中，break语句可以停止执行最深层的循环，并开始执行下一行代码。"
   ]
  },
  {
   "cell_type": "code",
   "execution_count": 54,
   "metadata": {},
   "outputs": [
    {
     "name": "stdout",
     "output_type": "stream",
     "text": [
      "2500\n"
     ]
    }
   ],
   "source": [
    "s,i = 0,1\n",
    "while (i) :\n",
    "    s = s + i\n",
    "    i += 2\n",
    "    if (i> 100):\n",
    "         break  #当i大于100时，跳出循环\n",
    "print(s)    \n",
    "del s,i"
   ]
  },
  {
   "attachments": {},
   "cell_type": "markdown",
   "metadata": {},
   "source": [
    "在while和for循环中，continue语句作用是告诉Python跳过当前循环的剩余语句，然后继续进行下一轮循环。continue语句与break语句不同，continue语句是跳出本次循环，而break语句是跳出整个循环。"
   ]
  },
  {
   "cell_type": "code",
   "execution_count": 55,
   "metadata": {},
   "outputs": [
    {
     "name": "stdout",
     "output_type": "stream",
     "text": [
      "1 1\n",
      "3 4\n",
      "5 9\n",
      "7 16\n",
      "9 25\n",
      "25\n"
     ]
    }
   ],
   "source": [
    "s = i = 0\n",
    "while (i<10) :\n",
    "    i += 1\n",
    "    if (i%2==0):     #如果i是偶数，执行continue语句\n",
    "        continue    #遇到continue语句直接继续下一轮循环，后续语句不会执行\n",
    "    s = s + i\n",
    "    print(i,s)\n",
    "print(s)\n",
    "del s,i"
   ]
  },
  {
   "attachments": {},
   "cell_type": "markdown",
   "metadata": {},
   "source": [
    "pass是空语句，其作用是保持程序结构的完整性。pass语句不做任何操作，一般用作占位语句。"
   ]
  },
  {
   "cell_type": "code",
   "execution_count": 56,
   "metadata": {},
   "outputs": [
    {
     "name": "stdout",
     "output_type": "stream",
     "text": [
      "这是 pass 块\n",
      "当前字母 : n\n"
     ]
    }
   ],
   "source": [
    "# 输出 Python 的每个字母\n",
    "for letter in 'Python':\n",
    "    if letter == 'h':\n",
    "        pass\n",
    "        print('这是 pass 块')\n",
    "print('当前字母 :', letter)\n",
    "del letter"
   ]
  },
  {
   "attachments": {},
   "cell_type": "markdown",
   "metadata": {},
   "source": [
    "## 4. Python函数"
   ]
  },
  {
   "attachments": {},
   "cell_type": "markdown",
   "metadata": {},
   "source": [
    "### 4.1 自定义函数"
   ]
  },
  {
   "cell_type": "code",
   "execution_count": 5,
   "metadata": {},
   "outputs": [
    {
     "name": "stdout",
     "output_type": "stream",
     "text": [
      "1至 50 之和为: 1275\n"
     ]
    },
    {
     "data": {
      "text/plain": [
       "1275"
      ]
     },
     "execution_count": 5,
     "metadata": {},
     "output_type": "execute_result"
    }
   ],
   "source": [
    "def sum_function(n):\n",
    "    sum,i=0,1           #求1到n数字的累加和su\n",
    "    while (i<=n) :\n",
    "        sum = sum + i\n",
    "        i += 1\n",
    "    print('1至 %d 之和为: %d' % (n,sum))\n",
    "    return sum\n",
    "\n",
    "sum_function(50)"
   ]
  },
  {
   "attachments": {},
   "cell_type": "markdown",
   "metadata": {},
   "source": [
    "### 4.2 设置函数参数"
   ]
  },
  {
   "attachments": {},
   "cell_type": "markdown",
   "metadata": {},
   "source": [
    "**默认参数**  \n",
    "默认参数一定要用不可变对象，如果是可变对象，运行会有逻辑错误。"
   ]
  },
  {
   "cell_type": "code",
   "execution_count": 7,
   "metadata": {},
   "outputs": [
    {
     "data": {
      "text/plain": [
       "86.0"
      ]
     },
     "execution_count": 7,
     "metadata": {},
     "output_type": "execute_result"
    }
   ],
   "source": [
    "#定义函数，默认参数n_perc，e_perc\n",
    "def score_fun(normal,exam,n_Perc=0.4,e_Perc=0.6):\n",
    "    #求期评成绩\n",
    "    score = normal*n_Perc+exam*e_Perc\n",
    "    return score\n",
    "\n",
    "score_fun(80,90)        #调用函数，使用默认参数"
   ]
  },
  {
   "attachments": {},
   "cell_type": "markdown",
   "metadata": {},
   "source": [
    "**任意数量的位置可变参数**  \n",
    "定义函数时需要定义函数的参数个数，通常情况下，参数个数表示了函数可调用的参数个数的上限。但是也有在定义函数时无法得知参数个数的情况，在Python中使用*args和\\*\\*kwargs可以定义可变参数，在可变参数之前可以定义0到任意多个参数，可变参数永远放在参数的最后面。   \n",
    "*args表示可变参数，可以是0个或多个  \n",
    "*args接收的是一个tuple  \n",
    "\\*\\*kwargs表示关键字参数，可以是0个或多个  \n",
    "\\*\\*kwargs接收的是一个dict  \n",
    "*args和\\*\\*kwargs可以同时存在，但是*args必须在\\*\\*kwargs前面  \n",
    "*args和\\*\\*kwargs的名字不是必须的，但是一般使用这两个名字  \n",
    "*args和\\*\\*kwargs的名字前面需要有一个*号  \n",
    "*args和\\*\\*kwargs的名字可以改成其他名字，但是*号必须存在 "
   ]
  },
  {
   "cell_type": "code",
   "execution_count": 9,
   "metadata": {},
   "outputs": [
    {
     "name": "stdout",
     "output_type": "stream",
     "text": [
      "x= 67\n",
      "args= (78, 'asd', 'xyz')\n"
     ]
    }
   ],
   "source": [
    "#定义函数\n",
    "def example_fun(x,*args):\n",
    "    print('x=',x)\n",
    "    print('args=',args)\n",
    "#调用函数\n",
    "\n",
    "example_fun(67,78,'asd','xyz')"
   ]
  },
  {
   "attachments": {},
   "cell_type": "markdown",
   "metadata": {},
   "source": [
    "**任意数量的关键字可变参数**"
   ]
  },
  {
   "cell_type": "code",
   "execution_count": 11,
   "metadata": {},
   "outputs": [
    {
     "name": "stdout",
     "output_type": "stream",
     "text": [
      "x= 67\n",
      "args= (78, 'asd', 'xyz')\n",
      "kwargs= {'a': 1, 'b': 2}\n"
     ]
    }
   ],
   "source": [
    "#定义函数\n",
    "def example_fun(x,*args,**kwargs):\n",
    "    print('x=',x)\n",
    "    print('args=',args)\n",
    "    print('kwargs=',kwargs)\n",
    "#调用函数\n",
    "example_fun(67,78,'asd','xyz',a=1,b=2)"
   ]
  },
  {
   "attachments": {},
   "cell_type": "markdown",
   "metadata": {},
   "source": [
    "**调用自定义函数**  \n",
    "\n",
    "1. *位置可用参数*  \n",
    "位置参数调用是函数调用中最常用的方式，函数的参数严格按照函数定义时的位置传入，顺序不可以调换，否则会影响输出结果或者直接报错。例如，range(1,2,4)与range(1,4,2)输出结果分别为1和1，3。  \n",
    "\n",
    "2. *关键字参数调用*  \n",
    "除了可以使用位置参数对函数进行调用外，还可以使用关键字参数对函数进行调用。使用关键字参数时，可以不严格按照位置，因为解释器会自动按照关键字进行匹配。例如，示例代码example3-45中用关键字参数正确调用函数示例score_fun(exam=78，normal=80)或score_fun(80,exam=78)。关键字参数可以与位置参数混用，但是关键字参数必须跟在位置参数后面，否则系统会抛出异常。  \n",
    "\n",
    "3. *可变参数调用*  \n",
    "使用*args可变参数列表可以直接将元组或列表转换为参数，然后传入函数。例如，定义列表args=[1,6,2]，使用list(range(*args))转换成列表[1,3,5]。使用**kwargs关键字参数列表可以直接将字典转换为关键字参数，然后传入函数。"
   ]
  },
  {
   "cell_type": "code",
   "execution_count": 17,
   "metadata": {},
   "outputs": [],
   "source": [
    "args = [1,6,2]\n",
    "list(range(*args))\n",
    "range(1,6,2)\n",
    "del args"
   ]
  },
  {
   "cell_type": "code",
   "execution_count": 18,
   "metadata": {},
   "outputs": [
    {
     "name": "stdout",
     "output_type": "stream",
     "text": [
      "name: 李芳 tel: {'tel': '13834561234', 'email': 'lifang@163.com'}\n"
     ]
    }
   ],
   "source": [
    "def contacts(name,**kwargs):\n",
    "    print('name:',name,'tel:',kwargs)\n",
    "#调用函数\n",
    "contacts('李芳',tel='13834561234',email='lifang@163.com')"
   ]
  },
  {
   "attachments": {},
   "cell_type": "markdown",
   "metadata": {},
   "source": [
    "**局部变量和全局变量**  \n",
    "Python创建、修改或查找变量名都是在命名空间中进行的，更准确地说是在特定的作用域下进行的，所以在使用某个变量名时，应清楚地知道其作用域。由于Python不能声明变量，所以变量第一次被赋值时即与一个特定作用域绑定了。定义在函数内部的变量拥有一个局部作用域，定义在函数外部的变量拥有一个全局作用域。"
   ]
  },
  {
   "attachments": {},
   "cell_type": "markdown",
   "metadata": {},
   "source": [
    "1. *局部变量*  \n",
    "在定义函数时，往往需要在函数内部对变量进行定义和赋值，在函数体内定义的变量为局部变量，局部变量只能在其被赋值的函数内部访问"
   ]
  },
  {
   "cell_type": "code",
   "execution_count": 19,
   "metadata": {},
   "outputs": [
    {
     "name": "stdout",
     "output_type": "stream",
     "text": [
      "函数内是局部变量： 30\n",
      "<built-in function sum>\n"
     ]
    }
   ],
   "source": [
    "def total(x, y):\n",
    "    #求两个数之和\n",
    "    sum = x + y   # sum是局部变量\n",
    "    print('函数内是局部变量：', sum)\n",
    "    return sum\n",
    "#调用total函数\n",
    "total(10,20)\n",
    "print(sum)\n",
    "#输出<built-in function sum>，函数体外不能访问局部变量"
   ]
  },
  {
   "attachments": {},
   "cell_type": "markdown",
   "metadata": {},
   "source": [
    "2. *全局变量*  \n",
    "定义在函数体外的变量称为全局变量。全局变量可以在函数体内被调用"
   ]
  },
  {
   "cell_type": "code",
   "execution_count": 20,
   "metadata": {},
   "outputs": [
    {
     "name": "stdout",
     "output_type": "stream",
     "text": [
      "110\n"
     ]
    }
   ],
   "source": [
    "total = 10\n",
    "def fun():\n",
    "    sum = total + 100   #调用了全局变量total\n",
    "    return sum\n",
    "#调用fun函数\n",
    "a = fun()          #a=110，在函数体内调用了全局变量total\n",
    "print(a)"
   ]
  },
  {
   "attachments": {},
   "cell_type": "markdown",
   "metadata": {},
   "source": [
    "但是，若同时存在全局变量和局部变量，那么函数体会使用局部变量覆盖全局变量"
   ]
  },
  {
   "cell_type": "code",
   "execution_count": 21,
   "metadata": {},
   "outputs": [
    {
     "name": "stdout",
     "output_type": "stream",
     "text": [
      "100\n"
     ]
    }
   ],
   "source": [
    "total = 10\n",
    "def fun():\n",
    "    total = 0              #定义total局部变量\n",
    "    total = total + 100    #全局变量total被局部变量覆盖\n",
    "    return total\n",
    "#调用fun函数\n",
    "a = fun()           #a=100\n",
    "print(a)"
   ]
  },
  {
   "attachments": {},
   "cell_type": "markdown",
   "metadata": {},
   "source": [
    "如果想要在函数体内对全局变量赋值，则需要使用关键字global（嵌套函数中用nonlocal，用法与global一样）"
   ]
  },
  {
   "cell_type": "code",
   "execution_count": 27,
   "metadata": {},
   "outputs": [
    {
     "name": "stdout",
     "output_type": "stream",
     "text": [
      "110\n"
     ]
    }
   ],
   "source": [
    "total = 10\n",
    "def fun():\n",
    "    global total            #定义total为全局变量\n",
    "    total = total + 100     #全局变量total\n",
    "    return total\n",
    "#调用fun函数\n",
    "a = fun()          #a=110\n",
    "print(a)\n",
    "\n",
    "del total, fun, a"
   ]
  },
  {
   "attachments": {},
   "cell_type": "markdown",
   "metadata": {},
   "source": [
    "**函数嵌套**  \n",
    "Python允许在函数中定义另外一个函数，这就是函数的嵌套。定义在其他函数内部的函数称为内建函数，而包含有内建函数的函数称为外部函数。其中，内建函数中的局部变量独立于外部函数，如果想使用外部函数的变量，则需要声明该变量为全局变量。"
   ]
  },
  {
   "cell_type": "code",
   "execution_count": 33,
   "metadata": {},
   "outputs": [
    {
     "name": "stdout",
     "output_type": "stream",
     "text": [
      "2.5\n"
     ]
    }
   ],
   "source": [
    "#求均值函数\n",
    "def mean(args):\n",
    "    m=0\n",
    "    def sum(x):                #求计算数值和函数\n",
    "        total = 0\n",
    "        for i in x:\n",
    "        #print(i)\n",
    "            total += i\n",
    "        return total\n",
    "    m = sum(args)/len(args)\n",
    "    return m\n",
    "#调用mean函数\n",
    "args=list(range(6))\n",
    "a = mean(args)\n",
    "print(a)\n",
    "\n",
    "del args, a"
   ]
  },
  {
   "attachments": {},
   "cell_type": "markdown",
   "metadata": {},
   "source": [
    "Python将函数也视为对象，因此，允许外部函数在返回结果时直接调用内部函数的结果，所以可以对求均值函数做简化，令其直接返回求计算数值和函数的结果"
   ]
  },
  {
   "cell_type": "code",
   "execution_count": 34,
   "metadata": {},
   "outputs": [
    {
     "name": "stdout",
     "output_type": "stream",
     "text": [
      "2.5\n"
     ]
    }
   ],
   "source": [
    "def mean(args):                    #求均值函数\n",
    "    def sum(x):                   #求计算数值和函数\n",
    "        total = 0\n",
    "        for i in x:\n",
    "            #print(i)\n",
    "            total += i\n",
    "        return total\n",
    "    return sum(args)/len(args)    #直接返回sum函数的结果\n",
    "#调用mean函数\n",
    "args=list(range(6))\n",
    "a = mean(args)\n",
    "print(a)"
   ]
  },
  {
   "attachments": {},
   "cell_type": "markdown",
   "metadata": {},
   "source": [
    "**匿名函数**  \n",
    "Python使用lambda创建匿名函数。所谓匿名，就是不使用def语句定义一个函数。lambda的主体是一个表达式，只能在lambda表达式中封装有限的逻辑。lambda函数拥有自己的命名空间，并且不能访问自己参数列表外或全局命名空间中的参数。"
   ]
  },
  {
   "cell_type": "code",
   "execution_count": 40,
   "metadata": {},
   "outputs": [
    {
     "name": "stdout",
     "output_type": "stream",
     "text": [
      "相加后的值为 :  50\n"
     ]
    }
   ],
   "source": [
    "sum2 = lambda arg1,arg2:arg1+arg2\n",
    "#调用sum函数\n",
    "print (\"相加后的值为 : \", sum2( 20, 30 ))"
   ]
  }
 ],
 "metadata": {
  "kernelspec": {
   "display_name": "base",
   "language": "python",
   "name": "python3"
  },
  "language_info": {
   "codemirror_mode": {
    "name": "ipython",
    "version": 3
   },
   "file_extension": ".py",
   "mimetype": "text/x-python",
   "name": "python",
   "nbconvert_exporter": "python",
   "pygments_lexer": "ipython3",
   "version": "3.9.16"
  },
  "orig_nbformat": 4
 },
 "nbformat": 4,
 "nbformat_minor": 2
}
