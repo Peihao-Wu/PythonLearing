{
 "cells": [
  {
   "attachments": {},
   "cell_type": "markdown",
   "metadata": {},
   "source": [
    "# pandas数据分析基础"
   ]
  },
  {
   "cell_type": "code",
   "execution_count": 9,
   "metadata": {},
   "outputs": [],
   "source": [
    "import pandas as pd\n",
    "import numpy as np\n",
    "import matplotlib\n",
    "import matplotlib.pyplot as plt"
   ]
  },
  {
   "attachments": {},
   "cell_type": "markdown",
   "metadata": {},
   "source": [
    "## 1 pandas的数据结构及常用操作"
   ]
  },
  {
   "attachments": {},
   "cell_type": "markdown",
   "metadata": {},
   "source": [
    "pandas的核心是Series和DataFrame两大数据结构，数据分析相关的所有事务都是围绕着这两种结构进行的。其中，Series数据结构用于存储一个序列的一维数组，而DataFrame数据结构则用于存储复杂数据的二维数据结构。"
   ]
  },
  {
   "cell_type": "code",
   "execution_count": 10,
   "metadata": {},
   "outputs": [
    {
     "name": "stdout",
     "output_type": "stream",
     "text": [
      "0    1.0\n",
      "1    3.0\n",
      "2    5.0\n",
      "3    NaN\n",
      "4    6.0\n",
      "5    8.0\n",
      "dtype: float64\n"
     ]
    }
   ],
   "source": [
    "# 创建Series对象\n",
    "se1 = pd.Series([1, 3, 5, np.nan, 6, 8])\n",
    "print(se1)\n",
    "del se1"
   ]
  },
  {
   "cell_type": "code",
   "execution_count": 17,
   "metadata": {},
   "outputs": [
    {
     "name": "stdout",
     "output_type": "stream",
     "text": [
      "a    1.0\n",
      "b    3.0\n",
      "c    5.0\n",
      "d    NaN\n",
      "e    6.0\n",
      "f    8.0\n",
      "dtype: float64\n"
     ]
    }
   ],
   "source": [
    "se2 = pd.Series([1, 3, 5, np.nan, 6, 8],\n",
    "                index=['a', 'b', 'c', 'd', 'e', 'f'])\n",
    "# index参数指定索引\n",
    "print(se2)"
   ]
  },
  {
   "cell_type": "code",
   "execution_count": 18,
   "metadata": {},
   "outputs": [
    {
     "name": "stdout",
     "output_type": "stream",
     "text": [
      "0    1.0\n",
      "1    3.0\n",
      "2    5.0\n",
      "3    NaN\n",
      "4    6.0\n",
      "5    8.0\n",
      "dtype: float64\n",
      "a    1.0\n",
      "b    3.0\n",
      "c    5.0\n",
      "d    NaN\n",
      "e    6.0\n",
      "f    8.0\n",
      "dtype: float64\n"
     ]
    }
   ],
   "source": [
    "# 用NumPy数组或其他Series对象定义新的Series对象\n",
    "arr = np.array([1, 3, 5, np.nan, 6, 8])\n",
    "se3 = pd.Series(arr)\n",
    "print(se3)\n",
    "se4 = pd.Series(se2)\n",
    "print(se4)\n",
    "del se3, se4, se2, arr"
   ]
  },
  {
   "cell_type": "code",
   "execution_count": 20,
   "metadata": {},
   "outputs": [
    {
     "name": "stdout",
     "output_type": "stream",
     "text": [
      "a    1.0\n",
      "b    3.0\n",
      "c    5.0\n",
      "d    NaN\n",
      "e    6.0\n",
      "f    8.0\n",
      "dtype: float64\n"
     ]
    }
   ],
   "source": [
    "# 用字典定义新的Series对象\n",
    "dic = {'a': 1, 'b': 3, 'c': 5, 'd': np.nan, 'e': 6, 'f': 8}\n",
    "se5 = pd.Series(dic)\n",
    "print(se5)\n",
    "del dic"
   ]
  },
  {
   "cell_type": "code",
   "execution_count": 21,
   "metadata": {},
   "outputs": [
    {
     "name": "stdout",
     "output_type": "stream",
     "text": [
      "[ 1.  3.  5. nan  6.  8.]\n",
      "Index(['a', 'b', 'c', 'd', 'e', 'f'], dtype='object')\n"
     ]
    }
   ],
   "source": [
    "# 查看Series值和标签\n",
    "print(se5.values)\n",
    "print(se5.index)"
   ]
  },
  {
   "cell_type": "code",
   "execution_count": 26,
   "metadata": {},
   "outputs": [
    {
     "name": "stdout",
     "output_type": "stream",
     "text": [
      "---\n",
      " 1.0\n",
      "---\n",
      " 1.0\n",
      "---\n",
      " a    1.0\n",
      "b    3.0\n",
      "c    5.0\n",
      "dtype: float64\n",
      "---\n",
      " a    1.0\n",
      "b    3.0\n",
      "c    5.0\n",
      "dtype: float64\n"
     ]
    }
   ],
   "source": [
    "# 选择内部元素\n",
    "print('---\\n', se5['a'])\n",
    "print('---\\n', se5[0])\n",
    "print('---\\n', se5[['a', 'b', 'c']])\n",
    "print('---\\n', se5[[0, 1, 2]])"
   ]
  }
 ],
 "metadata": {
  "kernelspec": {
   "display_name": "tf_env",
   "language": "python",
   "name": "python3"
  },
  "language_info": {
   "codemirror_mode": {
    "name": "ipython",
    "version": 3
   },
   "file_extension": ".py",
   "mimetype": "text/x-python",
   "name": "python",
   "nbconvert_exporter": "python",
   "pygments_lexer": "ipython3",
   "version": "3.9.16"
  },
  "orig_nbformat": 4
 },
 "nbformat": 4,
 "nbformat_minor": 2
}
