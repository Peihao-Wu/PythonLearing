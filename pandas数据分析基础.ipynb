{
 "cells": [
  {
   "attachments": {},
   "cell_type": "markdown",
   "metadata": {},
   "source": [
    "# pandas数据分析基础"
   ]
  },
  {
   "cell_type": "code",
   "execution_count": 175,
   "metadata": {},
   "outputs": [],
   "source": [
    "import pandas as pd\n",
    "from pandas import DataFrame, Series\n",
    "import numpy as np\n",
    "import matplotlib\n",
    "import matplotlib.pyplot as plt"
   ]
  },
  {
   "attachments": {},
   "cell_type": "markdown",
   "metadata": {},
   "source": [
    "## 1 pandas的数据结构及常用操作 \n",
    "pandas的核心是Series和DataFrame两大数据结构，数据分析相关的所有事务都是围绕着这两种结构进行的。其中，Series数据结构用于存储一个序列的一维数组，而DataFrame数据结构则用于存储复杂数据的二维数据结构。"
   ]
  },
  {
   "attachments": {},
   "cell_type": "markdown",
   "metadata": {},
   "source": [
    "### 1.1 Series对象及常用操作"
   ]
  },
  {
   "cell_type": "code",
   "execution_count": 176,
   "metadata": {},
   "outputs": [
    {
     "name": "stdout",
     "output_type": "stream",
     "text": [
      "0    1.0\n",
      "1    3.0\n",
      "2    5.0\n",
      "3    NaN\n",
      "4    6.0\n",
      "5    8.0\n",
      "dtype: float64\n"
     ]
    }
   ],
   "source": [
    "# 创建Series对象\n",
    "se1 = pd.Series([1, 3, 5, np.nan, 6, 8])\n",
    "print(se1)\n",
    "del se1"
   ]
  },
  {
   "cell_type": "code",
   "execution_count": 177,
   "metadata": {},
   "outputs": [
    {
     "name": "stdout",
     "output_type": "stream",
     "text": [
      "a    1.0\n",
      "b    3.0\n",
      "c    5.0\n",
      "d    NaN\n",
      "e    6.0\n",
      "f    8.0\n",
      "dtype: float64\n"
     ]
    }
   ],
   "source": [
    "se2 = pd.Series([1, 3, 5, np.nan, 6, 8],\n",
    "                index=['a', 'b', 'c', 'd', 'e', 'f'])\n",
    "# index参数指定索引\n",
    "print(se2)"
   ]
  },
  {
   "cell_type": "code",
   "execution_count": 178,
   "metadata": {},
   "outputs": [
    {
     "name": "stdout",
     "output_type": "stream",
     "text": [
      "0    1.0\n",
      "1    3.0\n",
      "2    5.0\n",
      "3    NaN\n",
      "4    6.0\n",
      "5    8.0\n",
      "dtype: float64\n",
      "a    1.0\n",
      "b    3.0\n",
      "c    5.0\n",
      "d    NaN\n",
      "e    6.0\n",
      "f    8.0\n",
      "dtype: float64\n"
     ]
    }
   ],
   "source": [
    "# 用NumPy数组或其他Series对象定义新的Series对象\n",
    "arr = np.array([1, 3, 5, np.nan, 6, 8])\n",
    "se3 = pd.Series(arr)\n",
    "print(se3)\n",
    "se4 = pd.Series(se2)\n",
    "print(se4)\n",
    "del se3, se4, se2, arr"
   ]
  },
  {
   "cell_type": "code",
   "execution_count": 179,
   "metadata": {},
   "outputs": [
    {
     "name": "stdout",
     "output_type": "stream",
     "text": [
      "a    1.0\n",
      "b    3.0\n",
      "c    5.0\n",
      "d    NaN\n",
      "e    6.0\n",
      "f    8.0\n",
      "dtype: float64\n"
     ]
    }
   ],
   "source": [
    "# 用字典定义新的Series对象\n",
    "dic = {'a': 1, 'b': 3, 'c': 5, 'd': np.nan, 'e': 6, 'f': 8}\n",
    "se5 = pd.Series(dic)\n",
    "print(se5)\n",
    "del dic"
   ]
  },
  {
   "cell_type": "code",
   "execution_count": 180,
   "metadata": {},
   "outputs": [
    {
     "name": "stdout",
     "output_type": "stream",
     "text": [
      "[ 1.  3.  5. nan  6.  8.]\n",
      "Index(['a', 'b', 'c', 'd', 'e', 'f'], dtype='object')\n"
     ]
    }
   ],
   "source": [
    "# 查看Series值和标签\n",
    "print(se5.values)\n",
    "print(se5.index)"
   ]
  },
  {
   "cell_type": "code",
   "execution_count": 181,
   "metadata": {},
   "outputs": [
    {
     "name": "stdout",
     "output_type": "stream",
     "text": [
      "---\n",
      " 1.0\n",
      "---\n",
      " 1.0\n",
      "---\n",
      " a    1.0\n",
      "b    3.0\n",
      "c    5.0\n",
      "dtype: float64\n",
      "---\n",
      " a    1.0\n",
      "b    3.0\n",
      "c    5.0\n",
      "dtype: float64\n"
     ]
    }
   ],
   "source": [
    "# 选择内部元素\n",
    "print('---\\n', se5['a'])\n",
    "print('---\\n', se5[0])\n",
    "print('---\\n', se5[['a', 'b', 'c']])\n",
    "print('---\\n', se5[[0, 1, 2]])"
   ]
  },
  {
   "cell_type": "code",
   "execution_count": 182,
   "metadata": {},
   "outputs": [
    {
     "name": "stdout",
     "output_type": "stream",
     "text": [
      "---\n",
      " a    1.0\n",
      "b    3.0\n",
      "c    5.0\n",
      "d    NaN\n",
      "e    6.0\n",
      "f    8.0\n",
      "dtype: float64\n",
      "---\n",
      " a    10.0\n",
      "b     3.0\n",
      "c     5.0\n",
      "d     NaN\n",
      "e     6.0\n",
      "f     8.0\n",
      "dtype: float64\n"
     ]
    }
   ],
   "source": [
    "# 给元素赋值\n",
    "print('---\\n', se5)\n",
    "se5['a'] = 10\n",
    "print('---\\n', se5)"
   ]
  },
  {
   "cell_type": "code",
   "execution_count": 183,
   "metadata": {},
   "outputs": [
    {
     "name": "stdout",
     "output_type": "stream",
     "text": [
      "---\n",
      " a    20.0\n",
      "b     6.0\n",
      "c    10.0\n",
      "d     NaN\n",
      "e    12.0\n",
      "f    16.0\n",
      "dtype: float64\n",
      "---\n",
      " a    22026.465795\n",
      "b       20.085537\n",
      "c      148.413159\n",
      "d             NaN\n",
      "e      403.428793\n",
      "f     2980.957987\n",
      "dtype: float64\n"
     ]
    }
   ],
   "source": [
    "# 算数运算\n",
    "print('---\\n', se5 * 2)\n",
    "print('---\\n', np.exp(se5))\n",
    "del se5"
   ]
  },
  {
   "cell_type": "code",
   "execution_count": 184,
   "metadata": {},
   "outputs": [
    {
     "name": "stdout",
     "output_type": "stream",
     "text": [
      "---\n",
      " 1    2\n",
      "4    2\n",
      "5    2\n",
      "2    1\n",
      "3    1\n",
      "6    1\n",
      "7    1\n",
      "dtype: int64\n",
      "---\n",
      " [1 2 3 4 5 6 7]\n"
     ]
    }
   ],
   "source": [
    "# 统计元素重复出现次数\n",
    "se6 = pd.Series([1, 2, 3, 4, 5, 6, 7, 5, 4, 1])\n",
    "print('---\\n', se6.value_counts())\n",
    "print('---\\n', se6.unique())"
   ]
  },
  {
   "cell_type": "code",
   "execution_count": 185,
   "metadata": {},
   "outputs": [
    {
     "name": "stdout",
     "output_type": "stream",
     "text": [
      "0    False\n",
      "1     True\n",
      "2    False\n",
      "3     True\n",
      "4    False\n",
      "5     True\n",
      "6    False\n",
      "7    False\n",
      "8     True\n",
      "9    False\n",
      "dtype: bool\n"
     ]
    }
   ],
   "source": [
    "# 判断元素是否在Series中\n",
    "print(se6.isin([2, 4, 6, 8]))\n",
    "del se6"
   ]
  },
  {
   "attachments": {},
   "cell_type": "markdown",
   "metadata": {},
   "source": [
    "### 1.2 DataFrame对象及常用操作"
   ]
  },
  {
   "cell_type": "code",
   "execution_count": 186,
   "metadata": {},
   "outputs": [
    {
     "name": "stdout",
     "output_type": "stream",
     "text": [
      "---\n",
      " DatetimeIndex(['2013-01-01', '2013-01-02', '2013-01-03', '2013-01-04',\n",
      "               '2013-01-05', '2013-01-06'],\n",
      "              dtype='datetime64[ns]', freq='D')\n",
      "---\n",
      "                    A         B         C         D\n",
      "2013-01-01 -1.736077  0.559856 -0.325183  0.401883\n",
      "2013-01-02 -0.333584 -2.052491 -2.105905  1.045322\n",
      "2013-01-03 -1.157804  0.113889  0.950636 -0.317516\n",
      "2013-01-04 -0.198904  1.624416 -1.300936 -1.857401\n",
      "2013-01-05 -0.101029 -2.353514 -0.733838 -0.305683\n",
      "2013-01-06 -0.601559 -0.488923 -0.548419 -0.028804\n"
     ]
    }
   ],
   "source": [
    "# 创建DataFrame对象\n",
    "dates = pd.date_range('20130101', periods=6)\n",
    "print('---\\n', dates)\n",
    "df1 = pd.DataFrame(np.random.randn(6, 4), index=dates, columns=list('ABCD'))\n",
    "print('---\\n', df1)\n",
    "del dates, df1"
   ]
  },
  {
   "cell_type": "code",
   "execution_count": 187,
   "metadata": {},
   "outputs": [
    {
     "name": "stdout",
     "output_type": "stream",
     "text": [
      "---\n",
      "    name   age\n",
      "a    张艳  18.0\n",
      "b    李明  20.0\n",
      "c    王勇  19.0\n",
      "d    刘晨  21.0\n",
      "e  张sir   NaN\n"
     ]
    }
   ],
   "source": [
    "dt = {'name': {'a': '张艳', 'b': '李明', 'c': '王勇', 'd': '刘晨', 'e': '张sir'},\n",
    "      'age': {'a': 18, 'b': 20, 'c': 19, 'd': 21}}\n",
    "df = pd.DataFrame(dt)\n",
    "print('---\\n', df)\n",
    "del dt"
   ]
  },
  {
   "cell_type": "code",
   "execution_count": 188,
   "metadata": {},
   "outputs": [
    {
     "name": "stdout",
     "output_type": "stream",
     "text": [
      "---\n",
      " a      张艳\n",
      "b      李明\n",
      "c      王勇\n",
      "d      刘晨\n",
      "e    张sir\n",
      "Name: name, dtype: object\n",
      "---\n",
      "    name   age\n",
      "a    张艳  18.0\n",
      "b    李明  20.0\n",
      "c    王勇  19.0\n",
      "d    刘晨  21.0\n",
      "e  张sir   NaN\n",
      "---\n",
      " [['张艳' 18.0]\n",
      " ['李明' 20.0]\n",
      " ['王勇' 19.0]\n",
      " ['刘晨' 21.0]\n",
      " ['张sir' nan]]\n",
      "---\n",
      " ['张艳' '李明' '王勇' '刘晨' '张sir']\n",
      "---\n",
      " [['张艳' 18.0]]\n",
      "---\n",
      " [['张艳' 18.0]\n",
      " ['王勇' 19.0]]\n"
     ]
    }
   ],
   "source": [
    "# 利用DataFrame属性选择元素\n",
    "print('---\\n', df['name'])\n",
    "# 选择所有元素\n",
    "print('---\\n', df[:])\n",
    "print('---\\n', df.values)\n",
    "# 选择一列元素\n",
    "print('---\\n', df['name'].values)\n",
    "# 选择一行元素\n",
    "print('---\\n', df[:1].values)\n",
    "# 选择多行元素\n",
    "print('---\\n', df[0:-1:2].values)"
   ]
  },
  {
   "cell_type": "code",
   "execution_count": 189,
   "metadata": {},
   "outputs": [
    {
     "name": "stdout",
     "output_type": "stream",
     "text": [
      "---\n",
      " name      张艳\n",
      "age     18.0\n",
      "Name: a, dtype: object\n",
      "---\n",
      "    name   age\n",
      "a    张艳  18.0\n",
      "c    王勇  19.0\n",
      "e  张sir   NaN\n"
     ]
    }
   ],
   "source": [
    "# 选择DataFrame实例中的一个元素或一个范围内的元素\n",
    "print('---\\n', df.loc['a'])\n",
    "print('---\\n', df.loc['a':'e':2])"
   ]
  },
  {
   "cell_type": "code",
   "execution_count": 190,
   "metadata": {},
   "outputs": [
    {
     "name": "stdout",
     "output_type": "stream",
     "text": [
      "---\n",
      "    name   age\n",
      "a    张艳  18.0\n",
      "b    李明  20.0\n",
      "c    王勇  19.0\n",
      "d    刘晨  21.0\n",
      "e  张sir   NaN\n",
      "---\n",
      "    name   age\n",
      "a    张艳  25.0\n",
      "b    李明  20.0\n",
      "c    王勇  19.0\n",
      "d    刘晨  21.0\n",
      "e  张sir   NaN\n",
      "---\n",
      "    name   age sex\n",
      "a    张艳  25.0   女\n",
      "b    李明  20.0   男\n",
      "c    王勇  19.0   男\n",
      "d    刘晨  21.0   女\n",
      "e  张sir   NaN   男\n",
      "---\n",
      "    name   age sex\n",
      "a    张艳  25.0   女\n",
      "b    李明  20.0   男\n",
      "c    王勇  19.0   男\n",
      "d    刘晨  21.0   女\n",
      "e  张sir   NaN   男\n",
      "f  六sir  18.0   男\n",
      "---\n",
      "    name   age sex\n",
      "a    张艳  25.0   女\n",
      "b    李明  20.0   男\n",
      "c    王勇  19.0   男\n",
      "d    刘晨  21.0   女\n",
      "e  张sir   NaN   男\n",
      "f  六sir  18.0   女\n",
      "---\n",
      "    name   age sex\n",
      "a    张艳  25.0   女\n",
      "b    李明  20.0   男\n",
      "c    王勇  19.0   男\n",
      "d    刘晨  21.0   女\n",
      "e  张sir   NaN   男\n",
      "---\n",
      "    name  age sex\n",
      "a    张艳   20   女\n",
      "b    李明   21   男\n",
      "c    王勇   22   男\n",
      "d    刘晨   23   女\n",
      "e  张sir   24   男\n",
      "---\n",
      "    name  age sex\n",
      "a    张艳   25   女\n",
      "b    李明   21   男\n",
      "c    王勇   22   男\n",
      "d    刘晨   23   女\n",
      "e  张sir   24   男\n"
     ]
    }
   ],
   "source": [
    "# 给DataFrame实例赋值\n",
    "print('---\\n', df)\n",
    "df.loc['a'] = ['张艳', 25]\n",
    "print('---\\n', df)\n",
    "# 添加一列元素\n",
    "df['sex'] = ['女', '男', '男', '女', '男']\n",
    "print('---\\n', df)\n",
    "# 添加一行元素\n",
    "df.loc['f'] = ['六sir', 18, '男']\n",
    "print('---\\n', df)\n",
    "# 修改一行元素\n",
    "df.loc['f'] = ['六sir', 18, '女']\n",
    "print('---\\n', df)\n",
    "# 删除一行元素\n",
    "df.drop('f', inplace=True)\n",
    "print('---\\n', df)\n",
    "# 修改一列元素或一个元素\n",
    "df['age'] = [20, 21, 22, 23, 24]\n",
    "print('---\\n', df)\n",
    "df.loc['a', 'age'] = 25\n",
    "print('---\\n', df)"
   ]
  },
  {
   "cell_type": "code",
   "execution_count": 191,
   "metadata": {},
   "outputs": [
    {
     "name": "stdout",
     "output_type": "stream",
     "text": [
      "---\n",
      "    name  age\n",
      "a    张艳   25\n",
      "b    李明   21\n",
      "c    王勇   22\n",
      "d    刘晨   23\n",
      "e  张sir   24\n",
      "---\n",
      "    name sex\n",
      "a    张艳   女\n",
      "b    李明   男\n",
      "c    王勇   男\n",
      "d    刘晨   女\n",
      "e  张sir   男\n",
      "---\n",
      "    name sex\n",
      "a    张艳   女\n",
      "b    李明   男\n",
      "c    王勇   男\n",
      "d    刘晨   女\n",
      "e  张sir   男\n",
      "---\n",
      "    name  age sex\n",
      "c    王勇   22   男\n",
      "d    刘晨   23   女\n",
      "e  张sir   24   男\n"
     ]
    }
   ],
   "source": [
    "# 删除DataFrame实例中的一列元素\n",
    "# 拷贝df为df2，格式为DataFrame\n",
    "df2 = pd.DataFrame(df)\n",
    "del df2['sex']\n",
    "print('---\\n', df2)\n",
    "del df2\n",
    "# 使用pop()方法删除DataFrame实例中的一列元素\n",
    "df2 = pd.DataFrame(df)\n",
    "df2.pop('age')\n",
    "print('---\\n', df2)\n",
    "# 使用drop()方法删除DataFrame实例中的一列元素或一行元素\n",
    "df2 = pd.DataFrame(df)\n",
    "df2.drop('age', axis=1, inplace=True)\n",
    "print('---\\n', df2)\n",
    "df2 = pd.DataFrame(df)\n",
    "df2.drop(['a','b'], axis=0, inplace=True)\n",
    "print('---\\n', df2)\n",
    "del df2"
   ]
  },
  {
   "cell_type": "code",
   "execution_count": 192,
   "metadata": {},
   "outputs": [
    {
     "name": "stdout",
     "output_type": "stream",
     "text": [
      "---\n",
      "    name  age sex\n",
      "a    张艳   25   女\n",
      "e  张sir   24   男\n"
     ]
    }
   ],
   "source": [
    "# 筛选元素\n",
    "# 筛选出df中age列大于23的元素\n",
    "print('---\\n', df[df['age'] > 23])"
   ]
  },
  {
   "cell_type": "code",
   "execution_count": 193,
   "metadata": {},
   "outputs": [
    {
     "name": "stdout",
     "output_type": "stream",
     "text": [
      "---\n",
      "     name    age    sex\n",
      "a   True   True   True\n",
      "b  False  False  False\n",
      "c  False  False  False\n",
      "d  False  False   True\n",
      "e  False  False  False\n"
     ]
    }
   ],
   "source": [
    "# 判断元素是否在DataFrame实例中\n",
    "print('---\\n', df.isin(['张艳', 25, '女']))"
   ]
  },
  {
   "cell_type": "code",
   "execution_count": 194,
   "metadata": {},
   "outputs": [
    {
     "name": "stdout",
     "output_type": "stream",
     "text": [
      "---\n",
      "        a   b   c   d     e\n",
      "name  张艳  李明  王勇  刘晨  张sir\n",
      "age   25  21  22  23    24\n",
      "sex    女   男   男   女     男\n"
     ]
    }
   ],
   "source": [
    "# dataframe转置\n",
    "print('---\\n', df.T)"
   ]
  },
  {
   "attachments": {},
   "cell_type": "markdown",
   "metadata": {},
   "source": [
    "## 2 pandas索引"
   ]
  },
  {
   "attachments": {},
   "cell_type": "markdown",
   "metadata": {},
   "source": [
    "### 2.1 Index索引对象"
   ]
  },
  {
   "cell_type": "code",
   "execution_count": 195,
   "metadata": {},
   "outputs": [
    {
     "name": "stdout",
     "output_type": "stream",
     "text": [
      "---\n",
      " Int64Index([1, 2, 3, 4, 5], dtype='int64')\n",
      "---\n",
      " RangeIndex(start=1, stop=6, step=1)\n",
      "---\n",
      " MultiIndex([('a', 1),\n",
      "            ('a', 2),\n",
      "            ('b', 1),\n",
      "            ('b', 2),\n",
      "            ('c', 1)],\n",
      "           )\n",
      "---\n",
      " DatetimeIndex(['2019-01-01', '2019-01-02', '2019-01-03', '2019-01-04',\n",
      "               '2019-01-05'],\n",
      "              dtype='datetime64[ns]', freq=None)\n",
      "---\n",
      " PeriodIndex(['2019-01', '2019-02', '2019-03', '2019-04', '2019-05'], dtype='period[M]')\n"
     ]
    }
   ],
   "source": [
    "# pandas主要的Index对象\n",
    "# Index对象\n",
    "ind = pd.Index([1, 2, 3, 4, 5])\n",
    "print('---\\n', ind)\n",
    "# RangeIndex对象\n",
    "ind = pd.RangeIndex(1, 6)\n",
    "print('---\\n', ind)\n",
    "# MultiIndex对象\n",
    "ind = pd.MultiIndex.from_arrays([['a', 'a', 'b', 'b', 'c'], [1, 2, 1, 2, 1]])\n",
    "print('---\\n', ind)\n",
    "# DatetimeIndex对象\n",
    "ind = pd.DatetimeIndex(['2019-01-01', '2019-01-02', '2019-01-03', '2019-01-04', '2019-01-05'])\n",
    "print('---\\n', ind)\n",
    "# PeriodIndex对象\n",
    "ind = pd.PeriodIndex(['2019-01', '2019-02', '2019-03', '2019-04', '2019-05'], freq='M')\n",
    "print('---\\n', ind)\n",
    "\n",
    "del ind"
   ]
  },
  {
   "attachments": {},
   "cell_type": "markdown",
   "metadata": {},
   "source": [
    "### 2.2 Index对象的属性和方法"
   ]
  },
  {
   "cell_type": "code",
   "execution_count": 196,
   "metadata": {},
   "outputs": [
    {
     "name": "stdout",
     "output_type": "stream",
     "text": [
      "---\n",
      " Index(['name', 'age', 'sex'], dtype='object')\n"
     ]
    }
   ],
   "source": [
    "# 获取index对象\n",
    "index = df.T.index\n",
    "print('---\\n', index)"
   ]
  },
  {
   "cell_type": "code",
   "execution_count": 197,
   "metadata": {},
   "outputs": [
    {
     "name": "stdout",
     "output_type": "stream",
     "text": [
      "---\n",
      " Index(['name', 'age'], dtype='object')\n"
     ]
    }
   ],
   "source": [
    "# 索引切片\n",
    "print('---\\n', index[0:2])"
   ]
  },
  {
   "cell_type": "code",
   "execution_count": 198,
   "metadata": {},
   "outputs": [
    {
     "name": "stdout",
     "output_type": "stream",
     "text": [
      "a    1\n",
      "b    2\n",
      "c    3\n",
      "dtype: int64\n",
      "---\n",
      " True\n"
     ]
    }
   ],
   "source": [
    "# 判断索引是否属于Index对象\n",
    "index = pd.Index(['a','b','c'])\n",
    "se1 = pd.Series([1,2,3], index=index)\n",
    "print(se1)\n",
    "print('---\\n','a' in index)\n",
    "del index, se1"
   ]
  },
  {
   "cell_type": "code",
   "execution_count": 199,
   "metadata": {},
   "outputs": [
    {
     "name": "stdout",
     "output_type": "stream",
     "text": [
      "---\n",
      " Index(['a', 'b', 'c', 'c', 'd', 'e', 'f'], dtype='object')\n"
     ]
    }
   ],
   "source": [
    "# 连接两个Inedx对象\n",
    "index1 = pd.Index(['a', 'b', 'c'])\n",
    "index2 = pd.Index(['c', 'd', 'e', 'f'])\n",
    "index3 = index1.append(index2)\n",
    "print('---\\n', index3)"
   ]
  },
  {
   "cell_type": "code",
   "execution_count": 200,
   "metadata": {},
   "outputs": [
    {
     "name": "stdout",
     "output_type": "stream",
     "text": [
      "---\n",
      " Index(['a', 'b'], dtype='object')\n"
     ]
    }
   ],
   "source": [
    "# 计算差集\n",
    "index3 = index1.difference(index2)\n",
    "print('---\\n', index3)"
   ]
  },
  {
   "cell_type": "code",
   "execution_count": 201,
   "metadata": {},
   "outputs": [
    {
     "name": "stdout",
     "output_type": "stream",
     "text": [
      "---\n",
      " Index(['c'], dtype='object')\n"
     ]
    }
   ],
   "source": [
    "# 计算交集\n",
    "index3 = index1.intersection(index2)\n",
    "print('---\\n', index3)"
   ]
  },
  {
   "cell_type": "code",
   "execution_count": 202,
   "metadata": {},
   "outputs": [
    {
     "name": "stdout",
     "output_type": "stream",
     "text": [
      "---\n",
      " Index(['a', 'b', 'c', 'd', 'e', 'f'], dtype='object')\n"
     ]
    }
   ],
   "source": [
    "# 计算并集\n",
    "index3 = index1.union(index2)\n",
    "print('---\\n', index3)"
   ]
  },
  {
   "cell_type": "code",
   "execution_count": 203,
   "metadata": {},
   "outputs": [
    {
     "name": "stdout",
     "output_type": "stream",
     "text": [
      "---\n",
      " [False False  True]\n"
     ]
    }
   ],
   "source": [
    "# 判断索引是否存在\n",
    "print('---\\n', index1.isin(index2))"
   ]
  },
  {
   "cell_type": "code",
   "execution_count": 204,
   "metadata": {},
   "outputs": [
    {
     "name": "stdout",
     "output_type": "stream",
     "text": [
      "---\n",
      " Index(['a', 'b', 'c'], dtype='object')\n",
      "---\n",
      " Index(['a', 'c'], dtype='object')\n"
     ]
    }
   ],
   "source": [
    "# 删除索引\n",
    "print('---\\n', index1)\n",
    "index3 = index1.delete(1)\n",
    "print('---\\n', index3)"
   ]
  },
  {
   "cell_type": "code",
   "execution_count": 205,
   "metadata": {},
   "outputs": [
    {
     "name": "stdout",
     "output_type": "stream",
     "text": [
      "---\n",
      " Index(['a', 'd', 'b', 'c'], dtype='object')\n"
     ]
    }
   ],
   "source": [
    "# 插入元素\n",
    "index3 = index1.insert(1, 'd')\n",
    "print('---\\n', index3)"
   ]
  },
  {
   "cell_type": "code",
   "execution_count": 206,
   "metadata": {},
   "outputs": [
    {
     "name": "stdout",
     "output_type": "stream",
     "text": [
      "---\n",
      " True\n",
      "---\n",
      " True\n",
      "---\n",
      " False\n"
     ]
    }
   ],
   "source": [
    "# 判断索引是否重复\n",
    "index3 = index1.append(index2)\n",
    "print('---\\n', index1.is_unique)\n",
    "print('---\\n', index2.is_unique)\n",
    "print('---\\n', index3.is_unique)"
   ]
  },
  {
   "cell_type": "code",
   "execution_count": 207,
   "metadata": {},
   "outputs": [
    {
     "name": "stdout",
     "output_type": "stream",
     "text": [
      "---\n",
      " Index(['a', 'b', 'c'], dtype='object')\n"
     ]
    }
   ],
   "source": [
    "# 筛选出Index对象去重后的元素\n",
    "index1 = pd.Index(['a', 'b', 'c', 'c'])\n",
    "print('---\\n', index1.unique())"
   ]
  },
  {
   "cell_type": "code",
   "execution_count": 208,
   "metadata": {},
   "outputs": [
    {
     "name": "stdout",
     "output_type": "stream",
     "text": [
      "---\n",
      " False\n",
      "---\n",
      " True\n"
     ]
    }
   ],
   "source": [
    "# 判断递增或递减\n",
    "index1 = pd.Index([1, 2, 3, 4, 5])\n",
    "print('---\\n', index1.is_monotonic_decreasing)\n",
    "print('---\\n', index1.is_monotonic_increasing)\n",
    "del index1, index2, index3,df"
   ]
  },
  {
   "attachments": {},
   "cell_type": "markdown",
   "metadata": {},
   "source": [
    "### 2.3 重新索引"
   ]
  },
  {
   "cell_type": "code",
   "execution_count": 209,
   "metadata": {},
   "outputs": [],
   "source": [
    "se1 = pd.Series([1, 2, 3, 4], index=['e', 'a', 'd', 'b'])\n",
    "se1.reindex(['a','b','c','d','e'])\n",
    "# 重新索引\n",
    "# 重新索引时，如果索引不存在，会引入缺失值\n",
    "# 重新索引时，如果索引存在，会重新排序\n",
    "del se1"
   ]
  },
  {
   "attachments": {},
   "cell_type": "markdown",
   "metadata": {},
   "source": [
    "### 2.4 层级索引"
   ]
  },
  {
   "cell_type": "code",
   "execution_count": 210,
   "metadata": {},
   "outputs": [
    {
     "name": "stdout",
     "output_type": "stream",
     "text": [
      "---\n",
      " 1  product     电视机\n",
      "   price      2300\n",
      "2  product      空调\n",
      "   price      1980\n",
      "dtype: object\n"
     ]
    }
   ],
   "source": [
    "# 创建Series的层级索引\n",
    "se1 = pd.Series(['电视机',2300,'空调',1980],\n",
    "                index=[[1,1,2,2],\n",
    "                       ['product','price','product','price']])\n",
    "print('---\\n', se1)\n",
    "del se1"
   ]
  },
  {
   "cell_type": "code",
   "execution_count": 211,
   "metadata": {},
   "outputs": [
    {
     "name": "stdout",
     "output_type": "stream",
     "text": [
      "---\n",
      "              价格   折扣率\n",
      "格力  电视机  2300.0  1.00\n",
      "    空调   1980.0  1.00\n",
      "TCL 电视机  3600.0  0.96\n",
      "    空调   2100.0  0.98\n"
     ]
    }
   ],
   "source": [
    "# 创建DataFrame的层级索引\n",
    "## 隐式构造层级索引\n",
    "data = np.array([[2300,1.00],[1980,1.00],[3600,0.96],[2100,0.98]]) # type: ignore\n",
    "df = DataFrame(data,columns=['价格','折扣率'],\n",
    "               index=[['格力','格力','TCL','TCL'],\n",
    "                      ['电视机','空调','电视机','空调']])\n",
    "print('---\\n', df)"
   ]
  },
  {
   "attachments": {},
   "cell_type": "markdown",
   "metadata": {},
   "source": [
    "层级索引（MultiIndex）继承于Index，是多级索引的对象。MultiIndex有levels和labels两个信息。levels表示每个层级中分别有哪些标签，labels是每个标签的下标。利用levels属性可获取索引中每一级的标签，而用labels属性可获取标签的下标。还可以使用get_loc()和get_indexer()来获取单个和多个标签的下标。"
   ]
  },
  {
   "cell_type": "code",
   "execution_count": 212,
   "metadata": {},
   "outputs": [
    {
     "name": "stdout",
     "output_type": "stream",
     "text": [
      "---\n",
      " MultiIndex([( '格力', '电视机'),\n",
      "            ( '格力',  '空调'),\n",
      "            ('TCL', '电视机'),\n",
      "            ('TCL',  '空调')],\n",
      "           )\n",
      "---\n",
      " Index(['TCL', '格力'], dtype='object')\n",
      "---\n",
      " 0\n",
      "---\n",
      " [ 0  3 -1]\n"
     ]
    }
   ],
   "source": [
    "mindex = df.index\n",
    "print('---\\n', mindex[0:4])\n",
    "print('---\\n', mindex.levels[0])\n",
    "print('---\\n', mindex.get_loc(('格力','电视机')))\n",
    "print('---\\n', mindex.get_indexer([('格力','电视机'),('TCL','空调'),'nothing']))\n",
    "del df, mindex"
   ]
  },
  {
   "cell_type": "code",
   "execution_count": 214,
   "metadata": {},
   "outputs": [
    {
     "name": "stdout",
     "output_type": "stream",
     "text": [
      "---\n",
      "              价格   折扣率\n",
      "格力  电视机  2300.0  1.00\n",
      "    空调   1980.0  1.00\n",
      "TCL 电视机  3600.0  0.96\n",
      "    空调   2100.0  0.98\n",
      "---\n",
      "              价格   折扣率\n",
      "格力  电视机  2300.0  1.00\n",
      "    空调   1980.0  1.00\n",
      "TCL 电视机  3600.0  0.96\n",
      "    空调   2100.0  0.98\n",
      "---\n",
      "              价格   折扣率\n",
      "格力  电视机  2300.0  1.00\n",
      "    空调   1980.0  1.00\n",
      "TCL 电视机  3600.0  0.96\n",
      "    空调   2100.0  0.98\n"
     ]
    }
   ],
   "source": [
    "# 显示构造pd.MultiIndex对象\n",
    "df_arrays = DataFrame(data,columns=['价格','折扣率'],\n",
    "    index=pd.MultiIndex.from_arrays([['格力','格力','TCL','TCL'],\n",
    "    ['电视机','空调','电视机','空调']]))\n",
    "\n",
    "df_tuples = DataFrame(data,columns=['价格','折扣率'],\n",
    "    index=pd.MultiIndex.from_tuples([('格力','电视机'),('格力','空调'),\n",
    "    ('TCL','电视机'),('TCL','空调')]))\n",
    "\n",
    "df_product = DataFrame(data,columns=['价格','折扣率'],\n",
    "    index=pd.MultiIndex.from_product([['格力','TCL'],['电视机','空调']]))\n",
    "print('---\\n', df_arrays)\n",
    "print('---\\n', df_tuples)\n",
    "print('---\\n', df_product)"
   ]
  }
 ],
 "metadata": {
  "kernelspec": {
   "display_name": "tf_env",
   "language": "python",
   "name": "python3"
  },
  "language_info": {
   "codemirror_mode": {
    "name": "ipython",
    "version": 3
   },
   "file_extension": ".py",
   "mimetype": "text/x-python",
   "name": "python",
   "nbconvert_exporter": "python",
   "pygments_lexer": "ipython3",
   "version": "3.9.16"
  },
  "orig_nbformat": 4
 },
 "nbformat": 4,
 "nbformat_minor": 2
}
