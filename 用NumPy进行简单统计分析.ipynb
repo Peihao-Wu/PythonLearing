{
 "cells": [
  {
   "attachments": {},
   "cell_type": "markdown",
   "metadata": {},
   "source": [
    "# 用NumPy进行简单统计分析"
   ]
  },
  {
   "cell_type": "code",
   "execution_count": 1,
   "metadata": {},
   "outputs": [],
   "source": [
    "import numpy as np\n",
    "import matplotlib.pyplot as plt\n",
    "import scipy as sp"
   ]
  },
  {
   "attachments": {},
   "cell_type": "markdown",
   "metadata": {},
   "source": [
    "## 1 文件读写操作"
   ]
  },
  {
   "attachments": {},
   "cell_type": "markdown",
   "metadata": {},
   "source": [
    "常用的存储文件的格式有文本文件、CSV格式文件、二进制格式文件和多维数据文件等。其中CSV（Comma-Separated Value，逗号分隔值）格式是一种常见的文件格式。通常，数据库的转存文件就是CSV格式的，文件中的各个字段对应于数据库表中的列，"
   ]
  },
  {
   "attachments": {},
   "cell_type": "markdown",
   "metadata": {},
   "source": [
    "### 1.1 使用NumPy读写文本文件"
   ]
  },
  {
   "cell_type": "code",
   "execution_count": 2,
   "metadata": {},
   "outputs": [
    {
     "name": "stdout",
     "output_type": "stream",
     "text": [
      "[[0.3219883  0.89042245]\n",
      " [0.58805226 0.12659609]\n",
      " [0.14134122 0.46789559]\n",
      " [0.02208966 0.72727471]\n",
      " [0.52438734 0.54493524]\n",
      " [0.45637326 0.50138226]\n",
      " [0.39446855 0.1511723 ]\n",
      " [0.36087518 0.16207701]\n",
      " [0.33795869 0.18032328]\n",
      " [0.3909914  0.03564821]]\n"
     ]
    }
   ],
   "source": [
    "# 将一维或二维数组写入txt或csv文件\n",
    "# 设置随机数种子\n",
    "np.random.seed(2023)\n",
    "array = np.random.rand(10, 2) # 生成10行2列的随机数\n",
    "print(array)\n",
    "fname = 'test.txt'\n",
    "np.savetxt(fname, array,\n",
    "           fmt='%.3e', delimiter=' ',\n",
    "           newline='\\n', header='随机数',\n",
    "           footer='结束', comments='# ',\n",
    "           encoding=None)\n",
    "# 参数说明\n",
    "# fname: 文件名\n",
    "# array: 数组名\n",
    "# fmt: 格式\n",
    "# delimiter: 分隔符\n",
    "#  newline: 换行符\n",
    "# header: 文件头\n",
    "# footer: 文件尾\n",
    "# comments: 注释符\n",
    "# encoding: 编码\n",
    "\n",
    "del array, fname"
   ]
  },
  {
   "cell_type": "code",
   "execution_count": 3,
   "metadata": {},
   "outputs": [
    {
     "name": "stdout",
     "output_type": "stream",
     "text": [
      "[[0.322   0.8904 ]\n",
      " [0.5881  0.1266 ]\n",
      " [0.1413  0.4679 ]\n",
      " [0.02209 0.7273 ]\n",
      " [0.5244  0.5449 ]\n",
      " [0.4564  0.5014 ]\n",
      " [0.3945  0.1512 ]\n",
      " [0.3609  0.1621 ]\n",
      " [0.338   0.1803 ]\n",
      " [0.391   0.03565]]\n"
     ]
    }
   ],
   "source": [
    "# 读取txt或csv文件\n",
    "# 在numpy中，loadtxt()函数可以读取txt或csv文件\n",
    "fname = 'test.txt'\n",
    "array = np.loadtxt(fname, dtype=np.float64,\n",
    "                 delimiter=' ', skiprows=0,\n",
    "                usecols=None, unpack=False,\n",
    "                ndmin=0, encoding='bytes')\n",
    "print(array)\n",
    "# 参数说明\n",
    "# fname: 文件名\n",
    "# dtype: 数据类型\n",
    "# delimiter: 分隔符\n",
    "# skiprows: 跳过前几行\n",
    "# usecols: 读取指定列\n",
    "# unpack: 是否转置\n",
    "# ndmin: 最小维度\n",
    "# encoding: 编码\n",
    "\n",
    "del fname, array"
   ]
  },
  {
   "attachments": {},
   "cell_type": "markdown",
   "metadata": {},
   "source": [
    "### 1.2 使用NumPy读写二进制格式文件"
   ]
  },
  {
   "cell_type": "code",
   "execution_count": 4,
   "metadata": {},
   "outputs": [
    {
     "name": "stdout",
     "output_type": "stream",
     "text": [
      "[[0.3219883  0.89042245]\n",
      " [0.58805226 0.12659609]\n",
      " [0.14134122 0.46789559]\n",
      " [0.02208966 0.72727471]\n",
      " [0.52438734 0.54493524]\n",
      " [0.45637326 0.50138226]\n",
      " [0.39446855 0.1511723 ]\n",
      " [0.36087518 0.16207701]\n",
      " [0.33795869 0.18032328]\n",
      " [0.3909914  0.03564821]]\n"
     ]
    }
   ],
   "source": [
    "# 使用save()或load()函数保存或读取二进制文件\n",
    "np.random.seed(2023)\n",
    "array = np.random.rand(10, 2)\n",
    "print(array)\n",
    "filename1 = 'test.npy'\n",
    "filename2 = 'test.npz'\n",
    "np.save(filename1, array)\n",
    "np.savez(filename2, array)\n",
    "del array, filename1, filename2"
   ]
  },
  {
   "cell_type": "code",
   "execution_count": 5,
   "metadata": {},
   "outputs": [
    {
     "data": {
      "text/plain": [
       "array([[0.3219883 , 0.89042245],\n",
       "       [0.58805226, 0.12659609],\n",
       "       [0.14134122, 0.46789559],\n",
       "       [0.02208966, 0.72727471],\n",
       "       [0.52438734, 0.54493524],\n",
       "       [0.45637326, 0.50138226],\n",
       "       [0.39446855, 0.1511723 ],\n",
       "       [0.36087518, 0.16207701],\n",
       "       [0.33795869, 0.18032328],\n",
       "       [0.3909914 , 0.03564821]])"
      ]
     },
     "execution_count": 5,
     "metadata": {},
     "output_type": "execute_result"
    }
   ],
   "source": [
    "np.load('test.npy')"
   ]
  },
  {
   "cell_type": "code",
   "execution_count": 6,
   "metadata": {},
   "outputs": [
    {
     "data": {
      "text/plain": [
       "array([[0.3219883 , 0.89042245],\n",
       "       [0.58805226, 0.12659609],\n",
       "       [0.14134122, 0.46789559],\n",
       "       [0.02208966, 0.72727471],\n",
       "       [0.52438734, 0.54493524],\n",
       "       [0.45637326, 0.50138226],\n",
       "       [0.39446855, 0.1511723 ],\n",
       "       [0.36087518, 0.16207701],\n",
       "       [0.33795869, 0.18032328],\n",
       "       [0.3909914 , 0.03564821]])"
      ]
     },
     "execution_count": 6,
     "metadata": {},
     "output_type": "execute_result"
    }
   ],
   "source": [
    "np.load('test.npz')['arr_0']"
   ]
  },
  {
   "attachments": {},
   "cell_type": "markdown",
   "metadata": {},
   "source": [
    "### 1.3 使用NumPy读写多维数据文件"
   ]
  },
  {
   "cell_type": "code",
   "execution_count": 7,
   "metadata": {},
   "outputs": [
    {
     "name": "stdout",
     "output_type": "stream",
     "text": [
      "[[0.3219883  0.89042245]\n",
      " [0.58805226 0.12659609]\n",
      " [0.14134122 0.46789559]\n",
      " [0.02208966 0.72727471]\n",
      " [0.52438734 0.54493524]\n",
      " [0.45637326 0.50138226]\n",
      " [0.39446855 0.1511723 ]\n",
      " [0.36087518 0.16207701]\n",
      " [0.33795869 0.18032328]\n",
      " [0.3909914  0.03564821]]\n"
     ]
    }
   ],
   "source": [
    "# 使用tofile()或fromfile()函数保存或读取二进制文件\n",
    "# 1. tofile()函数\n",
    "np.random.seed(2023)\n",
    "array = np.random.rand(10, 2)\n",
    "print(array)\n",
    "filename = 'test.bin'\n",
    "array.tofile(filename, sep='', format='%f')\n",
    "# 参数说明\n",
    "# filename: 文件名\n",
    "# sep: 分隔符\n",
    "# format: 格式\n",
    "# 2. fromfile()函数\n",
    "np.fromfile('test.bin', dtype=np.float64)\n",
    "# 参数说明\n",
    "# filename: 文件名\n",
    "# dtype: 数据类型\n",
    "# count: 读取元素个数\n",
    "# sep: 分隔符\n",
    "del array, filename"
   ]
  },
  {
   "attachments": {},
   "cell_type": "markdown",
   "metadata": {},
   "source": [
    "## 2 NumPy常用的统计函数"
   ]
  },
  {
   "cell_type": "code",
   "execution_count": 8,
   "metadata": {},
   "outputs": [
    {
     "name": "stdout",
     "output_type": "stream",
     "text": [
      "求每一列的最大值\n",
      " [0.98055723 0.89042245 0.72727471 0.81971076 0.93053196]\n",
      "求每一行的最大值\n",
      " [0.89042245 0.72727471 0.50138226 0.3909914  0.56486165 0.93053196\n",
      " 0.8103383  0.98055723 0.62552644 0.97228343]\n",
      "求每一列的最小值\n",
      " [0.10395184 0.02208966 0.10980113 0.12659609 0.03564821]\n",
      "求每一行的最小值\n",
      " [0.12659609 0.02208966 0.1511723  0.03564821 0.18405414 0.10395184\n",
      " 0.59670056 0.10980113 0.07876025 0.21822526]\n",
      "求每一列的均值\n",
      " [0.50516427 0.48828259 0.43881736 0.48483822 0.36123227]\n",
      "求每一行的均值\n",
      " [0.41368007 0.45731651 0.37285431 0.22139972 0.3299091  0.41276006\n",
      " 0.74591679 0.62049345 0.38498506 0.59735433]\n",
      "求每一列的方差\n",
      " [0.08881633 0.07338077 0.04735805 0.05309602 0.08484109]\n",
      "求每一行的方差\n",
      " [0.0845364  0.05491746 0.01464969 0.01641148 0.01894572 0.08268886\n",
      " 0.00586495 0.1195769  0.03913684 0.06774459]\n",
      "求每一列的标准差\n",
      " [0.29802069 0.27088885 0.21761905 0.23042573 0.29127494]\n",
      "求每一行的标准差\n",
      " [0.29075144 0.23434474 0.12103589 0.12810731 0.13764345 0.28755671\n",
      " 0.07658298 0.34579893 0.19783034 0.26027791]\n"
     ]
    }
   ],
   "source": [
    "# 求最大值、最小值、均值、方差、标准差\n",
    "np.random.seed(2023)\n",
    "array = np.random.rand(10, 5)\n",
    "\n",
    "print('求每一列的最大值\\n',np.max(array, axis=0))\n",
    "print('求每一行的最大值\\n',np.max(array, axis=1))\n",
    "print('求每一列的最小值\\n',np.min(array, axis=0))\n",
    "print('求每一行的最小值\\n',np.min(array, axis=1))\n",
    "print('求每一列的均值\\n',np.mean(array, axis=0))\n",
    "print('求每一行的均值\\n',np.mean(array, axis=1))\n",
    "print('求每一列的方差\\n',np.var(array, axis=0))\n",
    "print('求每一行的方差\\n',np.var(array, axis=1))\n",
    "print('求每一列的标准差\\n',np.std(array, axis=0))\n",
    "print('求每一行的标准差\\n',np.std(array, axis=1))\n",
    "del array"
   ]
  },
  {
   "cell_type": "code",
   "execution_count": 9,
   "metadata": {},
   "outputs": [
    {
     "name": "stdout",
     "output_type": "stream",
     "text": [
      "[0.87660539 0.86833279 0.61747359 0.69311467 0.89488375]\n"
     ]
    }
   ],
   "source": [
    "# ptp()函数\n",
    "# ptp()函数用于计算数组沿指定轴的范围（最大值 - 最小值）\n",
    "np.random.seed(2023)\n",
    "array = np.random.rand(10, 5)\n",
    "print(np.ptp(array, axis=0))\n",
    "del array"
   ]
  },
  {
   "cell_type": "code",
   "execution_count": 10,
   "metadata": {},
   "outputs": [
    {
     "name": "stdout",
     "output_type": "stream",
     "text": [
      "求每一列的25%、50%、75%分位数\n",
      " [[0.27661808 0.35489991 0.22704899 0.37705419 0.15201945]\n",
      " [0.46213443 0.43311914 0.47394447 0.45768937 0.26291908]\n",
      " [0.7113352  0.70341874 0.59453848 0.65384722 0.49892022]]\n",
      "求每一列的中位数\n",
      " [0.46213443 0.43311914 0.47394447 0.45768937 0.26291908]\n"
     ]
    }
   ],
   "source": [
    "# 百分位数\n",
    "# percentile()函数用于计算数组a沿指定轴的第q个百分位数\n",
    "np.random.seed(2023)\n",
    "array = np.random.rand(10, 5)\n",
    "print('求每一列的25%、50%、75%分位数\\n',np.percentile(array, q=[25,50,75], axis=0))\n",
    "\n",
    "# 中位数\n",
    "print('求每一列的中位数\\n',np.median(array, axis=0))\n",
    "del array"
   ]
  },
  {
   "cell_type": "code",
   "execution_count": 11,
   "metadata": {},
   "outputs": [
    {
     "name": "stdout",
     "output_type": "stream",
     "text": [
      "[[0.3219883  0.89042245 0.58805226 0.12659609 0.14134122]\n",
      " [0.46789559 0.02208966 0.72727471 0.52438734 0.54493524]\n",
      " [0.45637326 0.50138226 0.39446855 0.1511723  0.36087518]\n",
      " [0.16207701 0.33795869 0.18032328 0.3909914  0.03564821]\n",
      " [0.56486165 0.20346149 0.32060446 0.37656378 0.18405414]\n",
      " [0.10395184 0.45492722 0.19586384 0.37852542 0.93053196]\n",
      " [0.76015971 0.77076424 0.59670056 0.79162115 0.8103383 ]\n",
      " [0.98055723 0.88478525 0.10980113 0.81971076 0.30761289]\n",
      " [0.26149467 0.40572354 0.55342038 0.62552644 0.07876025]\n",
      " [0.97228343 0.41131105 0.7216644  0.66328748 0.21822526]]\n",
      "求每一列的和\n",
      " [5.05164268 4.88282588 4.38817356 4.84838217 3.61232266]\n",
      "加权平均值\n",
      " [0.50516427 0.48828259 0.43881736 0.48483822 0.36123227]\n",
      "算数平均值\n",
      " [0.50516427 0.48828259 0.43881736 0.48483822 0.36123227]\n"
     ]
    }
   ],
   "source": [
    "# 求和与加权平均值,算数平均值\n",
    "np.random.seed(2023)\n",
    "array = np.random.rand(10, 5)\n",
    "print(array)\n",
    "print('求每一列的和\\n',np.sum(array, axis=0))\n",
    "print('加权平均值\\n',np.average(array, axis=0,weights=[1,1,1,1,1,1,1,1,1,1]))\n",
    "print('算数平均值\\n',np.mean(array, axis=0)) \n",
    "del array"
   ]
  },
  {
   "attachments": {},
   "cell_type": "markdown",
   "metadata": {},
   "source": [
    "## 3 使用NumPy函数进行统计分析"
   ]
  },
  {
   "attachments": {},
   "cell_type": "markdown",
   "metadata": {},
   "source": [
    "### 3.1 NumPy的排序函数"
   ]
  },
  {
   "cell_type": "code",
   "execution_count": 12,
   "metadata": {},
   "outputs": [
    {
     "name": "stdout",
     "output_type": "stream",
     "text": [
      "[[0.3219883  0.89042245 0.58805226 0.12659609 0.14134122]\n",
      " [0.46789559 0.02208966 0.72727471 0.52438734 0.54493524]\n",
      " [0.45637326 0.50138226 0.39446855 0.1511723  0.36087518]\n",
      " [0.16207701 0.33795869 0.18032328 0.3909914  0.03564821]\n",
      " [0.56486165 0.20346149 0.32060446 0.37656378 0.18405414]\n",
      " [0.10395184 0.45492722 0.19586384 0.37852542 0.93053196]\n",
      " [0.76015971 0.77076424 0.59670056 0.79162115 0.8103383 ]\n",
      " [0.98055723 0.88478525 0.10980113 0.81971076 0.30761289]\n",
      " [0.26149467 0.40572354 0.55342038 0.62552644 0.07876025]\n",
      " [0.97228343 0.41131105 0.7216644  0.66328748 0.21822526]]\n",
      "对每一列进行排序\n",
      " [[0.10395184 0.02208966 0.10980113 0.12659609 0.03564821]\n",
      " [0.16207701 0.20346149 0.18032328 0.1511723  0.07876025]\n",
      " [0.26149467 0.33795869 0.19586384 0.37656378 0.14134122]\n",
      " [0.3219883  0.40572354 0.32060446 0.37852542 0.18405414]\n",
      " [0.45637326 0.41131105 0.39446855 0.3909914  0.21822526]\n",
      " [0.46789559 0.45492722 0.55342038 0.52438734 0.30761289]\n",
      " [0.56486165 0.50138226 0.58805226 0.62552644 0.36087518]\n",
      " [0.76015971 0.77076424 0.59670056 0.66328748 0.54493524]\n",
      " [0.97228343 0.88478525 0.7216644  0.79162115 0.8103383 ]\n",
      " [0.98055723 0.89042245 0.72727471 0.81971076 0.93053196]]\n",
      "对每一行进行排序\n",
      " [[0.12659609 0.14134122 0.3219883  0.58805226 0.89042245]\n",
      " [0.02208966 0.46789559 0.52438734 0.54493524 0.72727471]\n",
      " [0.1511723  0.36087518 0.39446855 0.45637326 0.50138226]\n",
      " [0.03564821 0.16207701 0.18032328 0.33795869 0.3909914 ]\n",
      " [0.18405414 0.20346149 0.32060446 0.37656378 0.56486165]\n",
      " [0.10395184 0.19586384 0.37852542 0.45492722 0.93053196]\n",
      " [0.59670056 0.76015971 0.77076424 0.79162115 0.8103383 ]\n",
      " [0.10980113 0.30761289 0.81971076 0.88478525 0.98055723]\n",
      " [0.07876025 0.26149467 0.40572354 0.55342038 0.62552644]\n",
      " [0.21822526 0.41131105 0.66328748 0.7216644  0.97228343]]\n"
     ]
    }
   ],
   "source": [
    "# sort()函数\n",
    "np.random.seed(2023)\n",
    "array = np.random.rand(10, 5)\n",
    "print(array)\n",
    "print('对每一列进行排序\\n',np.sort(array, axis=0, kind='quicksort', order=None))\n",
    "print('对每一行进行排序\\n',np.sort(array, axis=1, kind='quicksort', order=None))\n",
    "# 参数说明\n",
    "# axis: 沿着哪个轴排序\n",
    "# kind: 排序算法\n",
    "# order: 如果数组包含字段，则是要排序的字段"
   ]
  },
  {
   "cell_type": "code",
   "execution_count": 13,
   "metadata": {},
   "outputs": [
    {
     "name": "stdout",
     "output_type": "stream",
     "text": [
      "对每一列进行排序\n",
      " [[5 1 7 0 3]\n",
      " [3 4 3 2 8]\n",
      " [8 3 5 4 0]\n",
      " [0 8 4 5 4]\n",
      " [2 9 2 3 9]\n",
      " [1 5 8 1 7]\n",
      " [4 2 0 8 2]\n",
      " [6 6 6 9 1]\n",
      " [9 7 9 6 6]\n",
      " [7 0 1 7 5]]\n"
     ]
    }
   ],
   "source": [
    "# argsort()函数\n",
    "print('对每一列进行排序\\n',np.argsort(array, axis=0, kind='quicksort', order=None))\n",
    "# 用途：返回数组值从小到大的索引值\n",
    "del array"
   ]
  },
  {
   "cell_type": "code",
   "execution_count": 14,
   "metadata": {},
   "outputs": [
    {
     "name": "stdout",
     "output_type": "stream",
     "text": [
      "调用lexsort() 函数： [2 1 0]\n",
      "使用这个索引来获取排序后的数据：\n",
      "['tel, 13871234456', 'age, 21', 'name, 李明']\n"
     ]
    }
   ],
   "source": [
    "# lexsort()函数\n",
    "# lexsort()函数用于对多个序列进行排序。把它想象成对电子表格进行排序，每一列代表一个序列，排序时优先照顾靠后的列。\n",
    "# 用途：返回数组值从小到大的索引值\n",
    "k =  ('name','age','tel')\n",
    "v =  ('李明',  '21',  '13871234456')\n",
    "ind = np.lexsort((k,v))\n",
    "print  ('调用lexsort() 函数：',ind)\n",
    "print  ('使用这个索引来获取排序后的数据：')\n",
    "print  ([k[i]  +  \", \"  + v[i]  for i in ind])\n",
    "del k, v, ind"
   ]
  },
  {
   "attachments": {},
   "cell_type": "markdown",
   "metadata": {},
   "source": [
    "###  3.2 NumPy的去重与重复函数"
   ]
  },
  {
   "cell_type": "code",
   "execution_count": 15,
   "metadata": {},
   "outputs": [
    {
     "name": "stdout",
     "output_type": "stream",
     "text": [
      "[2 2 5 4 5 5 1 2 1 3]\n",
      "去重后的数组\n",
      " [1 2 3 4 5]\n"
     ]
    }
   ],
   "source": [
    "# unique()函数\n",
    "np.random.seed(2023)\n",
    "array = np.random.randint(1, 6, 10)\n",
    "print(array)\n",
    "print('去重后的数组\\n', np.unique(array))\n",
    "del array"
   ]
  },
  {
   "cell_type": "code",
   "execution_count": 16,
   "metadata": {},
   "outputs": [
    {
     "name": "stdout",
     "output_type": "stream",
     "text": [
      "[[1 2]\n",
      " [3 4]]\n",
      "沿x轴复制一次\n",
      " [[1 2]\n",
      " [3 4]\n",
      " [1 2]\n",
      " [3 4]]\n",
      "沿y轴复制一次\n",
      " [[1 2 1 2]\n",
      " [3 4 3 4]]\n",
      "沿x&y轴复制一次\n",
      " [[1 2 1 2]\n",
      " [3 4 3 4]\n",
      " [1 2 1 2]\n",
      " [3 4 3 4]]\n"
     ]
    }
   ],
   "source": [
    "# tile()函数\n",
    "array = np.array([[1,2],[3,4]])\n",
    "print(array)\n",
    "print('沿x轴复制一次\\n',np.tile(array, reps=(2,1)))\n",
    "print('沿y轴复制一次\\n',np.tile(array, reps=(1,2)))\n",
    "# 参数说明\n",
    "# reps: 沿各个轴的复制倍数 \n",
    "print('沿x&y轴复制一次\\n',np.tile(array, reps=(2,2)))\n",
    "del array"
   ]
  },
  {
   "cell_type": "code",
   "execution_count": 17,
   "metadata": {},
   "outputs": [
    {
     "name": "stdout",
     "output_type": "stream",
     "text": [
      "[[1 2]\n",
      " [3 4]]\n",
      "沿x轴复制一次\n",
      " [[1 2]\n",
      " [1 2]\n",
      " [3 4]\n",
      " [3 4]]\n",
      "沿y轴复制一次\n",
      " [[1 1 2 2]\n",
      " [3 3 4 4]]\n"
     ]
    }
   ],
   "source": [
    "# repeat()函数\n",
    "array = np.array([[1,2],[3,4]])\n",
    "print(array)\n",
    "print('沿x轴复制一次\\n',np.repeat(array, repeats=2, axis=0))\n",
    "print('沿y轴复制一次\\n',np.repeat(array, repeats=2, axis=1))"
   ]
  },
  {
   "attachments": {},
   "cell_type": "markdown",
   "metadata": {},
   "source": [
    "### 3.3 NnumPy的搜索和计数函数"
   ]
  },
  {
   "cell_type": "code",
   "execution_count": 18,
   "metadata": {},
   "outputs": [
    {
     "name": "stdout",
     "output_type": "stream",
     "text": [
      "[[7 9 6 7 1]\n",
      " [3 4 4 6 5]\n",
      " [0 6 1 5 7]\n",
      " [5 8 2 3 1]\n",
      " [0 7 1 0 0]\n",
      " [1 8 1 2 1]\n",
      " [0 1 5 6 4]\n",
      " [6 8 8 4 1]\n",
      " [7 6 5 7 4]\n",
      " [9 2 1 0 6]]\n",
      "每一列最小值的索引\n",
      " [2 6 2 4 4]\n",
      "每一行最小值的索引\n",
      " [4 0 0 4 0 0 0 4 4 3]\n",
      "每一列最大值的索引\n",
      " [9 0 7 0 2]\n",
      "每一行最大值的索引\n",
      " [1 3 4 1 1 1 3 1 0 0]\n",
      "每一列最小值的索引\n",
      " [2 6 2 4 4]\n",
      "每一行最小值的索引\n",
      " [4 0 0 4 0 0 0 4 4 3]\n",
      "每一列最大值的索引\n",
      " [9 0 7 0 2]\n",
      "每一行最大值的索引\n",
      " [1 3 4 1 1 1 3 1 0 0]\n"
     ]
    }
   ],
   "source": [
    "# argmin(),nanargmin(),argmax(),nanargmax()函数\n",
    "np.random.seed(2023)\n",
    "array = np.random.randint(0, 10, (10,5))\n",
    "print(array)\n",
    "print('每一列最小值的索引\\n',np.argmin(array, axis=0))\n",
    "print('每一行最小值的索引\\n',np.argmin(array, axis=1))\n",
    "print('每一列最大值的索引\\n',np.argmax(array, axis=0))\n",
    "print('每一行最大值的索引\\n',np.argmax(array, axis=1))\n",
    "print('每一列最小值的索引\\n',np.nanargmin(array, axis=0))\n",
    "print('每一行最小值的索引\\n',np.nanargmin(array, axis=1))\n",
    "print('每一列最大值的索引\\n',np.nanargmax(array, axis=0))\n",
    "print('每一行最大值的索引\\n',np.nanargmax(array, axis=1))"
   ]
  },
  {
   "cell_type": "code",
   "execution_count": 19,
   "metadata": {},
   "outputs": [
    {
     "name": "stdout",
     "output_type": "stream",
     "text": [
      "非零元素的索引\n",
      " (array([0, 0, 0, 0, 0, 1, 1, 1, 1, 1, 2, 2, 2, 2, 3, 3, 3, 3, 3, 4, 4, 5,\n",
      "       5, 5, 5, 5, 6, 6, 6, 6, 7, 7, 7, 7, 7, 8, 8, 8, 8, 8, 9, 9, 9, 9],\n",
      "      dtype=int64), array([0, 1, 2, 3, 4, 0, 1, 2, 3, 4, 1, 2, 3, 4, 0, 1, 2, 3, 4, 1, 2, 0,\n",
      "       1, 2, 3, 4, 1, 2, 3, 4, 0, 1, 2, 3, 4, 0, 1, 2, 3, 4, 0, 1, 2, 4],\n",
      "      dtype=int64))\n"
     ]
    }
   ],
   "source": [
    "# nonzero()函数\n",
    "print('非零元素的索引\\n', np.nonzero(array))"
   ]
  },
  {
   "cell_type": "code",
   "execution_count": 20,
   "metadata": {},
   "outputs": [
    {
     "name": "stdout",
     "output_type": "stream",
     "text": [
      "大于5的元素索引\n",
      " (array([0, 0, 0, 0, 1, 2, 2, 3, 4, 5, 6, 7, 7, 7, 8, 8, 8, 9, 9],\n",
      "      dtype=int64), array([0, 1, 2, 3, 3, 1, 4, 1, 1, 1, 3, 0, 1, 2, 0, 1, 3, 0, 4],\n",
      "      dtype=int64))\n",
      "大于5的元素\n",
      " [7 9 6 7 6 6 7 8 7 8 6 6 8 8 7 6 7 9 6]\n",
      "大于5的元素\n",
      " [7 9 6 7 6 6 7 8 7 8 6 6 8 8 7 6 7 9 6]\n"
     ]
    }
   ],
   "source": [
    "# where()函数\n",
    "print('大于5的元素索引\\n', np.where(array > 5))\n",
    "print('大于5的元素\\n', array[np.where(array > 5)])\n",
    "print('大于5的元素\\n', array[array > 5])"
   ]
  },
  {
   "cell_type": "code",
   "execution_count": 21,
   "metadata": {},
   "outputs": [
    {
     "name": "stdout",
     "output_type": "stream",
     "text": [
      "大于5的元素\n",
      " [7 9 6 7 6 6 7 8 7 8 6 6 8 8 7 6 7 9 6]\n"
     ]
    }
   ],
   "source": [
    "# extract()函数\n",
    "# extract()函数返回满足任何条件的元素\n",
    "# 用途：返回满足任何条件的元素\n",
    "print('大于5的元素\\n',np.extract(array>5, array))"
   ]
  },
  {
   "cell_type": "code",
   "execution_count": 22,
   "metadata": {},
   "outputs": [
    {
     "name": "stdout",
     "output_type": "stream",
     "text": [
      "非零元素的个数\n",
      " 44\n"
     ]
    }
   ],
   "source": [
    "# count_nonzero()函数\n",
    "print('非零元素的个数\\n', np.count_nonzero(array))\n",
    "del array"
   ]
  }
 ],
 "metadata": {
  "kernelspec": {
   "display_name": "tf_env",
   "language": "python",
   "name": "python3"
  },
  "language_info": {
   "codemirror_mode": {
    "name": "ipython",
    "version": 3
   },
   "file_extension": ".py",
   "mimetype": "text/x-python",
   "name": "python",
   "nbconvert_exporter": "python",
   "pygments_lexer": "ipython3",
   "version": "3.9.16"
  },
  "orig_nbformat": 4
 },
 "nbformat": 4,
 "nbformat_minor": 2
}
