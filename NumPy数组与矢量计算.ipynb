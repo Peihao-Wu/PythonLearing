{
 "cells": [
  {
   "attachments": {},
   "cell_type": "markdown",
   "metadata": {},
   "source": [
    "# NumPy数组与矢量计算"
   ]
  },
  {
   "cell_type": "code",
   "execution_count": 1,
   "metadata": {},
   "outputs": [],
   "source": [
    "import numpy as np\n",
    "import matplotlib.pyplot as plt\n",
    "import scipy as sp"
   ]
  },
  {
   "attachments": {},
   "cell_type": "markdown",
   "metadata": {},
   "source": [
    "## 1. NumPy简单应用"
   ]
  },
  {
   "cell_type": "code",
   "execution_count": 3,
   "metadata": {},
   "outputs": [
    {
     "data": {
      "text/plain": [
       "[0, 2, 6, 12, 20]"
      ]
     },
     "execution_count": 3,
     "metadata": {},
     "output_type": "execute_result"
    }
   ],
   "source": [
    "def python_sum(n):\n",
    "    #range函数产生包含0至n的整数元组，用list函数转换成列表\n",
    "     x = list(range(n))\n",
    "     y = list(range(n))\n",
    "     z = []\n",
    "     for i in range(len(x)):\n",
    "          y[i] = i**2\n",
    "          z.append(x[i]+y[i])\n",
    "     return z\n",
    "python_sum(5)"
   ]
  },
  {
   "attachments": {},
   "cell_type": "markdown",
   "metadata": {},
   "source": [
    "使用NumPy实现上面代码："
   ]
  },
  {
   "cell_type": "code",
   "execution_count": 4,
   "metadata": {},
   "outputs": [
    {
     "data": {
      "text/plain": [
       "[0, 2, 6, 12, 20]"
      ]
     },
     "execution_count": 4,
     "metadata": {},
     "output_type": "execute_result"
    }
   ],
   "source": [
    "def numpy_sum(n):\n",
    "    x =np.arange(n)            #arange函数创建包含0至n的整数数组\n",
    "    y = np.arange(n)**2\n",
    "    z = x + y\n",
    "    return z\n",
    "python_sum(5)"
   ]
  },
  {
   "attachments": {},
   "cell_type": "markdown",
   "metadata": {},
   "source": [
    "比较两者用时"
   ]
  },
  {
   "cell_type": "code",
   "execution_count": 5,
   "metadata": {},
   "outputs": [
    {
     "name": "stdout",
     "output_type": "stream",
     "text": [
      "0:00:00.303211\n",
      "0:00:00.003999\n"
     ]
    }
   ],
   "source": [
    "#测试python_sum函数的执行时间\n",
    "from datetime import datetime\n",
    "n=1000000\n",
    "start_time = datetime.now()\n",
    "python_sum(n)\n",
    "time_interval = datetime.now()-start_time\n",
    "print(time_interval)\n",
    "#测试numpy_sum函数的执行时间\n",
    "n=1000000\n",
    "start_time = datetime.now()\n",
    "b = numpy_sum(n)\n",
    "time_interval = datetime.now()-start_time\n",
    "print(time_interval)\n",
    "\n",
    "del b,n,start_time,time_interval"
   ]
  },
  {
   "attachments": {},
   "cell_type": "markdown",
   "metadata": {},
   "source": [
    "## 2. NumPy数组对象"
   ]
  },
  {
   "attachments": {},
   "cell_type": "markdown",
   "metadata": {},
   "source": [
    "### 2.1 创建数组对象"
   ]
  },
  {
   "cell_type": "code",
   "execution_count": 8,
   "metadata": {},
   "outputs": [
    {
     "name": "stdout",
     "output_type": "stream",
     "text": [
      "一维数组: [1 2 3 4]\n",
      "二维数组: [[1 2 3]\n",
      " [4 5 6]]\n",
      "三维数组: [[[1 2 3 4]]]\n",
      "复数数组: [1. +0.j 2. +0.j 3.4+0.j]\n"
     ]
    }
   ],
   "source": [
    "arr1 =np.array([1,2,3,4])                   #创建一维数组\n",
    "print('一维数组:',arr1)\n",
    "arr2 = np.array([[1,2,3],[4,5,6]])          #创建二维数组\n",
    "print('二维数组:',arr2)\n",
    "arr3 =np.array([1,2,3,4],ndmin=3)           #设置最小维度3\n",
    "print('三维数组:',arr3)\n",
    "arr4 = np.array([1,2,3.4], dtype=complex)   #指定数据类型dtype为复数\n",
    "print('复数数组:',arr4)\n",
    "del arr1,arr3,arr4"
   ]
  },
  {
   "attachments": {},
   "cell_type": "markdown",
   "metadata": {},
   "source": [
    "### 2.2 选取数组元素"
   ]
  },
  {
   "cell_type": "code",
   "execution_count": 9,
   "metadata": {},
   "outputs": [
    {
     "name": "stdout",
     "output_type": "stream",
     "text": [
      "选取数组中的元素: 6\n",
      "选取数组中的行: [4 5 6]\n",
      "选取数组中的列: [2 5]\n",
      "选取数组中的多个元素: [4 5]\n",
      "选取数组中的多行多列: [[2 3]\n",
      " [5 6]]\n",
      "选取数组中的多个不相邻的元素: [2 6]\n"
     ]
    }
   ],
   "source": [
    "# 以二维数组arr2为例\n",
    "# 选取数组中的元素\n",
    "print('选取数组中的元素:',arr2[1,2])\n",
    "# 选取数组中的行\n",
    "print('选取数组中的行:',arr2[1,:])\n",
    "# 选取数组中的列\n",
    "print('选取数组中的列:',arr2[:,1])\n",
    "# 选取数组中的多个元素\n",
    "print('选取数组中的多个元素:',arr2[1,0:2])\n",
    "# 选取数组中的多行多列\n",
    "print('选取数组中的多行多列:',arr2[0:2,1:3])\n",
    "# 选取数组中的多个不相邻的元素\n",
    "print('选取数组中的多个不相邻的元素:',arr2[[0,1],[1,2]])\n",
    "del arr2"
   ]
  },
  {
   "attachments": {},
   "cell_type": "markdown",
   "metadata": {},
   "source": [
    "### 2.3 数组的属性"
   ]
  },
  {
   "cell_type": "code",
   "execution_count": 31,
   "metadata": {},
   "outputs": [
    {
     "name": "stdout",
     "output_type": "stream",
     "text": [
      "数组的形状: (2, 3)\n",
      "数组的维度: 2\n",
      "数组的元素个数: 6\n",
      "数组的数据类型: int32\n",
      "数组的每个元素所占字节数: 4\n"
     ]
    }
   ],
   "source": [
    "# 数组的属性\n",
    "## 数组的形状\n",
    "print('数组的形状:',arr2.shape)\n",
    "## 数组的维度\n",
    "print('数组的维度:',arr2.ndim)\n",
    "## 数组的元素个数\n",
    "print('数组的元素个数:',arr2.size)\n",
    "## 数组的数据类型\n",
    "print('数组的数据类型:',arr2.dtype)\n",
    "## 数组的每个元素所占字节数\n",
    "print('数组的每个元素所占字节数:',arr2.itemsize)"
   ]
  },
  {
   "attachments": {},
   "cell_type": "markdown",
   "metadata": {},
   "source": [
    "### 2.4 创建数组的其他方法"
   ]
  },
  {
   "cell_type": "code",
   "execution_count": 27,
   "metadata": {},
   "outputs": [
    {
     "name": "stdout",
     "output_type": "stream",
     "text": [
      "使用arange函数创建数组: [0 1 2 3 4]\n",
      "使用linspace函数创建数组: [0.   0.25 0.5  0.75 1.  ]\n",
      "使用logspace函数创建数组: [  1.           3.16227766  10.          31.6227766  100.        ]\n",
      "使用zeros函数创建数组: [[0. 0. 0.]\n",
      " [0. 0. 0.]]\n",
      "使用ones函数创建数组: [[1. 1. 1.]\n",
      " [1. 1. 1.]\n",
      " [1. 1. 1.]]\n",
      "使用eye函数创建数组: [[1. 0. 0.]\n",
      " [0. 1. 0.]\n",
      " [0. 0. 1.]]\n",
      "使用diag函数创建数组: [[1 0 0]\n",
      " [0 2 0]\n",
      " [0 0 3]]\n",
      "使用empty函数创建数组: [[0. 0. 0.]\n",
      " [0. 0. 0.]]\n"
     ]
    }
   ],
   "source": [
    "# 创建数组的其他方法\n",
    "## 使用arange函数创建数组\n",
    "print('使用arange函数创建数组:',np.arange(0,5))#创建等差数列\n",
    "## 使用linspace函数创建数组\n",
    "print('使用linspace函数创建数组:',np.linspace(0,1,5))#创建等差数列\n",
    "## 使用logspace函数创建数组\n",
    "print('使用logspace函数创建数组:',np.logspace(0,2,5))#创建等比数列\n",
    "## 使用zeros函数创建数组\n",
    "print('使用zeros函数创建数组:',np.zeros((2,3)))#zeros函数创建全0数组\n",
    "## 使用ones函数创建数组\n",
    "print('使用ones函数创建数组:',np.ones((3,3)))#ones函数创建全1数组\n",
    "## 使用eye函数创建数组\n",
    "print('使用eye函数创建数组:',np.eye(3))#eye函数创建单位矩阵\n",
    "## 使用diag函数创建数组\n",
    "print('使用diag函数创建数组:',np.diag([1,2,3]))#diag函数创建对角矩阵\n",
    "## 使用empty函数创建数组\n",
    "print('使用empty函数创建数组:',np.empty((2,3)))#empty函数创建的数组元素的值是随机的"
   ]
  },
  {
   "attachments": {},
   "cell_type": "markdown",
   "metadata": {},
   "source": [
    "### 2.5 NumPy的数据类型"
   ]
  },
  {
   "cell_type": "code",
   "execution_count": 38,
   "metadata": {},
   "outputs": [
    {
     "name": "stdout",
     "output_type": "stream",
     "text": [
      "转换前数组的数据类型: int32\n",
      "转换后数组的数据类型: float64\n",
      "转换前数组的数据类型: <U1\n",
      "转换后数组的数据类型: int64\n",
      "转换前数组的数据类型: int32\n",
      "['1' '2' '3' '4']\n",
      "转换后数组的数据类型: <U11\n"
     ]
    }
   ],
   "source": [
    "# 数组的数据类型转换\n",
    "## 使用astype函数转换数组的数据类型\n",
    "arr1 = np.array([1,2,3,4])\n",
    "print('转换前数组的数据类型:',arr1.dtype)#dtype属性查看数组的数据类型\n",
    "arr2 = arr1.astype(np.float64)\n",
    "print('转换后数组的数据类型:',arr2.dtype)\n",
    "## 使用astype函数将字符串数组转换为数值数组\n",
    "arr3 = np.array(['1','2','3','4'])\n",
    "print('转换前数组的数据类型:',arr3.dtype)\n",
    "arr4 = arr3.astype(np.int64)\n",
    "print('转换后数组的数据类型:',arr4.dtype)\n",
    "## 使用astype函数将数值数组转换为字符串数组\n",
    "arr5 = np.array([1,2,3,4])\n",
    "print('转换前数组的数据类型:',arr5.dtype)\n",
    "arr6 = arr5.astype(np.str_)\n",
    "print(arr6)\n",
    "print('转换后数组的数据类型:',arr6.dtype)\n",
    "\n",
    "del arr1,arr2,arr3,arr4,arr5,arr6"
   ]
  },
  {
   "cell_type": "code",
   "execution_count": 61,
   "metadata": {},
   "outputs": [
    {
     "name": "stdout",
     "output_type": "stream",
     "text": [
      "自定义数据类型: [('name', '<U40'), ('numitems', '<i4'), ('price', '<f4')]\n",
      "使用自定义数据类型创建数组: [('Meaning of life DVD', 42, 3.14) ('Butter', 13, 2.72)]\n",
      "访问数组中的元素: ('Butter', 13, 2.72)\n",
      "访问数组中的元素: Butter\n"
     ]
    }
   ],
   "source": [
    "# 自定义数据类型\n",
    "## 使用dtype函数自定义数据类型\n",
    "dt = np.dtype([('name',np.str_,40),('numitems',np.int32),('price',np.float32)])\n",
    "print('自定义数据类型:',dt)\n",
    "## 使用自定义数据类型创建数组\n",
    "itemz = np.array([('Meaning of life DVD',42,3.14),\n",
    "                  ('Butter',13,2.72)],dtype=dt)\n",
    "print('使用自定义数据类型创建数组:',itemz)\n",
    "## 访问数组中的元素\n",
    "print('访问数组中的元素:',itemz[1])\n",
    "print('访问数组中的元素:',itemz[1]['name'])\n",
    "\n",
    "del dt,itemz"
   ]
  },
  {
   "attachments": {},
   "cell_type": "markdown",
   "metadata": {},
   "source": [
    "NumPy数组一般是同质的，即数组中的所有元素都是相同的数据类型。如果想创建异构数据类型的数组，就需要先自定义异构数据类型，如dt数据类型，它包括一个用字符串表示的产品名称和一个用浮点数表示的产品价格，然后在创建数组的函数中使用dtype参数来指定数据类型为dt(自定义数据类型)。"
   ]
  },
  {
   "attachments": {},
   "cell_type": "markdown",
   "metadata": {},
   "source": [
    "## 3. NumPy数组操作"
   ]
  },
  {
   "attachments": {},
   "cell_type": "markdown",
   "metadata": {},
   "source": [
    "### 3.1 数组的索引和切片"
   ]
  },
  {
   "cell_type": "code",
   "execution_count": 67,
   "metadata": {},
   "outputs": [
    {
     "name": "stdout",
     "output_type": "stream",
     "text": [
      "一维数组的索引和切片: [0 1 2 3 4 5 6 7 8 9]\n",
      "一维数组的索引和切片: 5\n",
      "一维数组的索引和切片: [3 4]\n",
      "一维数组的索引和切片: [0 1 2 3 4]\n",
      "一维数组的索引和切片: [3 4 5 6 7 8 9]\n",
      "一维数组的索引和切片: [1 3 5]\n",
      "一维数组的索引和切片: [9 8 7 6 5 4 3 2 1 0]\n"
     ]
    }
   ],
   "source": [
    "# 数组的索引和切片\n",
    "## 一维数组的索引和切片\n",
    "arr1 = np.arange(10)\n",
    "print('一维数组的索引和切片:',arr1)\n",
    "print('一维数组的索引和切片:',arr1[5])\n",
    "print('一维数组的索引和切片:',arr1[3:5])\n",
    "print('一维数组的索引和切片:',arr1[:5])\n",
    "print('一维数组的索引和切片:',arr1[3:])\n",
    "print('一维数组的索引和切片:',arr1[1:6:2])\n",
    "print('一维数组的索引和切片:',arr1[::-1])\n",
    "del arr1"
   ]
  },
  {
   "cell_type": "code",
   "execution_count": 69,
   "metadata": {},
   "outputs": [
    {
     "name": "stdout",
     "output_type": "stream",
     "text": [
      "多维数组的索引和切片:\n",
      " [[ 0  1  2  3]\n",
      " [ 4  5  6  7]\n",
      " [ 8  9 10 11]]\n",
      "多维数组的索引和切片: [ 8  9 10 11]\n",
      "多维数组的索引和切片: 6\n",
      "多维数组的索引和切片: 6\n",
      "多维数组的索引和切片: [4 5 6 7]\n",
      "多维数组的索引和切片: [1 5 9]\n",
      "多维数组的索引和切片:\n",
      " [[ 5  6]\n",
      " [ 9 10]]\n"
     ]
    }
   ],
   "source": [
    "# 多维数组的索引和切片\n",
    "arr2 = np.arange(12).reshape(3, 4)\n",
    "print('多维数组的索引和切片:\\n', arr2)\n",
    "print('多维数组的索引和切片:', arr2[2])\n",
    "print('多维数组的索引和切片:', arr2[1, 2])\n",
    "print('多维数组的索引和切片:', arr2[1][2])\n",
    "print('多维数组的索引和切片:', arr2[1, :])\n",
    "print('多维数组的索引和切片:', arr2[:, 1])\n",
    "print('多维数组的索引和切片:\\n', arr2[1:3, 1:3])\n",
    "del arr2"
   ]
  },
  {
   "cell_type": "code",
   "execution_count": 75,
   "metadata": {},
   "outputs": [
    {
     "name": "stdout",
     "output_type": "stream",
     "text": [
      "[[1 2 3]\n",
      " [4 5 6]\n",
      " [7 8 9]]\n",
      "[1 5 7]\n",
      "[1 3 7 9]\n"
     ]
    }
   ],
   "source": [
    "# 整数索引\n",
    "a = np.array([[1,2,3], [4,5,6],[7,8,9]])\n",
    "b = a[(0,1,2),(0,1,0)]       #获取a[0,0],a[1,1],a[2,0]元素组成数组b\n",
    "print(a)\n",
    "print(b)\n",
    "#获取a数组上下左右四个角上的元素\n",
    "b = a[(0,0,2,2),(0,2,0,2)]    #获取a[0,0],a[0,2],a[2,0],a[2,2]元素\n",
    "print(b)\n",
    "\n",
    "del a,b"
   ]
  },
  {
   "cell_type": "code",
   "execution_count": 76,
   "metadata": {},
   "outputs": [
    {
     "name": "stdout",
     "output_type": "stream",
     "text": [
      "[[False False False]\n",
      " [False False  True]\n",
      " [ True  True  True]]\n",
      "[6 7 8 9]\n",
      "[6 7 8 9]\n"
     ]
    }
   ],
   "source": [
    "# 布尔索引\n",
    "a = np.array([[1, 2, 3], [4, 5, 6], [7, 8, 9]])\n",
    "b = a > 5\n",
    "print(b)\n",
    "print(a[b])\n",
    "print(a[a > 5])\n",
    "del a, b"
   ]
  },
  {
   "attachments": {},
   "cell_type": "markdown",
   "metadata": {},
   "source": [
    "### 3.2 修改数组形状"
   ]
  },
  {
   "cell_type": "code",
   "execution_count": 83,
   "metadata": {},
   "outputs": [
    {
     "name": "stdout",
     "output_type": "stream",
     "text": [
      "修改前数组的形状: (10,)\n",
      "修改后数组的形状: (2, 5)\n",
      "修改后数组:\n",
      " [[0 1 2 3 4]\n",
      " [5 6 7 8 9]]\n",
      "修改后数组的形状: (5, 2)\n",
      "修改后数组:\n",
      " [[0 1]\n",
      " [2 3]\n",
      " [4 5]\n",
      " [6 7]\n",
      " [8 9]]\n"
     ]
    }
   ],
   "source": [
    "# 用元组设置维度修改数组形状的方法\n",
    "arr1 = np.arange(10)\n",
    "print('修改前数组的形状:',arr1.shape)\n",
    "arr1.shape = 2,5\n",
    "print('修改后数组的形状:',arr1.shape)\n",
    "print('修改后数组:\\n',arr1)\n",
    "arr1.shape = 5,-1\n",
    "print('修改后数组的形状:',arr1.shape)\n",
    "print('修改后数组:\\n',arr1)\n",
    "del arr1"
   ]
  },
  {
   "cell_type": "code",
   "execution_count": 93,
   "metadata": {},
   "outputs": [
    {
     "name": "stdout",
     "output_type": "stream",
     "text": [
      "修改前数组的形状: (10,)\n",
      "修改后数组的形状: (2, 5)\n",
      "修改后数组:\n",
      " [[0 1 2 3 4]\n",
      " [5 6 7 8 9]]\n",
      "修改后数组的形状: (5, 2)\n",
      "修改后数组:\n",
      " [[0 1]\n",
      " [2 3]\n",
      " [4 5]\n",
      " [6 7]\n",
      " [8 9]]\n"
     ]
    }
   ],
   "source": [
    "# reshape方法修改数组形状的方法\n",
    "arr2 = np.arange(10)\n",
    "print('修改前数组的形状:',arr2.shape)\n",
    "arr3 = arr2.reshape(2,5)#reshape方法返回修改后的数组\n",
    "print('修改后数组的形状:',arr3.shape)\n",
    "print('修改后数组:\\n',arr3)\n",
    "arr4 = arr2.reshape(5,-1)\n",
    "print('修改后数组的形状:',arr4.shape)\n",
    "print('修改后数组:\\n',arr4)\n",
    "del arr2,arr3,arr4"
   ]
  },
  {
   "cell_type": "code",
   "execution_count": 91,
   "metadata": {},
   "outputs": [
    {
     "name": "stdout",
     "output_type": "stream",
     "text": [
      "修改前数组的形状: (10,)\n",
      "修改后数组的形状: (2, 5)\n",
      "修改后数组:\n",
      " [[0 1 2 3 4]\n",
      " [5 6 7 8 9]]\n",
      "修改前数组的形状: (2, 5)\n",
      "修改后数组的形状: (5, 3)\n",
      "修改后数组:\n",
      " [[0 1 2]\n",
      " [3 4 5]\n",
      " [6 7 8]\n",
      " [9 0 0]\n",
      " [0 0 0]]\n"
     ]
    }
   ],
   "source": [
    "# resize方法修改数组形状的方法\n",
    "arr5 = np.arange(10)\n",
    "print('修改前数组的形状:',arr5.shape)\n",
    "arr5.resize(2,5)#resize方法修改数组形状时会修改原数组\n",
    "print('修改后数组的形状:',arr5.shape)\n",
    "print('修改后数组:\\n',arr5)\n",
    "arr6 = arr5.copy()\n",
    "print('修改前数组的形状:',arr6.shape)\n",
    "arr6.resize(5,2)\n",
    "print('修改后数组的形状:',arr6.shape)\n",
    "print('修改后数组:\\n',arr6)\n",
    "del arr5,arr6"
   ]
  },
  {
   "attachments": {},
   "cell_type": "markdown",
   "metadata": {},
   "source": [
    "### 3.3 数组的展平"
   ]
  },
  {
   "cell_type": "code",
   "execution_count": 94,
   "metadata": {},
   "outputs": [
    {
     "name": "stdout",
     "output_type": "stream",
     "text": [
      "修改前数组的形状: (2, 5)\n",
      "修改后数组的形状: (10,)\n",
      "修改后数组:\n",
      " [0 1 2 3 4 5 6 7 8 9]\n",
      "修改后数组的形状: (10,)\n",
      "修改后数组:\n",
      " [0 1 2 3 4 5 6 7 8 9]\n"
     ]
    }
   ],
   "source": [
    "# ravel/faltten方法修改数组形状的方法\n",
    "arr7 = np.arange(10).reshape(2,5)\n",
    "print('修改前数组的形状:',arr7.shape)\n",
    "arr8 = arr7.ravel()#ravel方法返回修改后的数组\n",
    "print('修改后数组的形状:',arr8.shape)\n",
    "print('修改后数组:\\n',arr8)\n",
    "arr9 = arr7.flatten()#flatten方法返回修改后的数组\n",
    "print('修改后数组的形状:',arr9.shape)\n",
    "print('修改后数组:\\n',arr9)\n",
    "del arr7,arr8,arr9\n"
   ]
  },
  {
   "attachments": {},
   "cell_type": "markdown",
   "metadata": {},
   "source": [
    "### 3.4 数组转置和轴对换"
   ]
  },
  {
   "cell_type": "code",
   "execution_count": 95,
   "metadata": {},
   "outputs": [
    {
     "name": "stdout",
     "output_type": "stream",
     "text": [
      "修改前数组的形状:\n",
      " [[ 0  1  2  3]\n",
      " [ 4  5  6  7]\n",
      " [ 8  9 10 11]]\n",
      "修改后数组的形状:\n",
      " [[ 0  4  8]\n",
      " [ 1  5  9]\n",
      " [ 2  6 10]\n",
      " [ 3  7 11]]\n"
     ]
    }
   ],
   "source": [
    "# transpose方法修改数组形状的方法\n",
    "arr10 = np.arange(12).reshape(3,4)\n",
    "print('修改前数组的形状:\\n',arr10) \n",
    "arr11 = arr10.transpose()#transpose方法返回修改后的数组\n",
    "print('修改后数组的形状:\\n',arr11)\n",
    "del arr10,arr11"
   ]
  },
  {
   "cell_type": "code",
   "execution_count": 96,
   "metadata": {},
   "outputs": [
    {
     "name": "stdout",
     "output_type": "stream",
     "text": [
      "修改前数组的形状:\n",
      " [[ 0  1  2  3]\n",
      " [ 4  5  6  7]\n",
      " [ 8  9 10 11]]\n",
      "修改后数组的形状:\n",
      " [[ 0  4  8]\n",
      " [ 1  5  9]\n",
      " [ 2  6 10]\n",
      " [ 3  7 11]]\n"
     ]
    }
   ],
   "source": [
    "# ndarray.T属性修改数组形状的方法\n",
    "arr12 = np.arange(12).reshape(3,4)\n",
    "print('修改前数组的形状:\\n',arr12)\n",
    "arr13 = arr12.T#T属性返回修改后的数组\n",
    "print('修改后数组的形状:\\n',arr13)\n",
    "del arr12,arr13"
   ]
  },
  {
   "cell_type": "code",
   "execution_count": 97,
   "metadata": {},
   "outputs": [
    {
     "name": "stdout",
     "output_type": "stream",
     "text": [
      "修改前数组的形状:\n",
      " [[ 0  1  2  3]\n",
      " [ 4  5  6  7]\n",
      " [ 8  9 10 11]]\n",
      "修改后数组的形状:\n",
      " [[ 0  4  8]\n",
      " [ 1  5  9]\n",
      " [ 2  6 10]\n",
      " [ 3  7 11]]\n"
     ]
    }
   ],
   "source": [
    "# rollaxis方法修改数组形状的方法\n",
    "arr14 = np.arange(12).reshape(3,4)\n",
    "print('修改前数组的形状:\\n',arr14)\n",
    "arr15 = np.rollaxis(arr14,1)#rollaxis方法返回修改后的数组\n",
    "print('修改后数组的形状:\\n',arr15)\n",
    "del arr14,arr15"
   ]
  },
  {
   "cell_type": "code",
   "execution_count": 98,
   "metadata": {},
   "outputs": [
    {
     "name": "stdout",
     "output_type": "stream",
     "text": [
      "修改前数组的形状:\n",
      " [[ 0  1  2  3]\n",
      " [ 4  5  6  7]\n",
      " [ 8  9 10 11]]\n",
      "修改后数组的形状:\n",
      " [[ 0  4  8]\n",
      " [ 1  5  9]\n",
      " [ 2  6 10]\n",
      " [ 3  7 11]]\n"
     ]
    }
   ],
   "source": [
    "# swapaxes方法修改数组形状的方法\n",
    "arr16 = np.arange(12).reshape(3,4)\n",
    "print('修改前数组的形状:\\n',arr16)\n",
    "arr17 = np.swapaxes(arr16,0,1)#swapaxes方法返回修改后的数组\n",
    "print('修改后数组的形状:\\n',arr17)\n",
    "del arr16,arr17"
   ]
  },
  {
   "attachments": {},
   "cell_type": "markdown",
   "metadata": {},
   "source": [
    "### 3.5 数组的链接"
   ]
  },
  {
   "cell_type": "code",
   "execution_count": 99,
   "metadata": {},
   "outputs": [
    {
     "name": "stdout",
     "output_type": "stream",
     "text": [
      "修改前数组的形状:\n",
      " [[ 0  1  2  3]\n",
      " [ 4  5  6  7]\n",
      " [ 8  9 10 11]]\n",
      "修改前数组的形状:\n",
      " [[12 13 14 15]\n",
      " [16 17 18 19]\n",
      " [20 21 22 23]]\n",
      "修改后数组的形状:\n",
      " [[ 0  1  2  3]\n",
      " [ 4  5  6  7]\n",
      " [ 8  9 10 11]\n",
      " [12 13 14 15]\n",
      " [16 17 18 19]\n",
      " [20 21 22 23]]\n",
      "修改后数组的形状:\n",
      " [[ 0  1  2  3 12 13 14 15]\n",
      " [ 4  5  6  7 16 17 18 19]\n",
      " [ 8  9 10 11 20 21 22 23]]\n"
     ]
    }
   ],
   "source": [
    "# concatenate方法修改数组形状的方法\n",
    "arr18 = np.arange(12).reshape(3,4)\n",
    "arr19 = np.arange(12,24).reshape(3,4)\n",
    "print('修改前数组的形状:\\n',arr18)\n",
    "print('修改前数组的形状:\\n',arr19)\n",
    "arr20 = np.concatenate((arr18,arr19),axis=0)#concatenate方法返回修改后的数组\n",
    "print('修改后数组的形状:\\n',arr20)\n",
    "arr21 = np.concatenate((arr18,arr19),axis=1)#concatenate方法返回修改后的数组\n",
    "print('修改后数组的形状:\\n',arr21)\n",
    "del arr18,arr19,arr20,arr21"
   ]
  },
  {
   "cell_type": "code",
   "execution_count": 105,
   "metadata": {},
   "outputs": [
    {
     "name": "stdout",
     "output_type": "stream",
     "text": [
      "修改前数组的形状:\n",
      " [[ 0  1  2  3]\n",
      " [ 4  5  6  7]\n",
      " [ 8  9 10 11]]\n",
      "修改前数组的形状:\n",
      " [[12 13 14 15]\n",
      " [16 17 18 19]\n",
      " [20 21 22 23]]\n",
      "修改后数组的形状:\n",
      " (2, 3, 4) \n",
      " [[[ 0  1  2  3]\n",
      "  [ 4  5  6  7]\n",
      "  [ 8  9 10 11]]\n",
      "\n",
      " [[12 13 14 15]\n",
      "  [16 17 18 19]\n",
      "  [20 21 22 23]]]\n",
      "修改后数组的形状:\n",
      " (3, 2, 4) \n",
      " [[[ 0  1  2  3]\n",
      "  [12 13 14 15]]\n",
      "\n",
      " [[ 4  5  6  7]\n",
      "  [16 17 18 19]]\n",
      "\n",
      " [[ 8  9 10 11]\n",
      "  [20 21 22 23]]]\n",
      "修改后数组的形状:\n",
      " (3, 4, 2) \n",
      " [[[ 0 12]\n",
      "  [ 1 13]\n",
      "  [ 2 14]\n",
      "  [ 3 15]]\n",
      "\n",
      " [[ 4 16]\n",
      "  [ 5 17]\n",
      "  [ 6 18]\n",
      "  [ 7 19]]\n",
      "\n",
      " [[ 8 20]\n",
      "  [ 9 21]\n",
      "  [10 22]\n",
      "  [11 23]]]\n"
     ]
    }
   ],
   "source": [
    "# stack方法修改数组形状的方法\n",
    "arr22 = np.arange(12).reshape(3,4)\n",
    "arr23 = np.arange(12,24).reshape(3,4)\n",
    "print('修改前数组的形状:\\n',arr22)\n",
    "print('修改前数组的形状:\\n',arr23)\n",
    "arr24 = np.stack((arr22,arr23),axis=0)#stack方法返回修改后的数组\n",
    "print('修改后数组的形状:\\n',arr24.shape,'\\n',arr24)\n",
    "arr25 = np.stack((arr22,arr23),axis=1)#stack方法返回修改后的数组\n",
    "print('修改后数组的形状:\\n',arr25.shape,'\\n',arr25)\n",
    "arr26 = np.stack((arr22,arr23),axis=2)#stack方法返回修改后的数组\n",
    "print('修改后数组的形状:\\n',arr26.shape,'\\n',arr26)\n",
    "del arr22,arr23,arr24,arr25,arr26"
   ]
  },
  {
   "cell_type": "code",
   "execution_count": 106,
   "metadata": {},
   "outputs": [
    {
     "name": "stdout",
     "output_type": "stream",
     "text": [
      "修改前数组的形状:\n",
      " [[ 0  1  2  3]\n",
      " [ 4  5  6  7]\n",
      " [ 8  9 10 11]]\n",
      "修改前数组的形状:\n",
      " [[12 13 14 15]\n",
      " [16 17 18 19]\n",
      " [20 21 22 23]]\n",
      "修改后数组的形状:\n",
      " (3, 8) \n",
      " [[ 0  1  2  3 12 13 14 15]\n",
      " [ 4  5  6  7 16 17 18 19]\n",
      " [ 8  9 10 11 20 21 22 23]]\n"
     ]
    }
   ],
   "source": [
    "# hstack方法修改数组形状的方法\n",
    "arr27 = np.arange(12).reshape(3,4)\n",
    "arr28 = np.arange(12,24).reshape(3,4)\n",
    "print('修改前数组的形状:\\n',arr27)\n",
    "print('修改前数组的形状:\\n',arr28)\n",
    "arr29 = np.hstack((arr27,arr28))#hstack方法返回修改后的数组\n",
    "print('修改后数组的形状:\\n',arr29.shape,'\\n',arr29)\n",
    "del arr27,arr28,arr29"
   ]
  },
  {
   "cell_type": "code",
   "execution_count": 107,
   "metadata": {},
   "outputs": [
    {
     "name": "stdout",
     "output_type": "stream",
     "text": [
      "修改前数组的形状:\n",
      " [[ 0  1  2  3]\n",
      " [ 4  5  6  7]\n",
      " [ 8  9 10 11]]\n",
      "修改前数组的形状:\n",
      " [[12 13 14 15]\n",
      " [16 17 18 19]\n",
      " [20 21 22 23]]\n",
      "修改后数组的形状:\n",
      " (6, 4) \n",
      " [[ 0  1  2  3]\n",
      " [ 4  5  6  7]\n",
      " [ 8  9 10 11]\n",
      " [12 13 14 15]\n",
      " [16 17 18 19]\n",
      " [20 21 22 23]]\n"
     ]
    }
   ],
   "source": [
    "# vstack方法修改数组形状的方法\n",
    "arr30 = np.arange(12).reshape(3,4)\n",
    "arr31 = np.arange(12,24).reshape(3,4)\n",
    "print('修改前数组的形状:\\n',arr30)\n",
    "print('修改前数组的形状:\\n',arr31)\n",
    "arr32 = np.vstack((arr30,arr31))#vstack方法返回修改后的数组\n",
    "print('修改后数组的形状:\\n',arr32.shape,'\\n',arr32)\n",
    "del arr30,arr31,arr32"
   ]
  },
  {
   "attachments": {},
   "cell_type": "markdown",
   "metadata": {},
   "source": [
    "### 3.6 数组的分割"
   ]
  },
  {
   "cell_type": "code",
   "execution_count": 110,
   "metadata": {},
   "outputs": [
    {
     "name": "stdout",
     "output_type": "stream",
     "text": [
      "修改前数组的形状:\n",
      " [[ 0  1  2  3]\n",
      " [ 4  5  6  7]\n",
      " [ 8  9 10 11]\n",
      " [12 13 14 15]]\n",
      "修改后数组的形状:\n",
      " (2, 4) \n",
      " [[0 1 2 3]\n",
      " [4 5 6 7]]\n",
      "修改后数组的形状:\n",
      " (2, 4) \n",
      " [[ 8  9 10 11]\n",
      " [12 13 14 15]]\n",
      "修改后数组的形状:\n",
      " (4, 2) \n",
      " [[ 0  1]\n",
      " [ 4  5]\n",
      " [ 8  9]\n",
      " [12 13]]\n",
      "修改后数组的形状:\n",
      " (4, 2) \n",
      " [[ 2  3]\n",
      " [ 6  7]\n",
      " [10 11]\n",
      " [14 15]]\n"
     ]
    }
   ],
   "source": [
    "# split方法修改数组形状的方法\n",
    "arr33 = np.arange(16).reshape(4,4)\n",
    "print('修改前数组的形状:\\n',arr33)\n",
    "arr34 = np.split(arr33,2,axis=0)#split方法返回修改后的数组\n",
    "print('修改后数组的形状:\\n',arr34[0].shape,'\\n',arr34[0])\n",
    "print('修改后数组的形状:\\n',arr34[1].shape,'\\n',arr34[1])\n",
    "arr35 = np.split(arr33,2,axis=1)#split方法返回修改后的数组\n",
    "print('修改后数组的形状:\\n',arr35[0].shape,'\\n',arr35[0])\n",
    "print('修改后数组的形状:\\n',arr35[1].shape,'\\n',arr35[1])\n",
    "del arr33,arr34,arr35"
   ]
  },
  {
   "cell_type": "code",
   "execution_count": 111,
   "metadata": {},
   "outputs": [
    {
     "name": "stdout",
     "output_type": "stream",
     "text": [
      "修改前数组的形状:\n",
      " [[ 0  1  2  3]\n",
      " [ 4  5  6  7]\n",
      " [ 8  9 10 11]\n",
      " [12 13 14 15]]\n",
      "修改后数组的形状:\n",
      " (4, 2) \n",
      " [[ 0  1]\n",
      " [ 4  5]\n",
      " [ 8  9]\n",
      " [12 13]]\n",
      "修改后数组的形状:\n",
      " (4, 2) \n",
      " [[ 2  3]\n",
      " [ 6  7]\n",
      " [10 11]\n",
      " [14 15]]\n"
     ]
    }
   ],
   "source": [
    "# hsplit方法修改数组形状的方法\n",
    "arr36 = np.arange(16).reshape(4,4)\n",
    "print('修改前数组的形状:\\n',arr36)\n",
    "arr37 = np.hsplit(arr36,2)#hsplit方法返回修改后的数组\n",
    "print('修改后数组的形状:\\n',arr37[0].shape,'\\n',arr37[0])\n",
    "print('修改后数组的形状:\\n',arr37[1].shape,'\\n',arr37[1])\n",
    "del arr36,arr37"
   ]
  },
  {
   "cell_type": "code",
   "execution_count": 112,
   "metadata": {},
   "outputs": [
    {
     "name": "stdout",
     "output_type": "stream",
     "text": [
      "修改前数组的形状:\n",
      " [[ 0  1  2  3]\n",
      " [ 4  5  6  7]\n",
      " [ 8  9 10 11]\n",
      " [12 13 14 15]]\n",
      "修改后数组的形状:\n",
      " (2, 4) \n",
      " [[0 1 2 3]\n",
      " [4 5 6 7]]\n",
      "修改后数组的形状:\n",
      " (2, 4) \n",
      " [[ 8  9 10 11]\n",
      " [12 13 14 15]]\n"
     ]
    }
   ],
   "source": [
    "# vsplit方法修改数组形状的方法\n",
    "arr38 = np.arange(16).reshape(4,4)\n",
    "print('修改前数组的形状:\\n',arr38)\n",
    "arr39 = np.vsplit(arr38,2)#vsplit方法返回修改后的数组\n",
    "print('修改后数组的形状:\\n',arr39[0].shape,'\\n',arr39[0])\n",
    "print('修改后数组的形状:\\n',arr39[1].shape,'\\n',arr39[1])\n",
    "del arr38,arr39"
   ]
  },
  {
   "attachments": {},
   "cell_type": "markdown",
   "metadata": {},
   "source": [
    "### 3.7 数组转换"
   ]
  },
  {
   "cell_type": "code",
   "execution_count": 115,
   "metadata": {},
   "outputs": [
    {
     "name": "stdout",
     "output_type": "stream",
     "text": [
      "转换前数组的形状:\n",
      " [[ 0  1  2  3]\n",
      " [ 4  5  6  7]\n",
      " [ 8  9 10 11]]\n",
      "转换后数组的形状:\n",
      " [[0, 1, 2, 3], [4, 5, 6, 7], [8, 9, 10, 11]]\n"
     ]
    }
   ],
   "source": [
    "# 数组转换\n",
    "# 将数组转换成列表\n",
    "arr40 = np.arange(12).reshape(3,4)\n",
    "print('转换前数组的形状:\\n',arr40)\n",
    "arr41 = arr40.tolist()#tolist方法返回转换后的列表\n",
    "print('转换后数组的形状:\\n',arr41)\n",
    "del arr40,arr41"
   ]
  },
  {
   "attachments": {},
   "cell_type": "markdown",
   "metadata": {},
   "source": [
    "### 3.8 添加/删除数组元素"
   ]
  },
  {
   "cell_type": "code",
   "execution_count": 134,
   "metadata": {},
   "outputs": [
    {
     "name": "stdout",
     "output_type": "stream",
     "text": [
      "转换前数组的形状:\n",
      " [[ 0  1  2  3]\n",
      " [ 4  5  6  7]\n",
      " [ 8  9 10 11]]\n",
      "转换后数组的形状:\n",
      " [ 0  1  2  3  4  5  6  7  8  9 10 11 12 13 14 15]\n",
      "转换后数组的形状:\n",
      " [[ 0  1  2  3]\n",
      " [ 4  5  6  7]\n",
      " [ 8  9 10 11]\n",
      " [12 13 14 15]]\n",
      "转换后数组的形状:\n",
      " [[ 0  1  2  3 12]\n",
      " [ 4  5  6  7 13]\n",
      " [ 8  9 10 11 14]]\n"
     ]
    }
   ],
   "source": [
    "# append方法转换数组,axis参数修改添加方向\n",
    "# 用法为：np.append(arr,values,axis=None)\n",
    "arr42 = np.arange(12).reshape(3,4)\n",
    "print('转换前数组的形状:\\n',arr42)\n",
    "arr43 = np.append(arr42,[12,13,14,15])#append方法返回转换后的数组\n",
    "print('转换后数组的形状:\\n',arr43)\n",
    "arr44 = np.append(arr42,[[12,13,14,15]],axis=0)#append方法返回转换后的数组\n",
    "print('转换后数组的形状:\\n',arr44)\n",
    "arr45 = np.append(arr42,[[12],[13],[14]],axis=1)#append方法返回转换后的数组\n",
    "# append实际上是将数组转换成列表，然后添加元素，最后再转换成数组，即对行的操作\n",
    "print('转换后数组的形状:\\n',arr45)\n",
    "del arr42,arr43,arr44,arr45"
   ]
  },
  {
   "cell_type": "code",
   "execution_count": 137,
   "metadata": {},
   "outputs": [
    {
     "name": "stdout",
     "output_type": "stream",
     "text": [
      "转换前数组的形状:\n",
      " [[ 0  1  2  3]\n",
      " [ 4  5  6  7]\n",
      " [ 8  9 10 11]]\n",
      "转换后数组的形状:\n",
      " [ 0  1 12 13 14 15  2  3  4  5  6  7  8  9 10 11]\n",
      "转换后数组的形状:\n",
      " [[ 0  1  2  3]\n",
      " [ 4  5  6  7]\n",
      " [12 13 14 15]\n",
      " [ 8  9 10 11]]\n",
      "转换后数组的形状:\n",
      " [[ 0  1 12  2  3]\n",
      " [ 4  5 13  6  7]\n",
      " [ 8  9 14 10 11]]\n",
      "转换后数组的形状:\n",
      " [[ 0  1 12 13 14  2  3]\n",
      " [ 4  5 12 13 14  6  7]\n",
      " [ 8  9 12 13 14 10 11]]\n"
     ]
    }
   ],
   "source": [
    "# insert方法转换数组,axis参数修改添加方向\n",
    "# 用法为np.insert(arr,obj,values,axis=None)\n",
    "arr46 = np.arange(12).reshape(3,4)\n",
    "print('转换前数组的形状:\\n',arr46)\n",
    "arr47 = np.insert(arr46,2,[12,13,14,15])#insert方法返回转换后的数组\n",
    "print('转换后数组的形状:\\n',arr47)\n",
    "arr48 = np.insert(arr46,2,[[12,13,14,15]],axis=0)#insert方法返回转换后的数组\n",
    "print('转换后数组的形状:\\n',arr48)\n",
    "arr49 = np.insert(arr46,2,[[12,13,14]],axis=1)#insert方法返回转换后的数组\n",
    "print('转换后数组的形状:\\n',arr49)\n",
    "arr50 = np.insert(arr46,2,[[12],[13],[14]],axis=1)#insert方法返回转换后的数组\n",
    "print('转换后数组的形状:\\n',arr50)\n",
    "del arr46,arr47,arr48,arr49,arr50"
   ]
  },
  {
   "cell_type": "code",
   "execution_count": 138,
   "metadata": {},
   "outputs": [
    {
     "name": "stdout",
     "output_type": "stream",
     "text": [
      "转换前数组的形状:\n",
      " [[ 0  1  2  3]\n",
      " [ 4  5  6  7]\n",
      " [ 8  9 10 11]]\n",
      "转换后数组的形状:\n",
      " [ 0  1  3  4  5  6  7  8  9 10 11]\n",
      "转换后数组的形状:\n",
      " [[0 1 2 3]\n",
      " [4 5 6 7]]\n",
      "转换后数组的形状:\n",
      " [[ 0  1  3]\n",
      " [ 4  5  7]\n",
      " [ 8  9 11]]\n"
     ]
    }
   ],
   "source": [
    "# delete方法转换数组,axis参数修改添加方向\n",
    "# 用法为delete(数组名,索引或索引列表,axis=0或1)\n",
    "arr51 = np.arange(12).reshape(3,4)\n",
    "print('转换前数组的形状:\\n',arr51)\n",
    "arr52 = np.delete(arr51,2)#delete方法返回转换后的数组\n",
    "print('转换后数组的形状:\\n',arr52)\n",
    "arr53 = np.delete(arr51,2,axis=0)#delete方法返回转换后的数组\n",
    "print('转换后数组的形状:\\n',arr53)\n",
    "arr54 = np.delete(arr51,2,axis=1)#delete方法返回转换后的数组\n",
    "print('转换后数组的形状:\\n',arr54)\n",
    "del arr51,arr52,arr53,arr54"
   ]
  },
  {
   "attachments": {},
   "cell_type": "markdown",
   "metadata": {},
   "source": [
    "## 4. NumPy数组的矢量计算"
   ]
  },
  {
   "attachments": {},
   "cell_type": "markdown",
   "metadata": {},
   "source": [
    "### 4.1 数组的运算"
   ]
  },
  {
   "cell_type": "code",
   "execution_count": 143,
   "metadata": {},
   "outputs": [
    {
     "name": "stdout",
     "output_type": "stream",
     "text": [
      "相同形状的数组之间的加法运算:\n",
      " [[12 14 16 18]\n",
      " [20 22 24 26]\n",
      " [28 30 32 34]]\n",
      "相同形状的数组之间的减法运算:\n",
      " [[-12 -12 -12 -12]\n",
      " [-12 -12 -12 -12]\n",
      " [-12 -12 -12 -12]]\n",
      "相同形状的数组之间的乘法运算:\n",
      " [[  0  13  28  45]\n",
      " [ 64  85 108 133]\n",
      " [160 189 220 253]]\n",
      "相同形状的数组之间的除法运算:\n",
      " [[0.   0.08 0.14 0.2 ]\n",
      " [0.25 0.29 0.33 0.37]\n",
      " [0.4  0.43 0.45 0.48]]\n",
      "相同形状的数组之间的幂运算:\n",
      " [[          0           1       16384    14348907]\n",
      " [          0 -1564725563  1159987200   442181591]\n",
      " [          0  1914644777 -1304428544  -122979837]]\n",
      "相同形状的数组之间的取余运算:\n",
      " [[ 0  1  2  3]\n",
      " [ 4  5  6  7]\n",
      " [ 8  9 10 11]]\n",
      "相同形状的数组之间的整除运算:\n",
      " [[0 0 0 0]\n",
      " [0 0 0 0]\n",
      " [0 0 0 0]]\n",
      "数组arr55的平方根:\n",
      " [[0.   1.   1.41 1.73]\n",
      " [2.   2.24 2.45 2.65]\n",
      " [2.83 3.   3.16 3.32]]\n",
      "数组arr55的平方:\n",
      " [[  0   1   4   9]\n",
      " [ 16  25  36  49]\n",
      " [ 64  81 100 121]]\n",
      "数组arr55的相反数:\n",
      " [[  0  -1  -2  -3]\n",
      " [ -4  -5  -6  -7]\n",
      " [ -8  -9 -10 -11]]\n",
      "数组arr55的绝对值:\n",
      " [[ 0  1  2  3]\n",
      " [ 4  5  6  7]\n",
      " [ 8  9 10 11]]\n"
     ]
    }
   ],
   "source": [
    "# 相同形状的数组之间的运算\n",
    "arr55 = np.arange(12).reshape(3,4)\n",
    "arr56 = np.arange(12,24).reshape(3,4)\n",
    "print('相同形状的数组之间的加法运算:\\n',arr55+arr56)\n",
    "print('相同形状的数组之间的减法运算:\\n',arr55-arr56)\n",
    "print('相同形状的数组之间的乘法运算:\\n',arr55*arr56)\n",
    "print('相同形状的数组之间的除法运算:\\n',(arr55/arr56).round(2))\n",
    "print('相同形状的数组之间的幂运算:\\n',arr55**arr56.round(2))\n",
    "print('相同形状的数组之间的取余运算:\\n',arr55%arr56)\n",
    "print('相同形状的数组之间的整除运算:\\n',arr55//arr56)\n",
    "print('数组arr55的平方根:\\n',np.sqrt(arr55).round(2))\n",
    "print('数组arr55的平方:\\n',np.square(arr55))\n",
    "print('数组arr55的相反数:\\n',np.negative(arr55))\n",
    "print('数组arr55的绝对值:\\n',np.abs(arr55))\n",
    "del arr55,arr56"
   ]
  },
  {
   "cell_type": "code",
   "execution_count": 147,
   "metadata": {},
   "outputs": [
    {
     "name": "stdout",
     "output_type": "stream",
     "text": [
      "不同形状的数组之间的加法运算:\n",
      " [[ 1  3  5  7]\n",
      " [ 5  7  9 11]\n",
      " [ 9 11 13 15]]\n",
      "不同形状的数组之间的减法运算:\n",
      " [[-1 -1 -1 -1]\n",
      " [ 3  3  3  3]\n",
      " [ 7  7  7  7]]\n",
      "不同形状的数组之间的乘法运算:\n",
      " [[ 0  2  6 12]\n",
      " [ 4 10 18 28]\n",
      " [ 8 18 30 44]]\n",
      "不同形状的数组之间的除法运算:\n",
      " [[0.   0.5  0.67 0.75]\n",
      " [4.   2.5  2.   1.75]\n",
      " [8.   4.5  3.33 2.75]]\n",
      "不同形状的数组之间的幂运算:\n",
      " [[    0     1     8    81]\n",
      " [    4    25   216  2401]\n",
      " [    8    81  1000 14641]]\n",
      "不同形状的数组之间的取余运算:\n",
      " [[0 1 2 3]\n",
      " [0 1 0 3]\n",
      " [0 1 1 3]]\n",
      "不同形状的数组之间的整除运算:\n",
      " [[0 0 0 0]\n",
      " [4 2 2 1]\n",
      " [8 4 3 2]]\n",
      "数组arr57的平方根:\n",
      " [[0.   1.   1.41 1.73]\n",
      " [2.   2.24 2.45 2.65]\n",
      " [2.83 3.   3.16 3.32]]\n",
      "数组arr57的平方:\n",
      " [[  0   1   4   9]\n",
      " [ 16  25  36  49]\n",
      " [ 64  81 100 121]]\n",
      "数组arr57的相反数:\n",
      " [[  0  -1  -2  -3]\n",
      " [ -4  -5  -6  -7]\n",
      " [ -8  -9 -10 -11]]\n",
      "数组arr57的绝对值:\n",
      " [[ 0  1  2  3]\n",
      " [ 4  5  6  7]\n",
      " [ 8  9 10 11]]\n"
     ]
    }
   ],
   "source": [
    "# 不同形状的数组之间的运算（广播）\n",
    "arr57 = np.arange(12).reshape(3,4)\n",
    "arr58 = np.arange(1,5)\n",
    "print('不同形状的数组之间的加法运算:\\n',arr57+arr58)\n",
    "print('不同形状的数组之间的减法运算:\\n',arr57-arr58)\n",
    "print('不同形状的数组之间的乘法运算:\\n',arr57*arr58)\n",
    "print('不同形状的数组之间的除法运算:\\n',(arr57/arr58).round(2))\n",
    "print('不同形状的数组之间的幂运算:\\n',arr57**arr58.round(2))\n",
    "print('不同形状的数组之间的取余运算:\\n',arr57%arr58)\n",
    "print('不同形状的数组之间的整除运算:\\n',arr57//arr58)\n",
    "print('数组arr57的平方根:\\n',np.sqrt(arr57).round(2))\n",
    "print('数组arr57的平方:\\n',np.square(arr57))\n",
    "print('数组arr57的相反数:\\n',np.negative(arr57))\n",
    "print('数组arr57的绝对值:\\n',np.abs(arr57))\n",
    "del arr57,arr58"
   ]
  },
  {
   "attachments": {},
   "cell_type": "markdown",
   "metadata": {
    "notebookRunGroups": {
     "groupValue": ""
    }
   },
   "source": [
    "### 4.2 通用函数（ufunc）"
   ]
  },
  {
   "cell_type": "code",
   "execution_count": 154,
   "metadata": {
    "notebookRunGroups": {
     "groupValue": ""
    }
   },
   "outputs": [
    {
     "name": "stdout",
     "output_type": "stream",
     "text": [
      "数组arr59的平方根:\n",
      " [[1.41 1.73 2.   2.24]\n",
      " [2.45 2.65 2.83 3.  ]\n",
      " [3.16 3.32 3.46 3.61]\n",
      " [3.74 3.87 4.   4.12]]\n",
      "数组arr59的平方:\n",
      " [[  4   9  16  25]\n",
      " [ 36  49  64  81]\n",
      " [100 121 144 169]\n",
      " [196 225 256 289]]\n",
      "数组arr59的相反数:\n",
      " [[ -2  -3  -4  -5]\n",
      " [ -6  -7  -8  -9]\n",
      " [-10 -11 -12 -13]\n",
      " [-14 -15 -16 -17]]\n",
      "数组arr59的绝对值:\n",
      " [[ 2  3  4  5]\n",
      " [ 6  7  8  9]\n",
      " [10 11 12 13]\n",
      " [14 15 16 17]]\n",
      "数组arr59的指数:\n",
      " [[7.38905610e+00 2.00855369e+01 5.45981500e+01 1.48413159e+02]\n",
      " [4.03428793e+02 1.09663316e+03 2.98095799e+03 8.10308393e+03]\n",
      " [2.20264658e+04 5.98741417e+04 1.62754791e+05 4.42413392e+05]\n",
      " [1.20260428e+06 3.26901737e+06 8.88611052e+06 2.41549528e+07]]\n",
      "数组arr59的自然对数:\n",
      " [[0.69314718 1.09861229 1.38629436 1.60943791]\n",
      " [1.79175947 1.94591015 2.07944154 2.19722458]\n",
      " [2.30258509 2.39789527 2.48490665 2.56494936]\n",
      " [2.63905733 2.7080502  2.77258872 2.83321334]]\n",
      "数组arr59的以10为底的对数:\n",
      " [[0.30103    0.47712125 0.60205999 0.69897   ]\n",
      " [0.77815125 0.84509804 0.90308999 0.95424251]\n",
      " [1.         1.04139269 1.07918125 1.11394335]\n",
      " [1.14612804 1.17609126 1.20411998 1.23044892]]\n",
      "数组arr59的以2为底的对数:\n",
      " [[1.         1.5849625  2.         2.32192809]\n",
      " [2.5849625  2.80735492 3.         3.169925  ]\n",
      " [3.32192809 3.45943162 3.5849625  3.70043972]\n",
      " [3.80735492 3.9068906  4.         4.08746284]]\n",
      "数组arr59的符号:\n",
      " [[1 1 1 1]\n",
      " [1 1 1 1]\n",
      " [1 1 1 1]\n",
      " [1 1 1 1]]\n",
      "数组arr59的上限:\n",
      " [[ 2.  3.  4.  5.]\n",
      " [ 6.  7.  8.  9.]\n",
      " [10. 11. 12. 13.]\n",
      " [14. 15. 16. 17.]]\n",
      "数组arr59的下限:\n",
      " [[ 2.  3.  4.  5.]\n",
      " [ 6.  7.  8.  9.]\n",
      " [10. 11. 12. 13.]\n",
      " [14. 15. 16. 17.]]\n",
      "数组arr59的四舍五入:\n",
      " [[ 2.  3.  4.  5.]\n",
      " [ 6.  7.  8.  9.]\n",
      " [10. 11. 12. 13.]\n",
      " [14. 15. 16. 17.]]\n",
      "数组arr59的小数部分和整数部分:\n",
      " (array([[0., 0., 0., 0.],\n",
      "       [0., 0., 0., 0.],\n",
      "       [0., 0., 0., 0.],\n",
      "       [0., 0., 0., 0.]]), array([[ 2.,  3.,  4.,  5.],\n",
      "       [ 6.,  7.,  8.,  9.],\n",
      "       [10., 11., 12., 13.],\n",
      "       [14., 15., 16., 17.]]))\n",
      "数组arr59的是否为非数值:\n",
      " [[False False False False]\n",
      " [False False False False]\n",
      " [False False False False]\n",
      " [False False False False]]\n",
      "数组arr59的是否为有限数值:\n",
      " [[ True  True  True  True]\n",
      " [ True  True  True  True]\n",
      " [ True  True  True  True]\n",
      " [ True  True  True  True]]\n",
      "数组arr59的是否为无限数值:\n",
      " [[False False False False]\n",
      " [False False False False]\n",
      " [False False False False]\n",
      " [False False False False]]\n",
      "数组arr59的余弦值:\n",
      " [[-0.41614684 -0.9899925  -0.65364362  0.28366219]\n",
      " [ 0.96017029  0.75390225 -0.14550003 -0.91113026]\n",
      " [-0.83907153  0.0044257   0.84385396  0.90744678]\n",
      " [ 0.13673722 -0.75968791 -0.95765948 -0.27516334]]\n",
      "数组arr59的双曲余弦值:\n",
      " [[3.76219569e+00 1.00676620e+01 2.73082328e+01 7.42099485e+01]\n",
      " [2.01715636e+02 5.48317035e+02 1.49047916e+03 4.05154203e+03]\n",
      " [1.10132329e+04 2.99370709e+04 8.13773957e+04 2.21206696e+05]\n",
      " [6.01302142e+05 1.63450869e+06 4.44305526e+06 1.20774764e+07]]\n",
      "数组arr59的正弦值:\n",
      " [[ 0.90929743  0.14112001 -0.7568025  -0.95892427]\n",
      " [-0.2794155   0.6569866   0.98935825  0.41211849]\n",
      " [-0.54402111 -0.99999021 -0.53657292  0.42016704]\n",
      " [ 0.99060736  0.65028784 -0.28790332 -0.96139749]]\n",
      "数组arr59的双曲正弦值:\n",
      " [[3.62686041e+00 1.00178749e+01 2.72899172e+01 7.42032106e+01]\n",
      " [2.01713157e+02 5.48316123e+02 1.49047883e+03 4.05154190e+03]\n",
      " [1.10132329e+04 2.99370708e+04 8.13773957e+04 2.21206696e+05]\n",
      " [6.01302142e+05 1.63450869e+06 4.44305526e+06 1.20774764e+07]]\n",
      "数组arr59的正切值:\n",
      " [[-2.18503986e+00 -1.42546543e-01  1.15782128e+00 -3.38051501e+00]\n",
      " [-2.91006191e-01  8.71447983e-01 -6.79971146e+00 -4.52315659e-01]\n",
      " [ 6.48360827e-01 -2.25950846e+02 -6.35859929e-01  4.63021133e-01]\n",
      " [ 7.24460662e+00 -8.55993401e-01  3.00632242e-01  3.49391565e+00]]\n",
      "数组arr59的双曲正切值:\n",
      " [[0.96402758 0.99505475 0.9993293  0.9999092 ]\n",
      " [0.99998771 0.99999834 0.99999977 0.99999997]\n",
      " [1.         1.         1.         1.        ]\n",
      " [1.         1.         1.         1.        ]]\n",
      "数组arr59的反双曲余弦值:\n",
      " [[1.3169579  1.76274717 2.06343707 2.29243167]\n",
      " [2.47788873 2.63391579 2.76865938 2.88727095]\n",
      " [2.99322285 3.0889699  3.17631318 3.25661395]\n",
      " [3.33092655 3.40008441 3.46475791 3.52549435]]\n",
      "数组arr59的反双曲正弦值:\n",
      " [[1.44363548 1.81844646 2.09471255 2.31243834]\n",
      " [2.49177985 2.64412076 2.77647228 2.89344399]\n",
      " [2.99822295 3.0931022  3.17978544 3.25957256]\n",
      " [3.33347759 3.40230665 3.46671104 3.52722446]]\n",
      "数组arr59的反正切值:\n",
      " [[1.10714872 1.24904577 1.32581766 1.37340077]\n",
      " [1.40564765 1.42889927 1.44644133 1.46013911]\n",
      " [1.47112767 1.48013644 1.48765509 1.49402444]\n",
      " [1.49948886 1.50422816 1.50837752 1.5120405 ]]\n",
      "数组arr59的逻辑非:\n",
      " [[False False False False]\n",
      " [False False False False]\n",
      " [False False False False]\n",
      " [False False False False]]\n",
      "数组arr59的加法:\n",
      " [[ 4  6  8 10]\n",
      " [12 14 16 18]\n",
      " [20 22 24 26]\n",
      " [28 30 32 34]]\n",
      "数组arr59的减法:\n",
      " [[0 0 0 0]\n",
      " [0 0 0 0]\n",
      " [0 0 0 0]\n",
      " [0 0 0 0]]\n",
      "数组arr59的数量积:\n",
      " [[  4   9  16  25]\n",
      " [ 36  49  64  81]\n",
      " [100 121 144 169]\n",
      " [196 225 256 289]]\n",
      "数组arr59的矢量积:\n",
      " [[132 146 160 174]\n",
      " [260 290 320 350]\n",
      " [388 434 480 526]\n",
      " [516 578 640 702]]\n",
      "数组arr59的除法:\n",
      " [[1. 1. 1. 1.]\n",
      " [1. 1. 1. 1.]\n",
      " [1. 1. 1. 1.]\n",
      " [1. 1. 1. 1.]]\n",
      "数组arr59的幂运算:\n",
      " [[          4          27         256        3125]\n",
      " [      46656      823543    16777216   387420489]\n",
      " [ 1410065408  1843829075  -251658240 -1692154371]\n",
      " [-1282129920  1500973039           0  1681328401]]\n",
      "数组arr59的最大值:\n",
      " [[ 2  3  4  5]\n",
      " [ 6  7  8  9]\n",
      " [10 11 12 13]\n",
      " [14 15 16 17]]\n",
      "数组arr59的最小值:\n",
      " [[ 2  3  4  5]\n",
      " [ 6  7  8  9]\n",
      " [10 11 12 13]\n",
      " [14 15 16 17]]\n",
      "数组arr59的符号:\n",
      " [[ 2.  3.  4.  5.]\n",
      " [ 6.  7.  8.  9.]\n",
      " [10. 11. 12. 13.]\n",
      " [14. 15. 16. 17.]]\n",
      "数组arr59的大于运算:\n",
      " [[False False False False]\n",
      " [False False False False]\n",
      " [False False False False]\n",
      " [False False False False]]\n",
      "数组arr59的大于等于运算:\n",
      " [[ True  True  True  True]\n",
      " [ True  True  True  True]\n",
      " [ True  True  True  True]\n",
      " [ True  True  True  True]]\n",
      "数组arr59的小于运算:\n",
      " [[False False False False]\n",
      " [False False False False]\n",
      " [False False False False]\n",
      " [False False False False]]\n",
      "数组arr59的小于等于运算:\n",
      " [[ True  True  True  True]\n",
      " [ True  True  True  True]\n",
      " [ True  True  True  True]\n",
      " [ True  True  True  True]]\n",
      "数组arr59的等于运算:\n",
      " [[ True  True  True  True]\n",
      " [ True  True  True  True]\n",
      " [ True  True  True  True]\n",
      " [ True  True  True  True]]\n",
      "数组arr59的不等于运算:\n",
      " [[False False False False]\n",
      " [False False False False]\n",
      " [False False False False]\n",
      " [False False False False]]\n",
      "数组arr59的逻辑与运算:\n",
      " [[ True  True  True  True]\n",
      " [ True  True  True  True]\n",
      " [ True  True  True  True]\n",
      " [ True  True  True  True]]\n",
      "数组arr59的逻辑或运算:\n",
      " [[ True  True  True  True]\n",
      " [ True  True  True  True]\n",
      " [ True  True  True  True]\n",
      " [ True  True  True  True]]\n",
      "数组arr59的逻辑异或运算:\n",
      " [[False False False False]\n",
      " [False False False False]\n",
      " [False False False False]\n",
      " [False False False False]]\n"
     ]
    }
   ],
   "source": [
    "# 通用函数（ufunc）\n",
    "# 通用函数是一种对ndarray中的数据执行元素级运算的函数，可以将其看做简单函数（接受一个或多个标量值，并产生一个或多个标量值）的矢量化包装器\n",
    "# 通用函数的主要目的是对ndarray中的数据执行快速的元素级运算，可以看做简单函数的矢量化包装器，接受一个或多个标量值，并产生一个或多个标量值\n",
    "# 通用函数可以分为一元通用函数和二元通用函数\n",
    "# 一元通用函数：abs、sqrt、square、exp、log、log10、log2、sign、ceil、floor、rint、modf、isnan、isfinite、isinf、cos、cosh、sin、sinh、tan、tanh、arccos、arccosh、arcsin、arcsinh、arctan、arctanh、logical_not\n",
    "# 二元通用函数：add、subtract、multiply、divide、floor_divide、power、maximum、fmax、minimum、fmin、mod、copysign、greater、greater_equal、less、less_equal、equal、not_equal、logical_and、logical_or、logical_xor\n",
    "# 通用函数的用法为np.通用函数名(数组名)\n",
    "arr59 = np.arange(2,18).reshape(4,4)\n",
    "print('数组arr59的平方根:\\n',np.sqrt(arr59).round(2))\n",
    "print('数组arr59的平方:\\n',np.square(arr59))\n",
    "print('数组arr59的相反数:\\n',np.negative(arr59))\n",
    "print('数组arr59的绝对值:\\n',np.abs(arr59))\n",
    "print('数组arr59的指数:\\n',np.exp(arr59))\n",
    "print('数组arr59的自然对数:\\n',np.log(arr59))\n",
    "print('数组arr59的以10为底的对数:\\n',np.log10(arr59))\n",
    "print('数组arr59的以2为底的对数:\\n',np.log2(arr59))\n",
    "print('数组arr59的符号:\\n',np.sign(arr59))\n",
    "print('数组arr59的上限:\\n',np.ceil(arr59))\n",
    "print('数组arr59的下限:\\n',np.floor(arr59))\n",
    "print('数组arr59的四舍五入:\\n',np.rint(arr59))\n",
    "print('数组arr59的小数部分和整数部分:\\n',np.modf(arr59))\n",
    "print('数组arr59的是否为非数值:\\n',np.isnan(arr59))\n",
    "print('数组arr59的是否为有限数值:\\n',np.isfinite(arr59))\n",
    "print('数组arr59的是否为无限数值:\\n',np.isinf(arr59))\n",
    "print('数组arr59的余弦值:\\n',np.cos(arr59))\n",
    "print('数组arr59的双曲余弦值:\\n',np.cosh(arr59))\n",
    "print('数组arr59的正弦值:\\n',np.sin(arr59))\n",
    "print('数组arr59的双曲正弦值:\\n',np.sinh(arr59))\n",
    "print('数组arr59的正切值:\\n',np.tan(arr59))\n",
    "print('数组arr59的双曲正切值:\\n',np.tanh(arr59))\n",
    "print('数组arr59的反双曲余弦值:\\n',np.arccosh(arr59))\n",
    "print('数组arr59的反双曲正弦值:\\n',np.arcsinh(arr59))\n",
    "print('数组arr59的反正切值:\\n',np.arctan(arr59))\n",
    "print('数组arr59的逻辑非:\\n',np.logical_not(arr59))\n",
    "print('数组arr59的加法:\\n',np.add(arr59,arr59))\n",
    "print('数组arr59的减法:\\n',np.subtract(arr59,arr59))\n",
    "print('数组arr59的数量积:\\n',np.multiply(arr59,arr59))\n",
    "print('数组arr59的矢量积:\\n',np.dot(arr59,arr59))\n",
    "print('数组arr59的除法:\\n',np.divide(arr59,arr59))\n",
    "print('数组arr59的幂运算:\\n',np.power(arr59,arr59))\n",
    "print('数组arr59的最大值:\\n',np.maximum(arr59,arr59))\n",
    "print('数组arr59的最小值:\\n',np.minimum(arr59,arr59))\n",
    "print('数组arr59的符号:\\n',np.copysign(arr59,arr59))\n",
    "print('数组arr59的大于运算:\\n',np.greater(arr59,arr59))\n",
    "print('数组arr59的大于等于运算:\\n',np.greater_equal(arr59,arr59))\n",
    "print('数组arr59的小于运算:\\n',np.less(arr59,arr59))\n",
    "print('数组arr59的小于等于运算:\\n',np.less_equal(arr59,arr59))\n",
    "print('数组arr59的等于运算:\\n',np.equal(arr59,arr59))\n",
    "print('数组arr59的不等于运算:\\n',np.not_equal(arr59,arr59))\n",
    "print('数组arr59的逻辑与运算:\\n',np.logical_and(arr59,arr59))\n",
    "print('数组arr59的逻辑或运算:\\n',np.logical_or(arr59,arr59))\n",
    "print('数组arr59的逻辑异或运算:\\n',np.logical_xor(arr59,arr59))\n",
    "del arr59"
   ]
  },
  {
   "attachments": {},
   "cell_type": "markdown",
   "metadata": {},
   "source": [
    "## 5. NumPy矩阵创建、计算及操作"
   ]
  },
  {
   "attachments": {},
   "cell_type": "markdown",
   "metadata": {},
   "source": [
    "NumPy矩阵  \n",
    "NumPy矩阵是一个二维的、固定大小的数据结构，它包含在NumPy的子模块numpy.matlib中  \n",
    "矩阵是一个二维的、固定大小的数据结构，它包含在NumPy的子模块numpy.matlib中  "
   ]
  },
  {
   "attachments": {},
   "cell_type": "markdown",
   "metadata": {},
   "source": [
    "### 5.1 矩阵的创建"
   ]
  },
  {
   "cell_type": "code",
   "execution_count": 2,
   "metadata": {},
   "outputs": [
    {
     "data": {
      "text/plain": [
       "matrix([[1, 2, 3],\n",
       "        [4, 5, 6],\n",
       "        [7, 8, 9]])"
      ]
     },
     "execution_count": 2,
     "metadata": {},
     "output_type": "execute_result"
    }
   ],
   "source": [
    "# 矩阵的创建\n",
    "## 使用字符串创建矩阵\n",
    "# 使用字符串创建矩阵的格式为np.mat(字符串)\n",
    "# 使用字符串创建矩阵时，字符串中的每个元素之间用空格隔开，每行元素之间用分号隔开\n",
    "# 使用字符串创建矩阵时，字符串中的每个元素必须是数值型，否则会报错\n",
    "np.mat('1 2 3;4 5 6;7 8 9')"
   ]
  },
  {
   "cell_type": "code",
   "execution_count": 3,
   "metadata": {},
   "outputs": [
    {
     "data": {
      "text/plain": [
       "matrix([[1, 2, 3],\n",
       "        [4, 5, 6],\n",
       "        [7, 8, 9]])"
      ]
     },
     "execution_count": 3,
     "metadata": {},
     "output_type": "execute_result"
    }
   ],
   "source": [
    "## 使用嵌套列表创建矩阵\n",
    "# 使用嵌套列表创建矩阵的格式为np.mat(嵌套列表)\n",
    "# 使用嵌套列表创建矩阵时，嵌套列表中的每个元素之间用逗号隔开，每行元素之间用分号隔开\n",
    "# 使用嵌套列表创建矩阵时，嵌套列表中的每个元素可以是数值型，也可以是字符串型\n",
    "np.mat([[1,2,3],[4,5,6],[7,8,9]])"
   ]
  },
  {
   "cell_type": "code",
   "execution_count": 4,
   "metadata": {},
   "outputs": [
    {
     "data": {
      "text/plain": [
       "matrix([[1, 2, 3],\n",
       "        [4, 5, 6],\n",
       "        [7, 8, 9]])"
      ]
     },
     "execution_count": 4,
     "metadata": {},
     "output_type": "execute_result"
    }
   ],
   "source": [
    "## 使用数组创建矩阵\n",
    "# 使用数组创建矩阵的格式为np.mat(数组)\n",
    "# 使用数组创建矩阵时，数组中的每个元素之间用逗号隔开，每行元素之间用分号隔开\n",
    "# 使用数组创建矩阵时，数组中的每个元素可以是数值型，也可以是字符串型\n",
    "np.mat(np.arange(1,10).reshape(3,3))"
   ]
  },
  {
   "cell_type": "code",
   "execution_count": 5,
   "metadata": {},
   "outputs": [
    {
     "data": {
      "text/plain": [
       "matrix([[1, 2, 3],\n",
       "        [4, 5, 6],\n",
       "        [7, 8, 9]])"
      ]
     },
     "execution_count": 5,
     "metadata": {},
     "output_type": "execute_result"
    }
   ],
   "source": [
    "## 使用matrix函数创建矩阵\n",
    "# 使用matrix函数创建矩阵的格式为np.matrix(数组)\n",
    "# 使用matrix函数创建矩阵时，数组中的每个元素之间用逗号隔开，每行元素之间用分号隔开\n",
    "# 使用matrix函数创建矩阵时，数组中的每个元素可以是数值型，也可以是字符串型\n",
    "np.matrix(np.arange(1,10).reshape(3,3))"
   ]
  },
  {
   "cell_type": "code",
   "execution_count": 17,
   "metadata": {},
   "outputs": [],
   "source": [
    "## 使用bmat函数创建矩阵\n",
    "# 使用bmat函数创建矩阵的格式为np.bmat(嵌套列表)\n",
    "# 使用bmat函数创建矩阵时，嵌套列表中的每个元素之间用逗号隔开，每行元素之间用分号隔开\n",
    "# 使用bmat函数创建矩阵时，嵌套列表中的每个元素可以是数值型，也可以是字符串型\n",
    "mat1 = np.matrix(np.arange(1,10).reshape(3,3))\n",
    "mat2 = np.matrix(np.arange(1,10).reshape(3,3))\n",
    "np.bmat([mat1,mat2])\n",
    "del mat1,mat2"
   ]
  },
  {
   "attachments": {},
   "cell_type": "markdown",
   "metadata": {},
   "source": [
    "### 5.2 矩阵的计算及操作"
   ]
  },
  {
   "cell_type": "code",
   "execution_count": 38,
   "metadata": {},
   "outputs": [
    {
     "name": "stdout",
     "output_type": "stream",
     "text": [
      "(3, 3) \n",
      " [[1 2 3]\n",
      " [4 5 6]\n",
      " [7 8 9]]\n"
     ]
    }
   ],
   "source": [
    "# 矩阵的属性\n",
    "## 矩阵的维度\n",
    "# 矩阵的维度可以通过矩阵的shape属性获得\n",
    "# 矩阵的维度是一个元组，元组中的第一个元素表示矩阵的行数，第二个元素表示矩阵的列数\n",
    "mat = np.mat('1 2 3;4 5 6;7 8 9')\n",
    "print(mat.shape,'\\n',mat)\n",
    "del mat"
   ]
  },
  {
   "cell_type": "code",
   "execution_count": 40,
   "metadata": {},
   "outputs": [
    {
     "name": "stdout",
     "output_type": "stream",
     "text": [
      "矩阵相加\n",
      " [[ 2  4  6]\n",
      " [ 8 10 12]\n",
      " [14 16 18]]\n",
      "矩阵数量积\n",
      " [[ 30  36  42]\n",
      " [ 66  81  96]\n",
      " [102 126 150]]\n",
      "矩阵向量积\n",
      " [[ 30  36  42]\n",
      " [ 66  81  96]\n",
      " [102 126 150]]\n"
     ]
    }
   ],
   "source": [
    "# 矩阵的计算\n",
    "mat1 = np.mat('1 2 3;4 5 6;7 8 9')\n",
    "mat2 = np.mat('1 2 3;4 5 6;7 8 9')\n",
    "print('矩阵相加\\n',mat1+mat2)\n",
    "print('矩阵数量积\\n',mat1*mat2)\n",
    "print('矩阵向量积\\n',np.dot(mat1,mat2))\n",
    "del mat1,mat2"
   ]
  },
  {
   "cell_type": "code",
   "execution_count": 47,
   "metadata": {},
   "outputs": [
    {
     "name": "stdout",
     "output_type": "stream",
     "text": [
      "矩阵\n",
      " [[1 2 3]\n",
      " [4 5 6]\n",
      " [7 8 9]]\n",
      "矩阵的转置\n",
      " [[1 4 7]\n",
      " [2 5 8]\n",
      " [3 6 9]]\n",
      "矩阵第一行的值\n",
      " [[1 2 3]]\n",
      "矩阵第一列的值\n",
      " [[1]\n",
      " [4]\n",
      " [7]]\n"
     ]
    }
   ],
   "source": [
    "# 矩阵的操作\n",
    "## 矩阵的转置\n",
    "# 矩阵的转置可以通过矩阵的T属性获得\n",
    "# 矩阵的转置是将矩阵的行和列互换\n",
    "mat = np.mat('1 2 3;4 5 6;7 8 9')\n",
    "print('矩阵\\n',mat)\n",
    "print('矩阵的转置\\n',mat.T)\n",
    "# 取矩阵第一行的值\n",
    "print('矩阵第一行的值\\n',mat[0])\n",
    "# 取矩阵第一列的值\n",
    "print('矩阵第一列的值\\n',mat[:,0])\n",
    "del mat"
   ]
  },
  {
   "attachments": {},
   "cell_type": "markdown",
   "metadata": {},
   "source": [
    "## 6. 随机数生成"
   ]
  },
  {
   "cell_type": "code",
   "execution_count": 60,
   "metadata": {},
   "outputs": [
    {
     "data": {
      "text/plain": [
       "array([[0.02672935, 0.79279632, 0.25236475],\n",
       "       [0.79726584, 0.30721521, 0.56233201],\n",
       "       [0.64530382, 0.50804097, 0.3991289 ]])"
      ]
     },
     "execution_count": 60,
     "metadata": {},
     "output_type": "execute_result"
    }
   ],
   "source": [
    "# rand函数生成随机数\n",
    "# rand函数可以生成一个0到1之间的随机数\n",
    "# rand函数的格式为np.random.rand(维度)\n",
    "# rand函数的参数维度可以是一个整数，也可以是一个元组\n",
    "# rand函数生成的随机数是均匀分布的\n",
    "# rand函数生成的随机数是浮点型的\n",
    "# rand函数生成的随机数是伪随机数，每次生成的随机数都是固定的\n",
    "np.random.seed(1012)# 设置随机数种子\n",
    "np.random.rand(3,3)"
   ]
  },
  {
   "cell_type": "code",
   "execution_count": 68,
   "metadata": {},
   "outputs": [
    {
     "data": {
      "text/plain": [
       "array([[ 0.77817408, -0.64825252,  0.58478833],\n",
       "       [-1.80867401,  0.12277205,  2.21854379],\n",
       "       [-1.4889872 , -0.62538366, -2.25033158]])"
      ]
     },
     "execution_count": 68,
     "metadata": {},
     "output_type": "execute_result"
    }
   ],
   "source": [
    "# randn函数生成随机数\n",
    "# randn函数可以生成一个服从标准正态分布的随机数\n",
    "# randn函数的格式为np.random.randn(维度)\n",
    "# randn函数的参数维度可以是一个整数，也可以是一个元组\n",
    "# randn函数生成的随机数是服从标准正态分布的\n",
    "# randn函数生成的随机数是浮点型的\n",
    "# randn函数生成的随机数是伪随机数，每次生成的随机数都是固定的\n",
    "np.random.seed(1012)\n",
    "np.random.randn(3,3)"
   ]
  },
  {
   "cell_type": "code",
   "execution_count": 71,
   "metadata": {},
   "outputs": [
    {
     "data": {
      "text/plain": [
       "array([[2, 4, 4],\n",
       "       [3, 6, 7],\n",
       "       [7, 3, 6]])"
      ]
     },
     "execution_count": 71,
     "metadata": {},
     "output_type": "execute_result"
    }
   ],
   "source": [
    "# randint函数生成随机数\n",
    "# randint函数可以生成一个指定范围内的随机整数\n",
    "# randint函数的格式为np.random.randint(最小值,最大值,维度)\n",
    "# randint函数的参数维度可以是一个整数，也可以是一个元组\n",
    "# randint函数生成的随机数是均匀分布的\n",
    "# randint函数生成的随机数是整数型的\n",
    "# randint函数生成的随机数是伪随机数，每次生成的随机数都是固定的\n",
    "np.random.seed(1012)\n",
    "np.random.randint(1,10,(3,3))"
   ]
  },
  {
   "cell_type": "code",
   "execution_count": 72,
   "metadata": {},
   "outputs": [
    {
     "data": {
      "text/plain": [
       "array([[0.02672935, 0.79279632, 0.25236475],\n",
       "       [0.79726584, 0.30721521, 0.56233201],\n",
       "       [0.64530382, 0.50804097, 0.3991289 ]])"
      ]
     },
     "execution_count": 72,
     "metadata": {},
     "output_type": "execute_result"
    }
   ],
   "source": [
    "# random函数生成随机数\n",
    "# random函数可以生成一个0到1之间的随机数\n",
    "# random函数的格式为np.random.random(维度)\n",
    "# random函数的参数维度可以是一个整数，也可以是一个元组\n",
    "# random函数生成的随机数是均匀分布的\n",
    "# random函数生成的随机数是浮点型的\n",
    "# random函数生成的随机数是伪随机数，每次生成的随机数都是固定的\n",
    "np.random.seed(1012)\n",
    "np.random.random((3,3))"
   ]
  },
  {
   "cell_type": "code",
   "execution_count": 73,
   "metadata": {},
   "outputs": [
    {
     "data": {
      "text/plain": [
       "array([2, 4, 4])"
      ]
     },
     "execution_count": 73,
     "metadata": {},
     "output_type": "execute_result"
    }
   ],
   "source": [
    "# choice函数生成随机数\n",
    "# choice函数可以从指定的一维数组中生成随机数\n",
    "# choice函数的格式为np.random.choice(一维数组,维度)\n",
    "# choice函数的参数维度可以是一个整数，也可以是一个元组\n",
    "# choice函数生成的随机数是均匀分布的\n",
    "# choice函数生成的随机数是浮点型的\n",
    "# choice函数生成的随机数是伪随机数，每次生成的随机数都是固定的\n",
    "np.random.seed(1012)\n",
    "np.random.choice(np.arange(1,10),3)"
   ]
  },
  {
   "cell_type": "code",
   "execution_count": 74,
   "metadata": {},
   "outputs": [
    {
     "name": "stdout",
     "output_type": "stream",
     "text": [
      "[1 9 7 6 5 3 8 4 2]\n"
     ]
    }
   ],
   "source": [
    "# shuffle函数生成随机数\n",
    "# shuffle函数可以对指定的一维数组进行随机排序\n",
    "# shuffle函数的格式为np.random.shuffle(一维数组)\n",
    "# shuffle函数生成的随机数是均匀分布的\n",
    "# shuffle函数生成的随机数是浮点型的\n",
    "# shuffle函数生成的随机数是伪随机数，每次生成的随机数都是固定的\n",
    "np.random.seed(1012)\n",
    "arr = np.arange(1,10)\n",
    "np.random.shuffle(arr)\n",
    "print(arr)\n",
    "del arr"
   ]
  },
  {
   "cell_type": "code",
   "execution_count": 75,
   "metadata": {},
   "outputs": [
    {
     "data": {
      "text/plain": [
       "array([[ 0.77817408, -0.64825252,  0.58478833],\n",
       "       [-1.80867401,  0.12277205,  2.21854379],\n",
       "       [-1.4889872 , -0.62538366, -2.25033158]])"
      ]
     },
     "execution_count": 75,
     "metadata": {},
     "output_type": "execute_result"
    }
   ],
   "source": [
    "# normal函数生成随机数\n",
    "# normal函数可以生成一个服从正态分布的随机数\n",
    "# normal函数的格式为np.random.normal(均值,标准差,维度)\n",
    "# normal函数的参数维度可以是一个整数，也可以是一个元组\n",
    "# normal函数生成的随机数是服从正态分布的\n",
    "# normal函数生成的随机数是浮点型的\n",
    "# normal函数生成的随机数是伪随机数，每次生成的随机数都是固定的\n",
    "np.random.seed(1012)\n",
    "np.random.normal(0,1,(3,3))"
   ]
  },
  {
   "cell_type": "code",
   "execution_count": 76,
   "metadata": {},
   "outputs": [
    {
     "data": {
      "text/plain": [
       "array([[1.24056418, 8.1351669 , 3.27128278],\n",
       "       [8.17539258, 3.76493691, 6.06098812],\n",
       "       [6.80773437, 5.57236875, 4.59216011]])"
      ]
     },
     "execution_count": 76,
     "metadata": {},
     "output_type": "execute_result"
    }
   ],
   "source": [
    "# uniform函数生成随机数\n",
    "# uniform函数可以生成一个指定范围内的随机数\n",
    "# uniform函数的格式为np.random.uniform(最小值,最大值,维度)\n",
    "# uniform函数的参数维度可以是一个整数，也可以是一个元组\n",
    "# uniform函数生成的随机数是均匀分布的\n",
    "# uniform函数生成的随机数是浮点型的\n",
    "# uniform函数生成的随机数是伪随机数，每次生成的随机数都是固定的\n",
    "np.random.seed(1012)\n",
    "np.random.uniform(1,10,(3,3))"
   ]
  },
  {
   "cell_type": "code",
   "execution_count": 78,
   "metadata": {},
   "outputs": [
    {
     "data": {
      "text/plain": [
       "array([[2, 6, 4],\n",
       "       [6, 4, 5],\n",
       "       [6, 5, 5]])"
      ]
     },
     "execution_count": 78,
     "metadata": {},
     "output_type": "execute_result"
    }
   ],
   "source": [
    "# binomial函数生成随机数\n",
    "# binomial函数可以生成一个服从二项分布的随机数\n",
    "# binomial函数的格式为np.random.binomial(试验次数,事件发生概率,维度)\n",
    "# binomial函数的参数维度可以是一个整数，也可以是一个元组\n",
    "# binomial函数生成的随机数是服从二项分布的\n",
    "# binomial函数生成的随机数是整数型的\n",
    "# binomial函数生成的随机数是伪随机数，每次生成的随机数都是固定的\n",
    "np.random.seed(1012)\n",
    "np.random.binomial(10,0.5,(3,3))"
   ]
  },
  {
   "cell_type": "code",
   "execution_count": 79,
   "metadata": {},
   "outputs": [
    {
     "data": {
      "text/plain": [
       "array([[0.03261564, 0.3533048 , 0.60569235],\n",
       "       [0.57877393, 0.74355064, 0.73998427],\n",
       "       [0.90775507, 0.22959591, 0.21336338]])"
      ]
     },
     "execution_count": 79,
     "metadata": {},
     "output_type": "execute_result"
    }
   ],
   "source": [
    "# beta函数生成随机数\n",
    "# beta函数可以生成一个服从beta分布的随机数\n",
    "# beta函数的格式为np.random.beta(α,β,维度)\n",
    "# beta函数的参数维度可以是一个整数，也可以是一个元组\n",
    "# beta函数生成的随机数是服从beta分布的\n",
    "# beta函数生成的随机数是浮点型的\n",
    "# beta函数生成的随机数是伪随机数，每次生成的随机数都是固定的\n",
    "np.random.seed(1012)\n",
    "np.random.beta(1,1,(3,3))"
   ]
  },
  {
   "cell_type": "code",
   "execution_count": 80,
   "metadata": {},
   "outputs": [
    {
     "data": {
      "text/plain": [
       "array([[0.02709308, 1.57405302, 0.29084006],\n",
       "       [1.59585973, 0.36703588, 0.82629468],\n",
       "       [1.03649368, 0.70935984, 0.50937485]])"
      ]
     },
     "execution_count": 80,
     "metadata": {},
     "output_type": "execute_result"
    }
   ],
   "source": [
    "# gamma函数生成随机数\n",
    "# gamma函数可以生成一个服从gamma分布的随机数\n",
    "# gamma函数的格式为np.random.gamma(α,β,维度)\n",
    "# gamma函数的参数维度可以是一个整数，也可以是一个元组\n",
    "# gamma函数生成的随机数是服从gamma分布的\n",
    "# gamma函数生成的随机数是浮点型的\n",
    "# gamma函数生成的随机数是伪随机数，每次生成的随机数都是固定的\n",
    "np.random.seed(1012)\n",
    "np.random.gamma(1,1,(3,3))"
   ]
  },
  {
   "cell_type": "code",
   "execution_count": 81,
   "metadata": {},
   "outputs": [
    {
     "data": {
      "text/plain": [
       "array([[0, 1, 1],\n",
       "       [1, 1, 0],\n",
       "       [1, 1, 1]])"
      ]
     },
     "execution_count": 81,
     "metadata": {},
     "output_type": "execute_result"
    }
   ],
   "source": [
    "# poisson函数生成随机数\n",
    "# poisson函数可以生成一个服从泊松分布的随机数\n",
    "# poisson函数的格式为np.random.poisson(λ,维度)\n",
    "# poisson函数的参数维度可以是一个整数，也可以是一个元组\n",
    "# poisson函数生成的随机数是服从泊松分布的\n",
    "# poisson函数生成的随机数是整数型的\n",
    "# poisson函数生成的随机数是伪随机数，每次生成的随机数都是固定的\n",
    "np.random.seed(1012)\n",
    "np.random.poisson(1,(3,3))"
   ]
  },
  {
   "cell_type": "code",
   "execution_count": 82,
   "metadata": {},
   "outputs": [
    {
     "data": {
      "text/plain": [
       "array([[1.42891665e-03, 1.27375938e-01, 1.88762374e-01],\n",
       "       [9.02289913e-01, 3.18607760e-01, 5.95243681e-01],\n",
       "       [1.81308214e+00, 9.24319131e-01, 3.25810225e-01]])"
      ]
     },
     "execution_count": 82,
     "metadata": {},
     "output_type": "execute_result"
    }
   ],
   "source": [
    "# chisquare函数生成随机数\n",
    "# chisquare函数可以生成一个服从卡方分布的随机数\n",
    "# chisquare函数的格式为np.random.chisquare(自由度,维度)\n",
    "# chisquare函数的参数维度可以是一个整数，也可以是一个元组\n",
    "# chisquare函数生成的随机数是服从卡方分布的\n",
    "# chisquare函数生成的随机数是浮点型的\n",
    "# chisquare函数生成的随机数是伪随机数，每次生成的随机数都是固定的\n",
    "np.random.seed(1012)\n",
    "np.random.chisquare(1,(3,3))"
   ]
  }
 ],
 "metadata": {
  "kernelspec": {
   "display_name": "tf_env",
   "language": "python",
   "name": "python3"
  },
  "language_info": {
   "codemirror_mode": {
    "name": "ipython",
    "version": 3
   },
   "file_extension": ".py",
   "mimetype": "text/x-python",
   "name": "python",
   "nbconvert_exporter": "python",
   "pygments_lexer": "ipython3",
   "version": "3.9.16"
  },
  "orig_nbformat": 4
 },
 "nbformat": 4,
 "nbformat_minor": 2
}
